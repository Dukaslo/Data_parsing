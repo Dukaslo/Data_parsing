{
 "cells": [
  {
   "cell_type": "code",
   "execution_count": 1,
   "id": "3129cb1d",
   "metadata": {},
   "outputs": [],
   "source": [
    "import warnings\n",
    "warnings.filterwarnings('ignore')"
   ]
  },
  {
   "cell_type": "code",
   "execution_count": 3,
   "id": "8582ccb9",
   "metadata": {},
   "outputs": [],
   "source": [
    "import requests\n",
    "import numpy as np\n",
    "import pandas as pd\n",
    "import time\n",
    "import re"
   ]
  },
  {
   "cell_type": "markdown",
   "id": "15406fb9",
   "metadata": {},
   "source": [
    "# Установление связи с сайтом"
   ]
  },
  {
   "cell_type": "code",
   "execution_count": 3,
   "id": "a58044eb",
   "metadata": {},
   "outputs": [],
   "source": [
    "# Ссылка на страницу с книгами\n",
    "\n",
    "page_link = 'https://exler.ru/films/?sort=-rating_exler&page=1'"
   ]
  },
  {
   "cell_type": "code",
   "execution_count": 4,
   "id": "908a15ea",
   "metadata": {},
   "outputs": [
    {
     "data": {
      "text/plain": [
       "'Mozilla/5.0 (iPad; U; CPU OS 3_2 like Mac OS X; es-es) AppleWebKit/531.21.10 (KHTML, like Gecko) Version/4.0.4 Mobile/7B360 Safari/531.21.10'"
      ]
     },
     "execution_count": 4,
     "metadata": {},
     "output_type": "execute_result"
    }
   ],
   "source": [
    "# Загрузим фейкового юзерагента\n",
    "\n",
    "from fake_useragent import UserAgent\n",
    "\n",
    "UserAgent().safari"
   ]
  },
  {
   "cell_type": "code",
   "execution_count": 5,
   "id": "af73eda6",
   "metadata": {},
   "outputs": [
    {
     "data": {
      "text/plain": [
       "<Response [200]>"
      ]
     },
     "execution_count": 5,
     "metadata": {},
     "output_type": "execute_result"
    }
   ],
   "source": [
    "# Запрос к сайту с использованием фейкового юзерагента\n",
    "\n",
    "response = requests.get(page_link, headers={'User-Agent': UserAgent().chrome})\n",
    "response"
   ]
  },
  {
   "cell_type": "markdown",
   "id": "ab4d9e58",
   "metadata": {},
   "source": [
    "Наш запрос удался. Посмотрим что он выводит"
   ]
  },
  {
   "cell_type": "code",
   "execution_count": 6,
   "id": "5a3aa44f",
   "metadata": {},
   "outputs": [
    {
     "data": {
      "text/plain": [
       "b'<!DOCTYPE html>\\n<html lang=\"ru-RU\">\\n<head>\\n        <meta http-equiv=\"Content-Type\" content=\"text/html; charset=utf-8\"/>\\n    <meta name=\"apple-mobile-web-app-capable\" content=\"yes\">\\n    <meta name=\"format-detection\" content=\"telephone=no\">\\n    <meta name=\"viewport\" content=\"width=device-width, initial-scale=1\">\\n    <title>\\xd0\\x9a\\xd0\\xb8\\xd0\\xbd\\xd0\\xbe\\xd1\\x80\\xd0\\xb5\\xd1\\x86\\xd0\\xb5\\xd0\\xbd\\xd0\\xb7\\xd0\\xb8\\xd0\\xb8</title>\\n        <link href=\"https://fonts.googleapis.com/css?family=PT+Sans:400,400i,700,700i&display=swap&subset=cyrillic,cyrillic-ext,latin-ext\" rel=\"stylesheet\">\\n    <link href=\"/css/bootstrap.css\" rel=\"stylesheet\">\\n<link href=\"/css/breakpoints.css\" rel=\"stylesheet\">\\n<link href=\"/css/jquery.scrollbar.css\" rel=\"stylesheet\">\\n<link href=\"/js/fancybox/jquery.fancybox.css\" rel=\"stylesheet\">\\n<link href=\"/css/jquery.formstyler.css\" rel=\"stylesheet\">\\n<link href=\"/css/slick.css\" rel=\"stylesheet\">\\n<link href=\"/css/style.css?v5\" rel=\"stylesheet\">\\n<link href=\"/css/custom.css?v5\" rel=\"stylesheet\">\\n<link href=\"/twentytwenty/css/twentytwenty.css\" rel=\"styl'"
      ]
     },
     "execution_count": 6,
     "metadata": {},
     "output_type": "execute_result"
    }
   ],
   "source": [
    "html = response.content\n",
    "html[:1000]"
   ]
  },
  {
   "cell_type": "code",
   "execution_count": 7,
   "id": "adf630ad",
   "metadata": {},
   "outputs": [
    {
     "name": "stdout",
     "output_type": "stream",
     "text": [
      "<!DOCTYPE html>\n",
      "<html lang=\"ru-RU\">\n",
      " <head>\n",
      "  <meta content=\"text/html; charset=utf-8\" http-equiv=\"Content-Type\"/>\n",
      "  <meta content=\"yes\" name=\"apple-mobile-web-app-capable\"/>\n",
      "  <meta content=\"telephone=no\" name=\"format-detection\"/>\n",
      "  <meta content=\"width=device-width, initial-scale=1\" name=\"viewport\"/>\n",
      "  <title>\n",
      "   Кинорецензии\n",
      "  </title>\n",
      "  <link href=\"https://fonts.googleapis.com/css?family=PT+Sans:400,400i,700,700i&amp;display=swap&amp;subset=cyrillic,cyrillic-ext,latin-ext\" rel=\"stylesheet\"/>\n",
      "  <link href=\"/css/bootstrap.css\" rel=\"stylesheet\"/>\n",
      "  <link href=\"/css/breakpoints.css\" rel=\"stylesheet\"/>\n",
      "  <link href=\"/css/jquery.scrollbar.css\" rel=\"stylesheet\"/>\n",
      "  <link href=\"/js/fancybox/jquery.fancybox.css\" rel=\"stylesheet\"/>\n",
      "  <link href=\"/css/jquery.formstyler.css\" rel=\"stylesheet\"/>\n",
      "  <link href=\"/css/slick.css\" rel=\"stylesheet\"/>\n",
      "  <link href=\"/css/style.css?v5\" rel=\"stylesheet\"/>\n",
      "  <link href=\"/css/custom.css?v5\" rel=\"stylesheet\"/>\n",
      "  <link href=\"/twentytwenty/css/twentytwenty.css\" rel=\"stylesheet\"/>\n",
      "  <link href=\"/3dpart/plyr/css/plyr.css\" rel=\"stylesheet\"/>\n",
      "  <script src=\"/js/jquery-2.2.4.min.js\">\n",
      "  </script>\n",
      "  <!--[if lt IE 9]>\n",
      "<script src=\"/assets/74359ad7/dist/html5shiv.min.js\"></script>\n",
      "<![endif]-->\n",
      "  <script src=\"/assets/26aeaa8f/yii.js\">\n",
      "  </script>\n",
      "  <script src=\"/js/jquery.easing.1.3.js\">\n",
      "  </script>\n",
      "  <script src=\"/js/bootstrap.js\">\n",
      "  </script>\n",
      "  <script src=\"/js/slick.js\">\n",
      "  </script>\n",
      "  <script src=\"/js/jquery.scrollbar.js\">\n",
      "  </script>\n",
      "  <script src=\"/js/jquery.formstyler.js\">\n",
      "  </script>\n",
      "  <script src=\"/js/jquery.matchHeight.js\">\n",
      "  </script>\n",
      "  <script src=\"/js/fancybox/jquery.fancybox.pack.js\">\n",
      "  </script>\n",
      "  <script src=\"/js/main.js?25\">\n",
      "  </script>\n",
      "  <script src=\"/twentytwenty/js/jquery.event.move.js\">\n",
      "  </script>\n",
      "  <script src=\"/twentytwenty/js/jquery.twentytwenty.js\">\n",
      "  </script>\n",
      "  <script src=\"/3dpart/plyr/js/plyr.js\">\n",
      "  </script>\n",
      "  <script>\n",
      "   var adfox = \"0\"\n",
      "  </script>\n",
      "  <meta content=\"_csrf\" name=\"csrf-param\"/>\n",
      "  <meta content=\"5HRDZwGBhPdp\n"
     ]
    }
   ],
   "source": [
    "# Импортируем суп и через него посмотрим на вывод нашего запроса\n",
    "\n",
    "from bs4 import BeautifulSoup\n",
    "\n",
    "soup = BeautifulSoup(html, 'html.parser')\n",
    "\n",
    "print(soup.prettify()[:2000])"
   ]
  },
  {
   "cell_type": "code",
   "execution_count": 8,
   "id": "8e0fddb7",
   "metadata": {},
   "outputs": [
    {
     "data": {
      "text/plain": [
       "<title>Кинорецензии</title>"
      ]
     },
     "execution_count": 8,
     "metadata": {},
     "output_type": "execute_result"
    }
   ],
   "source": [
    "soup.html.head.title"
   ]
  },
  {
   "cell_type": "markdown",
   "id": "0f14a88d",
   "metadata": {},
   "source": [
    "# Получание ссылок на следующие страницы"
   ]
  },
  {
   "cell_type": "code",
   "execution_count": 20,
   "id": "c882d862",
   "metadata": {},
   "outputs": [
    {
     "data": {
      "text/plain": [
       "<div class=\"film-item\">\n",
       "<div class=\"film-item-block\">\n",
       "<div class=\"film-item-img crop-film-item-img\">\n",
       "<a href=\"/films/nastoyashij-detektiv-2.htm\">\n",
       "<img alt=\"\" src=\"/films/images/07-12-2015/1.jpg\"/> <div class=\"custom-item-mark\">\n",
       "                            9.0                        </div>\n",
       "</a>\n",
       "</div>\n",
       "<div class=\"film-title-header\">\n",
       "<div class=\"film-title\">\n",
       "<a href=\"/films/nastoyashij-detektiv-2.htm\">\n",
       "                    Настоящий детектив 2                                          <span>/</span> True Detective 2                                    </a>\n",
       "</div>\n",
       "<div class=\"exler-reit\">Рейтинг Экслера: <b>9.0</b></div>\n",
       "</div>\n",
       "<div class=\"film-info\">\n",
       "<dl class=\"dl-horizontal\">\n",
       "<dt>\n",
       "                        Режиссер:\n",
       "                    </dt>\n",
       "<dd>\n",
       "<a href=\"/films/cast/Nik_Piccolatto\">Ник Пиццолатто</a> </dd>\n",
       "</dl>\n",
       "<dl class=\"dl-horizontal\">\n",
       "<dt>\n",
       "                        В ролях:\n",
       "                    </dt>\n",
       "<dd>\n",
       "<a href=\"/films/cast/Dzhejms_Frejn\">Джеймс Фрейн</a>, <a href=\"/films/cast/Afemo_Omilami\">Афемо Омилами</a>, <a href=\"/films/cast/Timoti_Vi_Merfi\">Тимоти Ви Мерфи</a>, <a href=\"/films/cast/Richi_Koster\">Ричи Костер</a>, <a href=\"/films/cast/CHarli_Li\">Чарли Ли</a>, <a href=\"/films/cast/Rik_Springfild\">Рик Спрингфилд</a>, <a href=\"/films/cast/Livjen_Rambin\">Ливэн Рамбин</a>, <a href=\"/films/cast/JEbigejl_Spenser\">Эбигейл Спенсер</a>, <a href=\"/films/cast/Djevid_Mors\">Дэвид Морс</a>, <a href=\"/films/cast/JErl_Braun\">Эрл Браун</a>, <a href=\"/films/cast/Majkl_Irbi\">Майкл Ирби</a>, <a href=\"/films/cast/Rjejchel_MakAdams\">Рэйчел МакАдамс</a>, <a href=\"/films/cast/Kelli_Rajlli\">Келли Райлли</a>, <a href=\"/films/cast/Lolita_Davidovich\">Лолита Давидович</a>, <a href=\"/films/cast/Kolin_Farrell\">Колин Фаррелл</a>, <a href=\"/films/cast/Vins_Von\">Винс Вон</a>, <a href=\"/films/cast/Tjejlor_Kitch\">Тэйлор Китч</a> </dd>\n",
       "</dl>\n",
       "</div>\n",
       "<div class=\"film-review\">\n",
       "<div class=\"film-review-text\">\n",
       "                    Второй сезон - совершенно другой.<br/> Но он ничуть не хуже.<br/> <i>Отзыв кота Бублика</i> </div>\n",
       "</div>\n",
       "<div class=\"blog-item-actions clearfix\">\n",
       "<div class=\"custom-action-item\">\n",
       "<a class=\"custom-item-comments\" href=\"/films/nastoyashij-detektiv-2.htm#comments\">\n",
       "<i class=\"icon-comments\"></i> Комментарии <span>(<span id=\"comments_count_inline\">70</span>)</span>\n",
       "</a>\n",
       "</div>\n",
       "<div class=\"sep hidden-lg hidden-md hidden-sm\"></div>\n",
       "<div class=\"custom-action-item tag-link\">\n",
       "<i class=\"custom-icon icon-tag\"></i>\n",
       "<a href=\"/films/genre/serial\">Сериал</a>,\n",
       "                                                    <a href=\"/films/country/ssha\">США</a>,\n",
       "                                                    <a href=\"/films/year/2015\">2015</a> </div>\n",
       "<a class=\"custom-item-watch\" href=\"/films/nastoyashij-detektiv-2.htm\">\n",
       "<i class=\"icon-eye\"></i> 55453            </a>\n",
       "<div class=\"custom-action-item\">\n",
       "<div class=\"blog-item-date\">\n",
       "                    07.12.2015                </div>\n",
       "</div>\n",
       "</div>\n",
       "</div>\n",
       "</div>"
      ]
     },
     "execution_count": 20,
     "metadata": {},
     "output_type": "execute_result"
    }
   ],
   "source": [
    "# Для начала найдём ссылку на след. страницу\n",
    "\n",
    "obj = soup.find(lambda tag: tag.name == 'div' and tag.get('class') == ['film-item'])\n",
    "obj"
   ]
  },
  {
   "cell_type": "code",
   "execution_count": 24,
   "id": "9057f921",
   "metadata": {},
   "outputs": [
    {
     "data": {
      "text/plain": [
       "'/films/nastoyashij-detektiv-2.htm'"
      ]
     },
     "execution_count": 24,
     "metadata": {},
     "output_type": "execute_result"
    }
   ],
   "source": [
    "# Теперь попробуем вытащить ссылку \n",
    "\n",
    "link = obj.find('div', class_ = 'film-item-img crop-film-item-img').find('a')['href']\n",
    "link"
   ]
  },
  {
   "cell_type": "markdown",
   "id": "47e52eda",
   "metadata": {},
   "source": [
    "Код работает, первая ссылка получена. Теперь получим остальные ссылки на этой странице"
   ]
  },
  {
   "cell_type": "code",
   "execution_count": 28,
   "id": "011c3612",
   "metadata": {
    "scrolled": true
   },
   "outputs": [
    {
     "data": {
      "text/plain": [
       "[<div class=\"film-item\">\n",
       " <div class=\"film-item-block\">\n",
       " <div class=\"film-item-img crop-film-item-img\">\n",
       " <a href=\"/films/nastoyashij-detektiv-2.htm\">\n",
       " <img alt=\"\" src=\"/films/images/07-12-2015/1.jpg\"/> <div class=\"custom-item-mark\">\n",
       "                             9.0                        </div>\n",
       " </a>\n",
       " </div>\n",
       " <div class=\"film-title-header\">\n",
       " <div class=\"film-title\">\n",
       " <a href=\"/films/nastoyashij-detektiv-2.htm\">\n",
       "                     Настоящий детектив 2                                          <span>/</span> True Detective 2                                    </a>\n",
       " </div>\n",
       " <div class=\"exler-reit\">Рейтинг Экслера: <b>9.0</b></div>\n",
       " </div>\n",
       " <div class=\"film-info\">\n",
       " <dl class=\"dl-horizontal\">\n",
       " <dt>\n",
       "                         Режиссер:\n",
       "                     </dt>\n",
       " <dd>\n",
       " <a href=\"/films/cast/Nik_Piccolatto\">Ник Пиццолатто</a> </dd>\n",
       " </dl>\n",
       " <dl class=\"dl-horizontal\">\n",
       " <dt>\n",
       "                         В ролях:\n",
       "                     </dt>\n",
       " <dd>\n",
       " <a href=\"/films/cast/Dzhejms_Frejn\">Джеймс Фрейн</a>, <a href=\"/films/cast/Afemo_Omilami\">Афемо Омилами</a>, <a href=\"/films/cast/Timoti_Vi_Merfi\">Тимоти Ви Мерфи</a>, <a href=\"/films/cast/Richi_Koster\">Ричи Костер</a>, <a href=\"/films/cast/CHarli_Li\">Чарли Ли</a>, <a href=\"/films/cast/Rik_Springfild\">Рик Спрингфилд</a>, <a href=\"/films/cast/Livjen_Rambin\">Ливэн Рамбин</a>, <a href=\"/films/cast/JEbigejl_Spenser\">Эбигейл Спенсер</a>, <a href=\"/films/cast/Djevid_Mors\">Дэвид Морс</a>, <a href=\"/films/cast/JErl_Braun\">Эрл Браун</a>, <a href=\"/films/cast/Majkl_Irbi\">Майкл Ирби</a>, <a href=\"/films/cast/Rjejchel_MakAdams\">Рэйчел МакАдамс</a>, <a href=\"/films/cast/Kelli_Rajlli\">Келли Райлли</a>, <a href=\"/films/cast/Lolita_Davidovich\">Лолита Давидович</a>, <a href=\"/films/cast/Kolin_Farrell\">Колин Фаррелл</a>, <a href=\"/films/cast/Vins_Von\">Винс Вон</a>, <a href=\"/films/cast/Tjejlor_Kitch\">Тэйлор Китч</a> </dd>\n",
       " </dl>\n",
       " </div>\n",
       " <div class=\"film-review\">\n",
       " <div class=\"film-review-text\">\n",
       "                     Второй сезон - совершенно другой.<br/> Но он ничуть не хуже.<br/> <i>Отзыв кота Бублика</i> </div>\n",
       " </div>\n",
       " <div class=\"blog-item-actions clearfix\">\n",
       " <div class=\"custom-action-item\">\n",
       " <a class=\"custom-item-comments\" href=\"/films/nastoyashij-detektiv-2.htm#comments\">\n",
       " <i class=\"icon-comments\"></i> Комментарии <span>(<span id=\"comments_count_inline\">70</span>)</span>\n",
       " </a>\n",
       " </div>\n",
       " <div class=\"sep hidden-lg hidden-md hidden-sm\"></div>\n",
       " <div class=\"custom-action-item tag-link\">\n",
       " <i class=\"custom-icon icon-tag\"></i>\n",
       " <a href=\"/films/genre/serial\">Сериал</a>,\n",
       "                                                     <a href=\"/films/country/ssha\">США</a>,\n",
       "                                                     <a href=\"/films/year/2015\">2015</a> </div>\n",
       " <a class=\"custom-item-watch\" href=\"/films/nastoyashij-detektiv-2.htm\">\n",
       " <i class=\"icon-eye\"></i> 55453            </a>\n",
       " <div class=\"custom-action-item\">\n",
       " <div class=\"blog-item-date\">\n",
       "                     07.12.2015                </div>\n",
       " </div>\n",
       " </div>\n",
       " </div>\n",
       " </div>,\n",
       " <div class=\"film-item\">\n",
       " <div class=\"film-item-block\">\n",
       " <div class=\"film-item-img crop-film-item-img\">\n",
       " <a href=\"/films/nastoyashij-detektiv-1.htm\">\n",
       " <img alt=\"\" src=\"/films/images/10-11-2014/1.jpg\"/> <div class=\"custom-item-mark\">\n",
       "                             9.0                        </div>\n",
       " </a>\n",
       " </div>\n",
       " <div class=\"film-title-header\">\n",
       " <div class=\"film-title\">\n",
       " <a href=\"/films/nastoyashij-detektiv-1.htm\">\n",
       "                     Настоящий детектив                                          <span>/</span> True Detective                                    </a>\n",
       " </div>\n",
       " <div class=\"exler-reit\">Рейтинг Экслера: <b>9.0</b></div>\n",
       " </div>\n",
       " <div class=\"film-info\">\n",
       " <dl class=\"dl-horizontal\">\n",
       " <dt>\n",
       "                         Режиссер:\n",
       "                     </dt>\n",
       " <dd>\n",
       " <a href=\"/films/cast/Kjeri_Fukunaga\">Кэри Фукунага</a> </dd>\n",
       " </dl>\n",
       " <dl class=\"dl-horizontal\">\n",
       " <dt>\n",
       "                         В ролях:\n",
       "                     </dt>\n",
       " <dd>\n",
       " <a href=\"/films/cast/Aleksandra_Daddario\">Александра Даддарио</a>, <a href=\"/films/cast/Mishel_Monahjen\">Мишель Монахэн</a>, <a href=\"/films/cast/Mjettju_MakKonahi\">Мэттью МакКонахи</a>, <a href=\"/films/cast/Vudi_Harrelson\">Вуди Харрельсон</a>, <a href=\"/films/cast/Pol_Ben_Viktor\">Пол Бен-Виктор</a>, <a href=\"/films/cast/Majkl_Potts\">Майкл Поттс</a>, <a href=\"/films/cast/Tori_Kittlz\">Тори Киттлз</a>, <a href=\"/films/cast/SHi_Uighjem\">Ши Уигхэм</a>, <a href=\"/films/cast/Kevin_Dann\">Кевин Данн</a>, <a href=\"/films/cast/Dzhej_Sjenders\">Джей Сэндерс</a> </dd>\n",
       " </dl>\n",
       " </div>\n",
       " <div class=\"film-review\">\n",
       " <div class=\"film-review-text\">\n",
       "                     Невероятно атмосферный сериал.<br/> <i>Кот Бублик, который давно мечтал <br/> ввернуть слово \"атмосферный\". </i> </div>\n",
       " </div>\n",
       " <div class=\"blog-item-actions clearfix\">\n",
       " <div class=\"custom-action-item\">\n",
       " <a class=\"custom-item-comments\" href=\"/films/nastoyashij-detektiv-1.htm#comments\">\n",
       " <i class=\"icon-comments\"></i> Комментарии <span>(<span id=\"comments_count_inline\">99</span>)</span>\n",
       " </a>\n",
       " </div>\n",
       " <div class=\"sep hidden-lg hidden-md hidden-sm\"></div>\n",
       " <div class=\"custom-action-item tag-link\">\n",
       " <i class=\"custom-icon icon-tag\"></i>\n",
       " <a href=\"/films/genre/serial\">Сериал</a>,\n",
       "                                                     <a href=\"/films/country/ssha\">США</a>,\n",
       "                                                     <a href=\"/films/year/2014\">2014</a> </div>\n",
       " <a class=\"custom-item-watch\" href=\"/films/nastoyashij-detektiv-1.htm\">\n",
       " <i class=\"icon-eye\"></i> 80138            </a>\n",
       " <div class=\"custom-action-item\">\n",
       " <div class=\"blog-item-date\">\n",
       "                     10.11.2014                </div>\n",
       " </div>\n",
       " </div>\n",
       " </div>\n",
       " </div>,\n",
       " <div class=\"film-item\">\n",
       " <div class=\"film-item-block\">\n",
       " <div class=\"film-item-img crop-film-item-img\">\n",
       " <a href=\"/films/horas-i-pit.htm\">\n",
       " <img alt=\"\" src=\"/films/images/22-12-2016/1.jpg\"/> <div class=\"custom-item-mark\">\n",
       "                             9.0                        </div>\n",
       " </a>\n",
       " </div>\n",
       " <div class=\"film-title-header\">\n",
       " <div class=\"film-title\">\n",
       " <a href=\"/films/horas-i-pit.htm\">\n",
       "                     Хорас и Пит                                          <span>/</span> Horace and Pete                                    </a>\n",
       " </div>\n",
       " <div class=\"exler-reit\">Рейтинг Экслера: <b>9.0</b></div>\n",
       " </div>\n",
       " <div class=\"film-info\">\n",
       " <dl class=\"dl-horizontal\">\n",
       " <dt>\n",
       "                         Режиссер:\n",
       "                     </dt>\n",
       " <dd>\n",
       " <a href=\"/films/cast/Lui_Si_Kej\">Луи Си Кей</a> </dd>\n",
       " </dl>\n",
       " <dl class=\"dl-horizontal\">\n",
       " <dt>\n",
       "                         В ролях:\n",
       "                     </dt>\n",
       " <dd>\n",
       " <a href=\"/films/cast/Stiv_Bushemi\">Стив Бушеми</a>, <a href=\"/films/cast/Stiven_Rajt\">Стивен Райт</a>, <a href=\"/films/cast/Lui_Si_Kej\">Луи Си Кей</a>, <a href=\"/films/cast/Idi_Falko\">Иди Фалько</a>, <a href=\"/films/cast/Kurt_Mecger\">Курт Мецгер</a>, <a href=\"/films/cast/Alan_Alda\">Алан Алда</a>, <a href=\"/films/cast/Dzhessika_Ljeng\">Джессика Лэнг</a>, <a href=\"/films/cast/JEjdi_Brajant\">Эйди Брайант</a>, <a href=\"/films/cast/Lisa_Trejger\">Лиса Трейгер</a>, <a href=\"/films/cast/Marija_Dizzija\">Мария Диззия</a>, <a href=\"/films/cast/Tom_Nunen\">Том Нунен</a>, <a href=\"/films/cast/Karen_Pittman\">Карен Питтман</a>, <a href=\"/films/cast/Lori_Metkaf\">Лори Меткаф</a> </dd>\n",
       " </dl>\n",
       " </div>\n",
       " <div class=\"film-review\">\n",
       " <div class=\"film-review-text\">\n",
       " <p>Просто чудесно.<br/> <i>Развернутый отзыв кота Бублика</i></p> </div>\n",
       " </div>\n",
       " <div class=\"blog-item-actions clearfix\">\n",
       " <div class=\"custom-action-item\">\n",
       " <a class=\"custom-item-comments\" href=\"/films/horas-i-pit.htm#comments\">\n",
       " <i class=\"icon-comments\"></i> Комментарии <span>(<span id=\"comments_count_inline\">46</span>)</span>\n",
       " </a>\n",
       " </div>\n",
       " <div class=\"sep hidden-lg hidden-md hidden-sm\"></div>\n",
       " <div class=\"custom-action-item tag-link\">\n",
       " <i class=\"custom-icon icon-tag\"></i>\n",
       " <a href=\"/films/genre/serial\">Сериал</a>,\n",
       "                                                     <a href=\"/films/country/ssha\">США</a>,\n",
       "                                                     <a href=\"/films/year/2016\">2016</a> </div>\n",
       " <a class=\"custom-item-watch\" href=\"/films/horas-i-pit.htm\">\n",
       " <i class=\"icon-eye\"></i> 40423            </a>\n",
       " <div class=\"custom-action-item\">\n",
       " <div class=\"blog-item-date\">\n",
       "                     22.12.2016                </div>\n",
       " </div>\n",
       " </div>\n",
       " </div>\n",
       " </div>,\n",
       " <div class=\"film-item\">\n",
       " <div class=\"film-item-block\">\n",
       " <div class=\"film-item-img crop-film-item-img\">\n",
       " <a href=\"/films/hod-korolevy.htm\">\n",
       " <img alt=\"\" src=\"/img/films/30-11-2020/1.jpg\"/> <div class=\"custom-item-mark\">\n",
       "                             9.0                        </div>\n",
       " </a>\n",
       " </div>\n",
       " <div class=\"film-title-header\">\n",
       " <div class=\"film-title\">\n",
       " <a href=\"/films/hod-korolevy.htm\">\n",
       "                     Ход королевы                                          <span>/</span> The Queen's Gambit                                    </a>\n",
       " </div>\n",
       " <div class=\"exler-reit\">Рейтинг Экслера: <b>9.0</b></div>\n",
       " </div>\n",
       " <div class=\"film-info\">\n",
       " <dl class=\"dl-horizontal\">\n",
       " <dt>\n",
       "                         Режиссер:\n",
       "                     </dt>\n",
       " <dd>\n",
       " <a href=\"/films/cast/Skott_Frjenk\">Скотт Фрэнк</a>, <a href=\"/films/cast/Allan_Skott\">Аллан Скотт</a> </dd>\n",
       " </dl>\n",
       " <dl class=\"dl-horizontal\">\n",
       " <dt>\n",
       "                         В ролях:\n",
       "                     </dt>\n",
       " <dd>\n",
       " <a href=\"/films/cast/Anja_Tejlor_Dzhoj\">Аня Тейлор-Джой</a>, <a href=\"/films/cast/Marijel_Heller\">Мариэль Хеллер</a>, <a href=\"/films/cast/Mouses_Ingrjem\">Моусес Ингрэм</a>, <a href=\"/films/cast/Ajla_Dzhonston\">Айла Джонстон</a>, <a href=\"/films/cast/Bill_Kjemp\">Билл Кэмп</a>, <a href=\"/films/cast/Garri_Melling\">Гарри Меллинг</a>, <a href=\"/films/cast/Tomas_Sjengster\">Томас Сэнгстер</a>, <a href=\"/films/cast/Dzhejkob_Forchun_Llojd\">Джейкоб Форчун-Ллойд</a>, <a href=\"/films/cast/Mjettju_Djennis_Ljuis\">Мэттью Дэннис Льюис</a>, <a href=\"/films/cast/Rassel_Ljuis\">Рассел Льюис</a>, <a href=\"/films/cast/Marchin_Dorochinskij\">Марчин Дорочиньский</a>, <a href=\"/films/cast/Mouzes_Ingram\">Моузес Инграм</a>, <a href=\"/films/cast/Patrik_Kennedi\">Патрик Кеннеди</a>, <a href=\"/films/cast/JUozas_Budrajtis\">Юозас Будрайтис</a> </dd>\n",
       " </dl>\n",
       " </div>\n",
       " <div class=\"film-review\">\n",
       " <div class=\"film-review-text\">\n",
       "                     Практически шедевр.<br/>\n",
       " <i>Отзыв кота Бублика</i> </div>\n",
       " </div>\n",
       " <div class=\"blog-item-actions clearfix\">\n",
       " <div class=\"custom-action-item\">\n",
       " <a class=\"custom-item-comments\" href=\"/films/hod-korolevy.htm#comments\">\n",
       " <i class=\"icon-comments\"></i> Комментарии <span>(<span id=\"comments_count_inline\">287</span>)</span>\n",
       " </a>\n",
       " </div>\n",
       " <div class=\"sep hidden-lg hidden-md hidden-sm\"></div>\n",
       " <div class=\"custom-action-item tag-link\">\n",
       " <i class=\"custom-icon icon-tag\"></i>\n",
       " <a href=\"/films/genre/serial\">Сериал</a>,\n",
       "                                                     <a href=\"/films/country/ssha\">США</a>,\n",
       "                                                     <a href=\"/films/year/2020\">2020</a> </div>\n",
       " <a class=\"custom-item-watch\" href=\"/films/hod-korolevy.htm\">\n",
       " <i class=\"icon-eye\"></i> 103899            </a>\n",
       " <div class=\"custom-action-item\">\n",
       " <div class=\"blog-item-date\">\n",
       "                     30.11.2020                </div>\n",
       " </div>\n",
       " </div>\n",
       " </div>\n",
       " </div>,\n",
       " <div class=\"film-item\">\n",
       " <div class=\"film-item-block\">\n",
       " <div class=\"film-item-img crop-film-item-img\">\n",
       " <a href=\"/films/roma-1.htm\">\n",
       " <img alt=\"\" src=\"/img/films/14-09-2020/1.jpg\"/> <div class=\"custom-item-mark\">\n",
       "                             9.0                        </div>\n",
       " </a>\n",
       " </div>\n",
       " <div class=\"film-title-header\">\n",
       " <div class=\"film-title\">\n",
       " <a href=\"/films/roma-1.htm\">\n",
       "                     Рома                                          <span>/</span> Roma                                    </a>\n",
       " </div>\n",
       " <div class=\"exler-reit\">Рейтинг Экслера: <b>9.0</b></div>\n",
       " </div>\n",
       " <div class=\"film-info\">\n",
       " <dl class=\"dl-horizontal\">\n",
       " <dt>\n",
       "                         Режиссер:\n",
       "                     </dt>\n",
       " <dd>\n",
       " <a href=\"/films/cast/Alfonso_Kuaron\">Альфонсо Куарон</a> </dd>\n",
       " </dl>\n",
       " <dl class=\"dl-horizontal\">\n",
       " <dt>\n",
       "                         В ролях:\n",
       "                     </dt>\n",
       " <dd>\n",
       " <a href=\"/films/cast/JAlica_Aparisio\">Ялица Апарисио</a>, <a href=\"/films/cast/Marina_De_Tavira\">Марина Де Тавира</a>, <a href=\"/films/cast/Diego_Kortina_Otri\">Диего Кортина Отри</a>, <a href=\"/films/cast/Karlos_Peralta\">Карлос Перальта</a>, <a href=\"/films/cast/Marko_Graf\">Марко Граф</a>, <a href=\"/films/cast/Danijela_Demesa\">Даниэла Демеса</a>, <a href=\"/films/cast/Njensi_Garsia_Garsia\">Нэнси Гарсиа Гарсиа</a>, <a href=\"/films/cast/Veronika_Garsia\">Вероника Гарсиа</a>, <a href=\"/films/cast/Andi_Kortes\">Анди Кортес</a>, <a href=\"/films/cast/Fernando_Grediaga\">Фернандо Гредиага</a>, <a href=\"/films/cast/Horhe_Antonio_Guerrero\">Хорхе Антонио Гуерреро</a> </dd>\n",
       " </dl>\n",
       " </div>\n",
       " <div class=\"film-review\">\n",
       " <div class=\"film-review-text\">\n",
       "                     Шедевр.<br/>\n",
       " <i>Подробный отзыв кота Бублика</i> </div>\n",
       " </div>\n",
       " <div class=\"blog-item-actions clearfix\">\n",
       " <div class=\"custom-action-item\">\n",
       " <a class=\"custom-item-comments\" href=\"/films/roma-1.htm#comments\">\n",
       " <i class=\"icon-comments\"></i> Комментарии <span>(<span id=\"comments_count_inline\">29</span>)</span>\n",
       " </a>\n",
       " </div>\n",
       " <div class=\"sep hidden-lg hidden-md hidden-sm\"></div>\n",
       " <div class=\"custom-action-item tag-link\">\n",
       " <i class=\"custom-icon icon-tag\"></i>\n",
       " <a href=\"/films/genre/drama\">Драма</a>,\n",
       "                                                     <a href=\"/films/country/meksika\">Мексика</a>,\n",
       "                                                     <a href=\"/films/year/2018\">2018</a> </div>\n",
       " <a class=\"custom-item-watch\" href=\"/films/roma-1.htm\">\n",
       " <i class=\"icon-eye\"></i> 74237            </a>\n",
       " <div class=\"custom-action-item\">\n",
       " <div class=\"blog-item-date\">\n",
       "                     14.09.2020                </div>\n",
       " </div>\n",
       " </div>\n",
       " </div>\n",
       " </div>,\n",
       " <div class=\"film-item\">\n",
       " <div class=\"film-item-block\">\n",
       " <div class=\"film-item-img crop-film-item-img\">\n",
       " <a href=\"/films/bezumnyj-maks-doroga-yarosti.htm\">\n",
       " <img alt=\"\" src=\"/films/images/28-05-2015/1.jpg\"/> <div class=\"custom-item-mark\">\n",
       "                             9.0                        </div>\n",
       " </a>\n",
       " </div>\n",
       " <div class=\"film-title-header\">\n",
       " <div class=\"film-title\">\n",
       " <a href=\"/films/bezumnyj-maks-doroga-yarosti.htm\">\n",
       "                     Безумный Макс: Дорога ярости                                          <span>/</span> Mad Max: Fury Road                                    </a>\n",
       " </div>\n",
       " <div class=\"exler-reit\">Рейтинг Экслера: <b>9.0</b></div>\n",
       " </div>\n",
       " <div class=\"film-info\">\n",
       " <dl class=\"dl-horizontal\">\n",
       " <dt>\n",
       "                         Режиссер:\n",
       "                     </dt>\n",
       " <dd>\n",
       " <a href=\"/films/cast/Dzhordzh_Miller\">Джордж Миллер</a> </dd>\n",
       " </dl>\n",
       " <dl class=\"dl-horizontal\">\n",
       " <dt>\n",
       "                         В ролях:\n",
       "                     </dt>\n",
       " <dd>\n",
       " <a href=\"/films/cast/SHarliz_Teron\">Шарлиз Терон</a>, <a href=\"/films/cast/Tom_Hardi\">Том Харди</a>, <a href=\"/films/cast/Nikolas_Holt\">Николас Холт</a>, <a href=\"/films/cast/Zoi_Kravic\">Зои Кравиц</a>, <a href=\"/films/cast/Hju_Kijas_Bern\">Хью Кияс-Берн</a>, <a href=\"/films/cast/Dzhosh_Helman\">Джош Хелман</a>, <a href=\"/films/cast/Njejtan_Dzhons\">Нэйтан Джонс</a>, <a href=\"/films/cast/Rouzi_Hantington_Uajtli\">Роузи Хантингтон-Уайтли</a>, <a href=\"/films/cast/Rajli_Kio\">Райли Кио</a>, <a href=\"/films/cast/JEbbi_Li\">Эбби Ли</a>, <a href=\"/films/cast/Richard_Karter\">Ричард Картер</a>, <a href=\"/films/cast/Dzhon_Houard\">Джон Хоуард</a> </dd>\n",
       " </dl>\n",
       " </div>\n",
       " <div class=\"film-review\">\n",
       " <div class=\"film-review-text\">\n",
       "                     Вот какую Цитадель надо снимать!<br/> Нравоучение кота Бублика                </div>\n",
       " </div>\n",
       " <div class=\"blog-item-actions clearfix\">\n",
       " <div class=\"custom-action-item\">\n",
       " <a class=\"custom-item-comments\" href=\"/films/bezumnyj-maks-doroga-yarosti.htm#comments\">\n",
       " <i class=\"icon-comments\"></i> Комментарии <span>(<span id=\"comments_count_inline\">97</span>)</span>\n",
       " </a>\n",
       " </div>\n",
       " <div class=\"sep hidden-lg hidden-md hidden-sm\"></div>\n",
       " <div class=\"custom-action-item tag-link\">\n",
       " <i class=\"custom-icon icon-tag\"></i>\n",
       " <a href=\"/films/genre/fantasticheskij-boevik\">Фантастический боевик</a>,\n",
       "                                                     <a href=\"/films/country/avstraliya\">Австралия</a>, <a href=\"/films/country/ssha\">США</a>,\n",
       "                                                     <a href=\"/films/year/2015\">2015</a> </div>\n",
       " <a class=\"custom-item-watch\" href=\"/films/bezumnyj-maks-doroga-yarosti.htm\">\n",
       " <i class=\"icon-eye\"></i> 38543            </a>\n",
       " <div class=\"custom-action-item\">\n",
       " <div class=\"blog-item-date\">\n",
       "                     28.05.2015                </div>\n",
       " </div>\n",
       " </div>\n",
       " </div>\n",
       " </div>,\n",
       " <div class=\"film-item\">\n",
       " <div class=\"film-item-block\">\n",
       " <div class=\"film-item-img crop-film-item-img\">\n",
       " <a href=\"/films/chernobyl.htm\">\n",
       " <img alt=\"\" src=\"/img/films/05-09-2019/1.jpg\"/> <div class=\"custom-item-mark\">\n",
       "                             9.0                        </div>\n",
       " </a>\n",
       " </div>\n",
       " <div class=\"film-title-header\">\n",
       " <div class=\"film-title\">\n",
       " <a href=\"/films/chernobyl.htm\">\n",
       "                     Чернобыль                                          <span>/</span> Chernobyl                                    </a>\n",
       " </div>\n",
       " <div class=\"exler-reit\">Рейтинг Экслера: <b>9.0</b></div>\n",
       " </div>\n",
       " <div class=\"film-info\">\n",
       " <dl class=\"dl-horizontal\">\n",
       " <dt>\n",
       "                         Режиссер:\n",
       "                     </dt>\n",
       " <dd>\n",
       " <a href=\"/films/cast/Johan_Renk\">Йохан Ренк</a> </dd>\n",
       " </dl>\n",
       " <dl class=\"dl-horizontal\">\n",
       " <dt>\n",
       "                         В ролях:\n",
       "                     </dt>\n",
       " <dd>\n",
       " <a href=\"/films/cast/Dzhared_Harris\">Джаред Харрис</a>, <a href=\"/films/cast/Pol_Ritter\">Пол Риттер</a>, <a href=\"/films/cast/Stellan_Skarsgard\">Стеллан Скарсгард</a>, <a href=\"/films/cast/JEmili_Uotson\">Эмили Уотсон</a>, <a href=\"/films/cast/Dzhessi_Bakli\">Джесси Бакли</a>, <a href=\"/films/cast/Adam_Nagaitis\">Адам Нагаитис</a>, <a href=\"/films/cast/Robert_JEmms\">Роберт Эммс</a>, <a href=\"/films/cast/Sjem_Troton\">Сэм Тротон</a>, <a href=\"/films/cast/Karl_Dejvis\">Карл Дейвис</a>, <a href=\"/films/cast/Majkl_Soka\">Майкл Сока</a> </dd>\n",
       " </dl>\n",
       " </div>\n",
       " <div class=\"film-review\">\n",
       " <div class=\"film-review-text\">\n",
       "                     Практически невозможно было себе представить, что американцы и британцы смогут сделать такой мощнейший сериал о чернобыльской катастрофе.<br/> <i>Восхищение кота Бублика</i> </div>\n",
       " </div>\n",
       " <div class=\"blog-item-actions clearfix\">\n",
       " <div class=\"custom-action-item\">\n",
       " <a class=\"custom-item-comments\" href=\"/films/chernobyl.htm#comments\">\n",
       " <i class=\"icon-comments\"></i> Комментарии <span>(<span id=\"comments_count_inline\">194</span>)</span>\n",
       " </a>\n",
       " </div>\n",
       " <div class=\"sep hidden-lg hidden-md hidden-sm\"></div>\n",
       " <div class=\"custom-action-item tag-link\">\n",
       " <i class=\"custom-icon icon-tag\"></i>\n",
       " <a href=\"/films/genre/serial\">Сериал</a>,\n",
       "                                                     <a href=\"/films/country/ssha\">США</a>, <a href=\"/films/country/velikobritaniya\">Великобритания</a>,\n",
       "                                                     <a href=\"/films/year/2019\">2019</a> </div>\n",
       " <a class=\"custom-item-watch\" href=\"/films/chernobyl.htm\">\n",
       " <i class=\"icon-eye\"></i> 83867            </a>\n",
       " <div class=\"custom-action-item\">\n",
       " <div class=\"blog-item-date\">\n",
       "                     05.09.2019                </div>\n",
       " </div>\n",
       " </div>\n",
       " </div>\n",
       " </div>,\n",
       " <div class=\"film-item\">\n",
       " <div class=\"film-item-block\">\n",
       " <div class=\"film-item-img crop-film-item-img\">\n",
       " <a href=\"/films/delo-richarda-dzhuella.htm\">\n",
       " <img alt=\"\" src=\"/img/films/23-06-2020/1.jpg\"/> <div class=\"custom-item-mark\">\n",
       "                             9.0                        </div>\n",
       " </a>\n",
       " </div>\n",
       " <div class=\"film-title-header\">\n",
       " <div class=\"film-title\">\n",
       " <a href=\"/films/delo-richarda-dzhuella.htm\">\n",
       "                     Дело Ричарда Джуэлла                                          <span>/</span> Richard Jewell                                    </a>\n",
       " </div>\n",
       " <div class=\"exler-reit\">Рейтинг Экслера: <b>9.0</b></div>\n",
       " </div>\n",
       " <div class=\"film-info\">\n",
       " <dl class=\"dl-horizontal\">\n",
       " <dt>\n",
       "                         Режиссер:\n",
       "                     </dt>\n",
       " <dd>\n",
       " <a href=\"/films/cast/Klint_Istvud\">Клинт Иствуд</a> </dd>\n",
       " </dl>\n",
       " <dl class=\"dl-horizontal\">\n",
       " <dt>\n",
       "                         В ролях:\n",
       "                     </dt>\n",
       " <dd>\n",
       " <a href=\"/films/cast/Pol_Uolter_Hauzer\">Пол Уолтер Хаузер</a>, <a href=\"/films/cast/Sjem_Rokujell\">Сэм Рокуэлл</a>, <a href=\"/films/cast/Kjeti_Bejts\">Кэти Бейтс</a>, <a href=\"/films/cast/Dzhon_Hjemm\">Джон Хэмм</a>, <a href=\"/films/cast/Olivija_Uajld\">Оливия Уайлд</a>, <a href=\"/films/cast/Nina_Arianda\">Нина Арианда</a>, <a href=\"/films/cast/Ijen_Gomes\">Иэн Гомес</a>, <a href=\"/films/cast/Ujejn_Djuvall\">Уэйн Дювалл</a>, <a href=\"/films/cast/Dilan_Kassman\">Дилан Кассман</a>, <a href=\"/films/cast/Majk_Pnevski\">Майк Пневски</a> </dd>\n",
       " </dl>\n",
       " </div>\n",
       " <div class=\"film-review\">\n",
       " <div class=\"film-review-text\">\n",
       "                     Это реально потрясающее кино.<br/>\n",
       " <i>Суровый отзыв кота Бублика</i> </div>\n",
       " </div>\n",
       " <div class=\"blog-item-actions clearfix\">\n",
       " <div class=\"custom-action-item\">\n",
       " <a class=\"custom-item-comments\" href=\"/films/delo-richarda-dzhuella.htm#comments\">\n",
       " <i class=\"icon-comments\"></i> Комментарии <span>(<span id=\"comments_count_inline\">82</span>)</span>\n",
       " </a>\n",
       " </div>\n",
       " <div class=\"sep hidden-lg hidden-md hidden-sm\"></div>\n",
       " <div class=\"custom-action-item tag-link\">\n",
       " <i class=\"custom-icon icon-tag\"></i>\n",
       " <a href=\"/films/genre/drama\">Драма</a>,\n",
       "                                                     <a href=\"/films/country/ssha\">США</a>,\n",
       "                                                     <a href=\"/films/year/2019\">2019</a> </div>\n",
       " <a class=\"custom-item-watch\" href=\"/films/delo-richarda-dzhuella.htm\">\n",
       " <i class=\"icon-eye\"></i> 130353            </a>\n",
       " <div class=\"custom-action-item\">\n",
       " <div class=\"blog-item-date\">\n",
       "                     23.06.2020                </div>\n",
       " </div>\n",
       " </div>\n",
       " </div>\n",
       " </div>,\n",
       " <div class=\"film-item\">\n",
       " <div class=\"film-item-block\">\n",
       " <div class=\"film-item-img crop-film-item-img\">\n",
       " <a href=\"/films/vo-vse-tyazhkie.htm\">\n",
       " <img alt=\"\" src=\"/films/images/26-01-2015/1.jpg\"/> <div class=\"custom-item-mark\">\n",
       "                             9.0                        </div>\n",
       " </a>\n",
       " </div>\n",
       " <div class=\"film-title-header\">\n",
       " <div class=\"film-title\">\n",
       " <a href=\"/films/vo-vse-tyazhkie.htm\">\n",
       "                     Во все тяжкие                                          <span>/</span> Breaking Bad                                    </a>\n",
       " </div>\n",
       " <div class=\"exler-reit\">Рейтинг Экслера: <b>9.0</b></div>\n",
       " </div>\n",
       " <div class=\"film-info\">\n",
       " <dl class=\"dl-horizontal\">\n",
       " <dt>\n",
       "                         Режиссер:\n",
       "                     </dt>\n",
       " <dd>\n",
       " <a href=\"/films/cast/Vins_Gilligan\">Винс Гиллиган</a> </dd>\n",
       " </dl>\n",
       " <dl class=\"dl-horizontal\">\n",
       " <dt>\n",
       "                         В ролях:\n",
       "                     </dt>\n",
       " <dd>\n",
       " <a href=\"/films/cast/Brajan_Krjenston\">Брайан Крэнстон</a>, <a href=\"/films/cast/Bob_Odenkerk\">Боб Оденкерк</a>, <a href=\"/films/cast/Dzhonatan_Bjenks\">Джонатан Бэнкс</a>, <a href=\"/films/cast/Dzhankarlo_JEspozito\">Джанкарло Эспозито</a>, <a href=\"/films/cast/Aaron_Pol\">Аарон Пол</a>, <a href=\"/films/cast/Anna_Gann\">Анна Ганн</a>, <a href=\"/films/cast/Din_Norris\">Дин Норрис</a>, <a href=\"/films/cast/Betsi_Brandt\">Бетси Брандт</a>, <a href=\"/films/cast/Ar_Dzhej_Mitti\">Ар Джей Митти</a>, <a href=\"/films/cast/Stiven_Majkl_Kvezada\">Стивен Майкл Квезада</a> </dd>\n",
       " </dl>\n",
       " </div>\n",
       " <div class=\"film-review\">\n",
       " <div class=\"film-review-text\">\n",
       "                     Доктор Джекил и мистер Хайзенберг.<br/> <i>Отзыв кота Бублика</i> </div>\n",
       " </div>\n",
       " <div class=\"blog-item-actions clearfix\">\n",
       " <div class=\"custom-action-item\">\n",
       " <a class=\"custom-item-comments\" href=\"/films/vo-vse-tyazhkie.htm#comments\">\n",
       " <i class=\"icon-comments\"></i> Комментарии <span>(<span id=\"comments_count_inline\">86</span>)</span>\n",
       " </a>\n",
       " </div>\n",
       " <div class=\"sep hidden-lg hidden-md hidden-sm\"></div>\n",
       " <div class=\"custom-action-item tag-link\">\n",
       " <i class=\"custom-icon icon-tag\"></i>\n",
       " <a href=\"/films/genre/serial\">Сериал</a>,\n",
       "                                                     <a href=\"/films/country/ssha\">США</a>,\n",
       "                                                     <a href=\"/films/year/2008\">2008</a> </div>\n",
       " <a class=\"custom-item-watch\" href=\"/films/vo-vse-tyazhkie.htm\">\n",
       " <i class=\"icon-eye\"></i> 60380            </a>\n",
       " <div class=\"custom-action-item\">\n",
       " <div class=\"blog-item-date\">\n",
       "                     26.01.2015                </div>\n",
       " </div>\n",
       " </div>\n",
       " </div>\n",
       " </div>,\n",
       " <div class=\"film-item\">\n",
       " <div class=\"film-item-block\">\n",
       " <div class=\"film-item-img crop-film-item-img\">\n",
       " <a href=\"/films/udivitelnaya-missis-mejzel.htm\">\n",
       " <img alt=\"\" src=\"/films/images/22-01-2018/1.jpg\"/> <div class=\"custom-item-mark\">\n",
       "                             8.9                        </div>\n",
       " </a>\n",
       " </div>\n",
       " <div class=\"film-title-header\">\n",
       " <div class=\"film-title\">\n",
       " <a href=\"/films/udivitelnaya-missis-mejzel.htm\">\n",
       "                     Удивительная миссис Мейзел                                          <span>/</span> The Marvelous Mrs. Maisel                                    </a>\n",
       " </div>\n",
       " <div class=\"exler-reit\">Рейтинг Экслера: <b>8.9</b></div>\n",
       " </div>\n",
       " <div class=\"film-info\">\n",
       " <dl class=\"dl-horizontal\">\n",
       " <dt>\n",
       "                         Режиссер:\n",
       "                     </dt>\n",
       " <dd>\n",
       " <a href=\"/films/cast/JEmi_SHerman_Palladino\">Эми Шерман-Палладино</a> </dd>\n",
       " </dl>\n",
       " <dl class=\"dl-horizontal\">\n",
       " <dt>\n",
       "                         В ролях:\n",
       "                     </dt>\n",
       " <dd>\n",
       " <a href=\"/films/cast/Kevin_Pollak\">Кевин Поллак</a>, <a href=\"/films/cast/Toni_SHelub\">Тони Шелуб</a>, <a href=\"/films/cast/Rjejchel_Brosnahjen\">Рэйчел Броснахэн</a>, <a href=\"/films/cast/Aleks_Borshtejn\">Алекс Борштейн</a>, <a href=\"/films/cast/Majkl_Zegen\">Майкл Зеген</a>, <a href=\"/films/cast/Marin_Hinkl\">Марин Хинкль</a>, <a href=\"/films/cast/Bejli_De_JAng\">Бейли Де Янг</a>, <a href=\"/films/cast/Matilda_Dauni\">Матильда Дауни</a>, <a href=\"/films/cast/Matteo_Paskale\">Маттео Паскале</a>, <a href=\"/films/cast/Brajan_Tarantina\">Брайан Тарантина</a>, <a href=\"/films/cast/Nunsio_Paskale\">Нунсио Паскале</a> </dd>\n",
       " </dl>\n",
       " </div>\n",
       " <div class=\"film-review\">\n",
       " <div class=\"film-review-text\">\n",
       " <p>Совершенно невероятная и<br/> удивительная миссис Мейзел!<br/> <i>Суровый отзыв кота Бублика,<br/> который в восторге</i></p> </div>\n",
       " </div>\n",
       " <div class=\"blog-item-actions clearfix\">\n",
       " <div class=\"custom-action-item\">\n",
       " <a class=\"custom-item-comments\" href=\"/films/udivitelnaya-missis-mejzel.htm#comments\">\n",
       " <i class=\"icon-comments\"></i> Комментарии <span>(<span id=\"comments_count_inline\">77</span>)</span>\n",
       " </a>\n",
       " </div>\n",
       " <div class=\"sep hidden-lg hidden-md hidden-sm\"></div>\n",
       " <div class=\"custom-action-item tag-link\">\n",
       " <i class=\"custom-icon icon-tag\"></i>\n",
       " <a href=\"/films/genre/serial\">Сериал</a>,\n",
       "                                                     <a href=\"/films/country/ssha\">США</a>,\n",
       "                                                     <a href=\"/films/year/2017\">2017</a> </div>\n",
       " <a class=\"custom-item-watch\" href=\"/films/udivitelnaya-missis-mejzel.htm\">\n",
       " <i class=\"icon-eye\"></i> 71904            </a>\n",
       " <div class=\"custom-action-item\">\n",
       " <div class=\"blog-item-date\">\n",
       "                     22.01.2018                </div>\n",
       " </div>\n",
       " </div>\n",
       " </div>\n",
       " </div>]"
      ]
     },
     "execution_count": 28,
     "metadata": {},
     "output_type": "execute_result"
    }
   ],
   "source": [
    "# Спарсим все данные на странице\n",
    "\n",
    "all_obj = soup.findAll(lambda tag: tag.name == 'div' and tag.get('class') == ['film-item'])\n",
    "all_obj"
   ]
  },
  {
   "cell_type": "code",
   "execution_count": 29,
   "id": "359d134a",
   "metadata": {},
   "outputs": [
    {
     "name": "stdout",
     "output_type": "stream",
     "text": [
      "['/films/nastoyashij-detektiv-2.htm', '/films/nastoyashij-detektiv-1.htm', '/films/horas-i-pit.htm', '/films/hod-korolevy.htm', '/films/roma-1.htm', '/films/bezumnyj-maks-doroga-yarosti.htm', '/films/chernobyl.htm', '/films/delo-richarda-dzhuella.htm', '/films/vo-vse-tyazhkie.htm', '/films/udivitelnaya-missis-mejzel.htm']\n"
     ]
    }
   ],
   "source": [
    "# Вытащим все ссылки на странице\n",
    "\n",
    "links = [] # Пустой список для хранения ссылок\n",
    "\n",
    "for obj in all_obj:\n",
    "    img_div = obj.find('div', class_ = 'film-item-img crop-film-item-img')\n",
    "    \n",
    "    if img_div:\n",
    "        link = img_div.find('a')['href']\n",
    "        links.append(link)\n",
    "\n",
    "print(links)"
   ]
  },
  {
   "cell_type": "code",
   "execution_count": 30,
   "id": "d8fffc32",
   "metadata": {},
   "outputs": [
    {
     "data": {
      "text/plain": [
       "10"
      ]
     },
     "execution_count": 30,
     "metadata": {},
     "output_type": "execute_result"
    }
   ],
   "source": [
    "# Общее кол-во ссылок на странице\n",
    "\n",
    "len(links)"
   ]
  },
  {
   "cell_type": "markdown",
   "id": "fd455a96",
   "metadata": {},
   "source": [
    "Видно что код работает и мы получаем нужные ссылки. Теперь обернём всё в функцию и пробежимся по всем страницам"
   ]
  },
  {
   "cell_type": "code",
   "execution_count": 96,
   "id": "24196d25",
   "metadata": {},
   "outputs": [],
   "source": [
    "def getPageLinks(page_number):\n",
    "    '''\n",
    "        Возвращает список ссылок на фильмы, получанные с текущей страницы\n",
    "    '''\n",
    "    \n",
    "    # составляем ссылку на страницу поиска\n",
    "    page_link = 'https://exler.ru/films/?sort=-rating_exler&page={}'.format(page_number)\n",
    "    \n",
    "    # запрашиваем данные по ней\n",
    "    response = requests.get(page_link, headers = {'User-Agent': UserAgent().safari})\n",
    "    \n",
    "    if not response.ok:\n",
    "        # если сервер отказал вернём пустой лист для текущей страницы\n",
    "        return []\n",
    "    \n",
    "    # получаем содержимое страницы и переводим в суп\n",
    "    html = response.content\n",
    "    soup = BeautifulSoup(html, 'html.parser')\n",
    "    \n",
    "    # получаем данные со страниц\n",
    "    all_obj = soup.findAll(lambda tag: tag.name == 'div' and tag.get('class') == ['film-item'])\n",
    "    \n",
    "    # получаем ссылки из данных\n",
    "    links = [] \n",
    "\n",
    "    for obj in all_obj:\n",
    "        img_div = obj.find('div', class_ = 'film-item-img crop-film-item-img')\n",
    "    \n",
    "        if img_div:\n",
    "            link = img_div.find('a')['href']\n",
    "            links.append(link)\n",
    "            \n",
    "    film_links = ['https://exler.ru' + link for link in links]\n",
    "            \n",
    "    return film_links"
   ]
  },
  {
   "cell_type": "code",
   "execution_count": 98,
   "id": "9016fd7a",
   "metadata": {},
   "outputs": [
    {
     "data": {
      "text/plain": [
       "['https://exler.ru/films/nastoyashij-detektiv-2.htm',\n",
       " 'https://exler.ru/films/nastoyashij-detektiv-1.htm',\n",
       " 'https://exler.ru/films/horas-i-pit.htm',\n",
       " 'https://exler.ru/films/hod-korolevy.htm']"
      ]
     },
     "execution_count": 98,
     "metadata": {},
     "output_type": "execute_result"
    }
   ],
   "source": [
    "# Протестируем функцию\n",
    "\n",
    "links = getPageLinks(1)\n",
    "links[:4]"
   ]
  },
  {
   "cell_type": "markdown",
   "id": "e50cb7ea",
   "metadata": {},
   "source": [
    "Функция работает. Теперь мы теоритически можем достать ммлыки на все фильмы. Теперь посмотрим как достать информацию о конкретном фильме"
   ]
  },
  {
   "cell_type": "markdown",
   "id": "aad6439c",
   "metadata": {},
   "source": [
    "# Вытаскиваем все данные и показатели на странице"
   ]
  },
  {
   "cell_type": "code",
   "execution_count": 37,
   "id": "6c7c7b45",
   "metadata": {},
   "outputs": [],
   "source": [
    "film_page = 'https://exler.ru/films/nastoyashij-detektiv-1.htm'\n",
    "\n",
    "response = requests.get(film_page, headers = {'User-Agent': UserAgent().safari})\n",
    "\n",
    "html = response.content\n",
    "soup = BeautifulSoup(html, 'html.parser')"
   ]
  },
  {
   "cell_type": "markdown",
   "id": "896819ca",
   "metadata": {},
   "source": [
    "Попробуем вытащить текстовое описание, кол-во просмотров, кол-во комментариев и дату публикации"
   ]
  },
  {
   "cell_type": "code",
   "execution_count": 49,
   "id": "ba9efdd2",
   "metadata": {},
   "outputs": [
    {
     "data": {
      "text/plain": [
       "<div class=\"blog-item-date\">\n",
       "                10.11.2014<i class=\"icon-eye\" style=\"margin-left: 10px\"></i> 80142  <a href=\"#comments\"><i class=\"icon-comments\"></i> Комментарии\n",
       "                    (99)</a>\n",
       "</div>"
      ]
     },
     "execution_count": 49,
     "metadata": {},
     "output_type": "execute_result"
    }
   ],
   "source": [
    "# Вытягиваем кусок с датой, кол-вом комментариев и просмотров\n",
    "\n",
    "data = soup.find(attrs={'class': 'blog-item-date'})\n",
    "data"
   ]
  },
  {
   "cell_type": "code",
   "execution_count": 50,
   "id": "c4d1371e",
   "metadata": {},
   "outputs": [
    {
     "data": {
      "text/plain": [
       "'10.11.2014'"
      ]
     },
     "execution_count": 50,
     "metadata": {},
     "output_type": "execute_result"
    }
   ],
   "source": [
    "# Вытягиваем дату\n",
    "\n",
    "date = data.get_text(strip = True).split()[0][:10]\n",
    "date"
   ]
  },
  {
   "cell_type": "code",
   "execution_count": 57,
   "id": "ff0e88b1",
   "metadata": {},
   "outputs": [
    {
     "data": {
      "text/plain": [
       "'80142'"
      ]
     },
     "execution_count": 57,
     "metadata": {},
     "output_type": "execute_result"
    }
   ],
   "source": [
    "# Вытягиеваем кол-во просмотров\n",
    "\n",
    "n_views = data.get_text(strip = True).split('\\n')[0].replace('Комментарии', '')[10:]\n",
    "n_views"
   ]
  },
  {
   "cell_type": "code",
   "execution_count": 51,
   "id": "860eaafa",
   "metadata": {},
   "outputs": [
    {
     "data": {
      "text/plain": [
       "'99'"
      ]
     },
     "execution_count": 51,
     "metadata": {},
     "output_type": "execute_result"
    }
   ],
   "source": [
    "# Вытягиваем кол-во комменатриев\n",
    "\n",
    "n_comments = data.get_text(strip = True).split('\\n')[1].strip()\n",
    "n_comments = n_comments.replace('(', '').replace(')', '') # Убираем скобки у комментариев\n",
    "\n",
    "n_comments"
   ]
  },
  {
   "cell_type": "markdown",
   "id": "7b394428",
   "metadata": {},
   "source": [
    "Полученные данные пока находятся в формате string. Переведём их в нужные форматы после сбора всего датасета. Запишем эти манипуляции в небольшую функцию"
   ]
  },
  {
   "cell_type": "code",
   "execution_count": 58,
   "id": "2c173c57",
   "metadata": {},
   "outputs": [],
   "source": [
    "def getStats(soup, stats):\n",
    "    \"\"\"\n",
    "        Возвращает дату, число просмотров и кол-во комментариев\n",
    "        \n",
    "        soup: объект bs4.BeautifulSoup\n",
    "            суп текущей страницы\n",
    "\n",
    "        stats: string\n",
    "            views/comments/date\n",
    "    \"\"\"\n",
    "    \n",
    "    try:\n",
    "        obj = soup.find(attrs={'class': 'blog-item-date'})\n",
    "        \n",
    "        if stats == 'date':\n",
    "            data = obj.get_text(strip = True).split()[0][:10]\n",
    "            \n",
    "        elif stats == 'views':\n",
    "            data = obj.get_text(strip = True).split('\\n')[0].replace('Комментарии', '')[10:]\n",
    "            \n",
    "        elif stats == 'comments':\n",
    "            data = obj.get_text(strip = True).split('\\n')[1].strip()\n",
    "            data = data.replace('(', '').replace(')', '')\n",
    "            \n",
    "        else:\n",
    "            print('Вы запросили неверный формат данных')\n",
    "            \n",
    "    except:\n",
    "        obj = None\n",
    "        \n",
    "    return data"
   ]
  },
  {
   "cell_type": "code",
   "execution_count": 60,
   "id": "349c75e7",
   "metadata": {},
   "outputs": [
    {
     "name": "stdout",
     "output_type": "stream",
     "text": [
      "Просмотры: 80142\n",
      "Комментарии: 99\n",
      "Дата: 10.11.2014\n"
     ]
    }
   ],
   "source": [
    "date = getStats(soup, stats='date')\n",
    "views = getStats(soup, stats = 'views')\n",
    "comments = getStats(soup, stats = 'comments')\n",
    "\n",
    "print(f'Просмотры: {views}\\nКомментарии: {comments}\\nДата: {date}')"
   ]
  },
  {
   "cell_type": "markdown",
   "id": "b2b96b04",
   "metadata": {},
   "source": [
    "Функция работает. Теперь соберём текстовую информацию"
   ]
  },
  {
   "cell_type": "code",
   "execution_count": 61,
   "id": "7b210fea",
   "metadata": {},
   "outputs": [
    {
     "data": {
      "text/plain": [
       "<div class=\"film-title\">\n",
       "            Настоящий детектив                            <span>/</span>\n",
       "                True Detective                        <div class=\"blog-item-date\">\n",
       "                10.11.2014<i class=\"icon-eye\" style=\"margin-left: 10px\"></i> 80142  <a href=\"#comments\"><i class=\"icon-comments\"></i> Комментарии\n",
       "                    (99)</a>\n",
       "</div>\n",
       "</div>"
      ]
     },
     "execution_count": 61,
     "metadata": {},
     "output_type": "execute_result"
    }
   ],
   "source": [
    "# Ищем данные с заголовком\n",
    "\n",
    "data = soup.find(attrs={'class': 'film-title'})\n",
    "data"
   ]
  },
  {
   "cell_type": "code",
   "execution_count": 68,
   "id": "7883db79",
   "metadata": {},
   "outputs": [
    {
     "data": {
      "text/plain": [
       "'Настоящий детектив'"
      ]
     },
     "execution_count": 68,
     "metadata": {},
     "output_type": "execute_result"
    }
   ],
   "source": [
    "# Вытягиваем заголовок\n",
    "\n",
    "title = data.get_text(strip = True).split('\\n')[0].split('/')[0]\n",
    "title"
   ]
  },
  {
   "cell_type": "code",
   "execution_count": 72,
   "id": "c1c45d80",
   "metadata": {},
   "outputs": [
    {
     "data": {
      "text/plain": [
       "<div class=\"film-item-content\">\n",
       "<p><a class=\"fancybox\" href=\"images/10-11-2014/big/1.jpg\" rel=\"media\"><img align=\"left\" src=\"/films/images/10-11-2014/1.jpg\"/></a>Главные герои сериала -\n",
       "      детектив Раст \"Расти\" Коул (Мэттью\n",
       "      МакКонахи) и детектив Мартин \"Марти\"\n",
       "      Харт (Вуди Харрельсон). Они\n",
       "      познакомились в 1995 году в Луизиане, где\n",
       "      их поставили в паре расследовать\n",
       "      ритуальное убийство проститутки Доры\n",
       "      Лэнг. На спине убитой была нарисована какая-то\n",
       "      символика, на голову надета \"корона\"\n",
       "      из оленьих рогов.  </p>\n",
       "<p> Расти считает, что\n",
       "      должно быть несколько убийств,\n",
       "      обставленных подобным образом. Марти с\n",
       "      ним не соглашается. Далее детективам предстоит\n",
       "      распутать (или не распутать) это и\n",
       "      некоторые другие загадочные убийства. </p>\n",
       "<p>Работать в паре им будет очень\n",
       "      сложно. Расти в свое время пережил\n",
       "      трагедию в семье, сидел на наркотиках, работал под\n",
       "      прикрытием в банде наркоторговцев и в конце концов\n",
       "      попал в психиатрическую лечебницу.\n",
       "      После того как он оттуда вышел - парень\n",
       "      выглядит слегка не от мира сего. Он или\n",
       "      постоянно молчит, думая о чем-то своем, а\n",
       "      если Марти просит Расти поговорить с ним\n",
       "      о чем-нибудь - Расти начинает нести такое,\n",
       "      что Марти тут же просит Расти немедленно\n",
       "      заткнуться.  </p><p><a class=\"fancybox\" href=\"images/10-11-2014/big/4.jpg\" rel=\"media\"><img align=\"right\" src=\"/films/images/10-11-2014/4.jpg\"/></a>Между тем сам Марти - простой\n",
       "      паренек из южного штата. Мудрствовать и\n",
       "      рефлексировать он не любит, все у него в\n",
       "      жизни просто, как правда: есть работа,\n",
       "      семья, любовница на стороне, вкусная\n",
       "      жрачка и хороший алкоголь. А что еще,\n",
       "      вообще говоря, надо? </p>\n",
       "<p>Поэтому Марти совершенно не\n",
       "      понимает Расти, равно как и Расти с\n",
       "      определенной иронией относится к\n",
       "      немудреной жизненной философии Марти. </p>\n",
       "<p><a class=\"fancybox\" href=\"images/10-11-2014/big/7.jpg\" rel=\"media\"><img align=\"left\" src=\"/films/images/10-11-2014/7.jpg\"/></a>Тем не менее они неплохо\n",
       "      сработались - видимо, как две\n",
       "      противоположности. Марти понимает, что\n",
       "      Расти как детектив на голову выше него,\n",
       "      потому что обладает отличным\n",
       "      аналитическим умом и умеет сводить друг\n",
       "      с другом, казалось бы, почти незначимые\n",
       "      детали, а Марти полезен Расти как\n",
       "      напарник (кто-то же должен прикрывать\n",
       "      его задницу) и как законченный прагматик,\n",
       "      который в умозаключениях Расти может\n",
       "      выделить рациональное зерно. </p>\n",
       "<p><a class=\"fancybox\" href=\"images/10-11-2014/big/3.jpg\" rel=\"media\"><img align=\"right\" src=\"/films/images/10-11-2014/3.jpg\"/></a>В первом же эпизоде сериала\n",
       "      показывают снятие показаний двумя\n",
       "      другими детективами Томасом Папаньей (Тори\n",
       "      Киттлз) и Мэйнардом Гилбо (Майкл Поттс) у\n",
       "      Расти и Марти в 2012 году - через 17 лет\n",
       "      после вышеописанных событий. Из\n",
       "      показаний выясняется, что убийца был\n",
       "      схвачен в 1995 году, а с 2002 года Марти с\n",
       "      Расти после крупной ссоры не общались. </p>\n",
       "<p>Проблема в том, сообщают\n",
       "      Папанья и Мэйнард, что совсем недавно\n",
       "      была убита девушка и это убийство было\n",
       "      обставлено точно так же, как и убийство\n",
       "      Доры Лэнг в 1995 году. Значит, убийца все-таки\n",
       "      остался на свободе. </p>\n",
       "<p style=\"text-align: center;\">***</p>\n",
       "<p><a class=\"fancybox\" href=\"images/10-11-2014/big/2.jpg\" rel=\"media\"><img align=\"left\" src=\"/films/images/10-11-2014/2.jpg\"/></a>Об\n",
       "      этом сериале отзывы с самого начала были\n",
       "      восторженные. Хотя я, если честно, не\n",
       "      очень понимал, что еще можно выжать из\n",
       "      уже вроде бы сто раз обыгранной с самых\n",
       "      разнообразных сторон идеи о полицейских\n",
       "      напарниках. <p>Впрочем, когда я\n",
       "      узнал, что там в главных ролях Мэттью\n",
       "      МакКонахи и Вуди Харрельсон, то подумал,\n",
       "      что сериал обязательно надо смотреть.\n",
       "      Потому что Харрельсон - один из моих\n",
       "      любимых актеров: он совершенно\n",
       "      безбашенный, очень веселый, невероятно\n",
       "      яркий, да и с самоиронией у него все в\n",
       "      порядке. <p><a class=\"fancybox\" href=\"images/10-11-2014/big/41.jpg\" rel=\"media\"><img align=\"right\" src=\"/films/images/10-11-2014/41.jpg\"/></a>К\n",
       "      Мэттью МакКонахи до недавнего времени я\n",
       "      относился, скажем так, без особого\n",
       "      интереса. Начинал он как красавчик-мачо\n",
       "      из бесконечных и похожих друг на друга\n",
       "      как две капли воды романтических\n",
       "      комедий для старшеклассниц вроде <a href=\"/films/20-11-2003.htm\">\"Как\n",
       "      отделаться от парня за 10 дней\"</a> или\n",
       "      даже не вторичных, а третично-четверичных\n",
       "      романтичных приключенек вроде <a href=\"/films/03-05-2005.htm\">\"Сахары\"</a>.\n",
       "      И мне казалось, что в этом образе Мэттью\n",
       "      застынет навсегда. <p><a class=\"fancybox\" href=\"images/10-11-2014/big/16.jpg\" rel=\"media\"><img align=\"left\" src=\"/films/images/10-11-2014/16.jpg\"/></a>Но\n",
       "      в какой-то момент ему самому надоело\n",
       "      играть лощеных красавчиков, и далее\n",
       "      пошли совсем другие роли: <a href=\"/films/11-08-2011.htm\">\"Линкольн\n",
       "      для адвоката\"</a>, \"Киллер Джо\", \"Мад\"...<p>А\n",
       "      потом появился невероятно мощный <a href=\"/films/14-05-2014.htm\">\"Далласский\n",
       "      клуб покупателей\"</a>, где Макконехи\n",
       "      показал, что в стремлении вжиться в\n",
       "      своего персонажа для него нет никаких\n",
       "      границ: красавец-атлет превратился в\n",
       "      иссушенного наркотиками доходягу,\n",
       "      больного СПИДом. Но он при этом сыграл\n",
       "      одну из лучших, если не самую лучшую свою\n",
       "      роль - фильм получился совершенно\n",
       "      замечательный. <p><a class=\"fancybox\" href=\"images/10-11-2014/big/13.jpg\" rel=\"media\"><img align=\"right\" src=\"/films/images/10-11-2014/13.jpg\"/></a>Примерно\n",
       "      в то же время снимался и \"Настоящий\n",
       "      детектив\", где нынешнее физическое\n",
       "      состояние актера оказалось очень кстати:\n",
       "      он ведь играет наркомана и алкоголика,\n",
       "      который столько всего пережил, что\n",
       "      слегка двинулся умом. <p>Начал\n",
       "      смотреть сериал - и быстро понял, почему\n",
       "      он получил столько восторженных отзывов,\n",
       "      к которым мне остается только\n",
       "      присоединиться. <p><a class=\"fancybox\" href=\"images/10-11-2014/big/34.jpg\" rel=\"media\"><img align=\"left\" src=\"/films/images/10-11-2014/34.jpg\"/></a>Это\n",
       "      действительно очень и очень <i>атмосферный</i>\n",
       "      сериал. Я не особенно люблю использовать\n",
       "      данный термин, но тут просто настолько\n",
       "      гармоничное и при этом ярчайшее\n",
       "      сочетание визуальной составляющей,\n",
       "      музыки, манеры съемки и актерской игры,\n",
       "      что все вместе складывается во что-то\n",
       "      действительно невероятно впечатляющее. <p><a class=\"fancybox\" href=\"images/10-11-2014/big/31.jpg\" rel=\"media\"><img align=\"right\" src=\"/films/images/10-11-2014/31.jpg\"/></a>И\n",
       "      тут ведь ситуация вовсе не как в картине\n",
       "      Тарсема Сингха <a href=\"/films/08-02-2010.htm\">\"Запределье\"</a>,\n",
       "      где все были уверены, что эти\n",
       "      невероятные пейзажи создавались с\n",
       "      помощью компьютерной графики, а\n",
       "      оказалось, что Сингх просто искал эти\n",
       "      уголки по всей Земле. <p>Да и нет\n",
       "      тут таких сверкающих красивостей,\n",
       "      наоборот - весь старый период дается в\n",
       "      приглушенных желтоватых тонах и только\n",
       "      в двухтысячных проявляется какой-то\n",
       "      яркий цвет. И снималось все в основном\n",
       "      на побережье той самой Луизианы, которая\n",
       "      яркими пейзажами не блещет: все очень\n",
       "      скучно, плоско и депрессивно. <p><a class=\"fancybox\" href=\"images/10-11-2014/big/18.jpg\" rel=\"media\"><img align=\"left\" src=\"/films/images/10-11-2014/18.jpg\"/></a>Но\n",
       "      тут как раз депрессивность данных\n",
       "      пейзажей, а кроме того, с невероятным\n",
       "      мастерством выбранные точки съемки - и\n",
       "      создают то самое ощущение безнадеги при\n",
       "      расследовании загадочных преступлений.\n",
       "      Плюс музыка, которая замечательно\n",
       "      подобрана, так что мне даже трудно\n",
       "      сказать, где еще я встречал настолько\n",
       "      гармоничное сочетание. <p><a class=\"fancybox\" href=\"images/10-11-2014/big/23.jpg\" rel=\"media\"><img align=\"right\" src=\"/films/images/10-11-2014/23.jpg\"/></a>И\n",
       "      нельзя не упомянуть о совершенно\n",
       "      отдельном произведении искусства -\n",
       "      заставке к сериалу. Пожалуй, ничего\n",
       "      лучше в этом плане я не видел. (Хотя, не\n",
       "      спорю, с \"Игрой престолов\" в этом\n",
       "      плане тоже все очень хорошо.) Вот <a href=\"http://www.lookatme.ru/mag/live/things/201289-true-detective\">здесь</a>\n",
       "      по-русски можно прочитать о том, как она\n",
       "      создавалась. <p><a class=\"fancybox\" href=\"images/10-11-2014/big/14.jpg\" rel=\"media\"><img align=\"left\" src=\"/films/images/10-11-2014/14.jpg\"/></a>Однако\n",
       "      понятно, что без соответствующей\n",
       "      актерской игры сериал не создавал бы то\n",
       "      впечатление, которое отмечают\n",
       "      большинство зрителей. А с актерской\n",
       "      игрой в сериале тоже все отлично. <p>Интересный\n",
       "      факт. Мэттью МакКонахи и Вуди Харрельсон\n",
       "      в реальности - старые друзья. Причем они\n",
       "      вместе играли в фильме <a href=\"/films/17-08-2001.htm\">\"Эд\n",
       "      из телевизора\"</a>, где Харрельсон,\n",
       "      играющий эпизодическую роль, запросто\n",
       "      переиграл МакКонахи, у которого там была\n",
       "      главная роль. Ну потому что Харрельсон\n",
       "      там представлял собой абсолютно\n",
       "      безбашенный фонтан энергии, а МакКонахи\n",
       "      был... просто красавчик. <p><a class=\"fancybox\" href=\"images/10-11-2014/big/57.jpg\" rel=\"media\"><img align=\"right\" src=\"/films/images/10-11-2014/57.jpg\"/></a>Но\n",
       "      здесь... В таких случаях, конечно, трудно\n",
       "      сравнивать двух замечательных актеров (а\n",
       "      что МакКонахи уже все-таки стал\n",
       "      действительно замечательным актером - у\n",
       "      меня сомнений не осталось) и говорить,\n",
       "      что кто-то кого-то переиграл. Однако\n",
       "      скажем так: у МакКонахи была на порядок\n",
       "      более сложная роль, чем у Харрельсона. <p><a class=\"fancybox\" href=\"images/10-11-2014/big/44.jpg\" rel=\"media\"><img align=\"left\" src=\"/films/images/10-11-2014/44.jpg\"/></a>Потому\n",
       "      что персонаж Харрельсона, как мы уже\n",
       "      говорили, - простой, как правда.\n",
       "      Харрельсон его именно так и играет,\n",
       "      причем, как обычно, блестяще. Он\n",
       "      очарователен в своем бытовом\n",
       "      раздолбайстве, прекрасен в своих мелких\n",
       "      страданиях и совершенно изумителен в\n",
       "      попытках сломать мозг, пытаясь понять, о\n",
       "      чем ему вообще втирает этот чокнутый\n",
       "      Расти. <p><a class=\"fancybox\" href=\"images/10-11-2014/big/63.jpg\" rel=\"media\"><img align=\"right\" src=\"/films/images/10-11-2014/63.jpg\"/></a>У\n",
       "      МакКонахи - человек, переживший страшную\n",
       "      трагедию, который борется не только с\n",
       "      Тьмой в виде жутких преступников-психопатов,\n",
       "      но и одновременно он вынужден сражаться\n",
       "      с демонами в своей душе. И он совершенно\n",
       "      не от мира сего - это резкий контраст с\n",
       "      персонажами, которых МакКонахи играл\n",
       "      раньше. <p>И вот эта внутренняя\n",
       "      борьба, эти демоны, это наполовину\n",
       "      потустороннее существование - МакКонахи\n",
       "      все это изобразил совершенно потрясающе.\n",
       "      У него даже характерные жесты этого\n",
       "      Расти - яркие, обращающие на себя\n",
       "      внимание.<p><a class=\"fancybox\" href=\"images/10-11-2014/big/49.jpg\" rel=\"media\"><img align=\"left\" src=\"/films/images/10-11-2014/49.jpg\"/></a>По\n",
       "      сериалу (вообще, это, конечно, не сериал, а\n",
       "      именно многосерийный фильм) разбросано\n",
       "      много всяких важных, знаковых деталей,\n",
       "      аллюзий, подсказок. И особое\n",
       "      удовольствие - посмотреть \"Настоящий\n",
       "      детектив\" потом по крайней мере еще\n",
       "      один раз, потому что с первого раза эти\n",
       "      подсказки и намеки не уловить, а вот со\n",
       "      второго раза уже можно будет понять, что\n",
       "      это все означает. <p><a class=\"fancybox\" href=\"images/10-11-2014/big/26.jpg\" rel=\"media\"><img align=\"right\" src=\"/films/images/10-11-2014/26.jpg\"/></a>Причем\n",
       "      \"Настоящий детектив\" совершенно не\n",
       "      скучно смотреть второй раз: несмотря на\n",
       "      то что сюжет и детективная составляющая\n",
       "      играют тут важную роль, даже когда\n",
       "      знаешь все ответы - наслаждаешься\n",
       "      многоплановостью и множеством смыслов\n",
       "      этого сериала, ну и игрой этой потрясной\n",
       "      парочки - МакКонахи и Харрельсона. А уж\n",
       "      какие у них происходят разговоры - это\n",
       "      просто нужно слышать. <p><a class=\"fancybox\" href=\"images/10-11-2014/big/64.jpg\" rel=\"media\"><img align=\"left\" src=\"/films/images/10-11-2014/64.jpg\"/></a>Постарайтесь\n",
       "      посмотреть его в хорошем качестве (его\n",
       "      не сложно найти) и на большом экране -\n",
       "      чтобы не потерять потрясающий визуал. А\n",
       "      в чьем переводе смотреть... В Сети есть\n",
       "      несколько различных переводов, но вот\n",
       "      тут я не подскажу, я его смотрел в\n",
       "      оригинале. Но этот сериал надо смотреть\n",
       "      хоть тушкой, хоть чучелом - это\n",
       "      фактически шедевр.<p>P. S. Да, еще\n",
       "      один важный момент. Несмотря на то что\n",
       "      планируется выпуск второго и, может быть,\n",
       "      еще каких-то сезонов, данный сюжет с\n",
       "      данными актерами полностью закончен. И\n",
       "      МакКонахи сказал, что с ним продолжения\n",
       "      не будет, и создатели сериала заявили,\n",
       "      что в следующем сезоне будут совершенно\n",
       "      другие персонажи и другой режиссер. Так\n",
       "      что это законченное произведение\n",
       "      искусства.</p> </p></p></p></p></p></p></p></p></p></p></p></p></p></p></p></p></p></p></p></p></p></div>"
      ]
     },
     "execution_count": 72,
     "metadata": {},
     "output_type": "execute_result"
    }
   ],
   "source": [
    "# Ищем данные с текстовым описанием фильма\n",
    "\n",
    "\n",
    "data = soup.find(attrs={'class': 'film-item-content'})\n",
    "data\n"
   ]
  },
  {
   "cell_type": "code",
   "execution_count": 73,
   "id": "d0406e8c",
   "metadata": {
    "scrolled": true
   },
   "outputs": [
    {
     "data": {
      "text/plain": [
       "'Главные герои сериала -      детектив Раст \"Расти\" Коул (Мэттью      МакКонахи) и детектив Мартин \"Марти\"      Харт (Вуди Харрельсон). Они      познакомились в 1995 году в Луизиане, где      их поставили в паре расследовать      ритуальное убийство проститутки Доры      Лэнг. На спине убитой была нарисована какая-то      символика, на голову надета \"корона\"      из оленьих рогов.Расти считает, что      должно быть несколько убийств,      обставленных подобным образом. Марти с      ним не соглашается. Далее детективам предстоит      распутать (или не распутать) это и      некоторые другие загадочные убийства.Работать в паре им будет очень      сложно. Расти в свое время пережил      трагедию в семье, сидел на наркотиках, работал под      прикрытием в банде наркоторговцев и в конце концов      попал в психиатрическую лечебницу.      После того как он оттуда вышел - парень      выглядит слегка не от мира сего. Он или      постоянно молчит, думая о чем-то своем, а      если Марти просит Расти поговорить с ним      о чем-нибудь - Расти начинает нести такое,      что Марти тут же просит Расти немедленно      заткнуться.Между тем сам Марти - простой      паренек из южного штата. Мудрствовать и      рефлексировать он не любит, все у него в      жизни просто, как правда: есть работа,      семья, любовница на стороне, вкусная      жрачка и хороший алкоголь. А что еще,      вообще говоря, надо?Поэтому Марти совершенно не      понимает Расти, равно как и Расти с      определенной иронией относится к      немудреной жизненной философии Марти.Тем не менее они неплохо      сработались - видимо, как две      противоположности. Марти понимает, что      Расти как детектив на голову выше него,      потому что обладает отличным      аналитическим умом и умеет сводить друг      с другом, казалось бы, почти незначимые      детали, а Марти полезен Расти как      напарник (кто-то же должен прикрывать      его задницу) и как законченный прагматик,      который в умозаключениях Расти может      выделить рациональное зерно.В первом же эпизоде сериала      показывают снятие показаний двумя      другими детективами Томасом Папаньей (Тори      Киттлз) и Мэйнардом Гилбо (Майкл Поттс) у      Расти и Марти в 2012 году - через 17 лет      после вышеописанных событий. Из      показаний выясняется, что убийца был      схвачен в 1995 году, а с 2002 года Марти с      Расти после крупной ссоры не общались.Проблема в том, сообщают      Папанья и Мэйнард, что совсем недавно      была убита девушка и это убийство было      обставлено точно так же, как и убийство      Доры Лэнг в 1995 году. Значит, убийца все-таки      остался на свободе.***Об      этом сериале отзывы с самого начала были      восторженные. Хотя я, если честно, не      очень понимал, что еще можно выжать из      уже вроде бы сто раз обыгранной с самых      разнообразных сторон идеи о полицейских      напарниках.Впрочем, когда я      узнал, что там в главных ролях Мэттью      МакКонахи и Вуди Харрельсон, то подумал,      что сериал обязательно надо смотреть.      Потому что Харрельсон - один из моих      любимых актеров: он совершенно      безбашенный, очень веселый, невероятно      яркий, да и с самоиронией у него все в      порядке.К      Мэттью МакКонахи до недавнего времени я      относился, скажем так, без особого      интереса. Начинал он как красавчик-мачо      из бесконечных и похожих друг на друга      как две капли воды романтических      комедий для старшеклассниц вроде\"Как      отделаться от парня за 10 дней\"или      даже не вторичных, а третично-четверичных      романтичных приключенек вроде\"Сахары\".      И мне казалось, что в этом образе Мэттью      застынет навсегда.Но      в какой-то момент ему самому надоело      играть лощеных красавчиков, и далее      пошли совсем другие роли:\"Линкольн      для адвоката\", \"Киллер Джо\", \"Мад\"...А      потом появился невероятно мощный\"Далласский      клуб покупателей\", где Макконехи      показал, что в стремлении вжиться в      своего персонажа для него нет никаких      границ: красавец-атлет превратился в      иссушенного наркотиками доходягу,      больного СПИДом. Но он при этом сыграл      одну из лучших, если не самую лучшую свою      роль - фильм получился совершенно      замечательный.Примерно      в то же время снимался и \"Настоящий      детектив\", где нынешнее физическое      состояние актера оказалось очень кстати:      он ведь играет наркомана и алкоголика,      который столько всего пережил, что      слегка двинулся умом.Начал      смотреть сериал - и быстро понял, почему      он получил столько восторженных отзывов,      к которым мне остается только      присоединиться.Это      действительно очень и оченьатмосферныйсериал. Я не особенно люблю использовать      данный термин, но тут просто настолько      гармоничное и при этом ярчайшее      сочетание визуальной составляющей,      музыки, манеры съемки и актерской игры,      что все вместе складывается во что-то      действительно невероятно впечатляющее.И      тут ведь ситуация вовсе не как в картине      Тарсема Сингха\"Запределье\",      где все были уверены, что эти      невероятные пейзажи создавались с      помощью компьютерной графики, а      оказалось, что Сингх просто искал эти      уголки по всей Земле.Да и нет      тут таких сверкающих красивостей,      наоборот - весь старый период дается в      приглушенных желтоватых тонах и только      в двухтысячных проявляется какой-то      яркий цвет. И снималось все в основном      на побережье той самой Луизианы, которая      яркими пейзажами не блещет: все очень      скучно, плоско и депрессивно.Но      тут как раз депрессивность данных      пейзажей, а кроме того, с невероятным      мастерством выбранные точки съемки - и      создают то самое ощущение безнадеги при      расследовании загадочных преступлений.      Плюс музыка, которая замечательно      подобрана, так что мне даже трудно      сказать, где еще я встречал настолько      гармоничное сочетание.И      нельзя не упомянуть о совершенно      отдельном произведении искусства -      заставке к сериалу. Пожалуй, ничего      лучше в этом плане я не видел. (Хотя, не      спорю, с \"Игрой престолов\" в этом      плане тоже все очень хорошо.) Вотздесьпо-русски можно прочитать о том, как она      создавалась.Однако      понятно, что без соответствующей      актерской игры сериал не создавал бы то      впечатление, которое отмечают      большинство зрителей. А с актерской      игрой в сериале тоже все отлично.Интересный      факт. Мэттью МакКонахи и Вуди Харрельсон      в реальности - старые друзья. Причем они      вместе играли в фильме\"Эд      из телевизора\", где Харрельсон,      играющий эпизодическую роль, запросто      переиграл МакКонахи, у которого там была      главная роль. Ну потому что Харрельсон      там представлял собой абсолютно      безбашенный фонтан энергии, а МакКонахи      был... просто красавчик.Но      здесь... В таких случаях, конечно, трудно      сравнивать двух замечательных актеров (а      что МакКонахи уже все-таки стал      действительно замечательным актером - у      меня сомнений не осталось) и говорить,      что кто-то кого-то переиграл. Однако      скажем так: у МакКонахи была на порядок      более сложная роль, чем у Харрельсона.Потому      что персонаж Харрельсона, как мы уже      говорили, - простой, как правда.      Харрельсон его именно так и играет,      причем, как обычно, блестяще. Он      очарователен в своем бытовом      раздолбайстве, прекрасен в своих мелких      страданиях и совершенно изумителен в      попытках сломать мозг, пытаясь понять, о      чем ему вообще втирает этот чокнутый      Расти.У      МакКонахи - человек, переживший страшную      трагедию, который борется не только с      Тьмой в виде жутких преступников-психопатов,      но и одновременно он вынужден сражаться      с демонами в своей душе. И он совершенно      не от мира сего - это резкий контраст с      персонажами, которых МакКонахи играл      раньше.И вот эта внутренняя      борьба, эти демоны, это наполовину      потустороннее существование - МакКонахи      все это изобразил совершенно потрясающе.      У него даже характерные жесты этого      Расти - яркие, обращающие на себя      внимание.По      сериалу (вообще, это, конечно, не сериал, а      именно многосерийный фильм) разбросано      много всяких важных, знаковых деталей,      аллюзий, подсказок. И особое      удовольствие - посмотреть \"Настоящий      детектив\" потом по крайней мере еще      один раз, потому что с первого раза эти      подсказки и намеки не уловить, а вот со      второго раза уже можно будет понять, что      это все означает.Причем      \"Настоящий детектив\" совершенно не      скучно смотреть второй раз: несмотря на      то что сюжет и детективная составляющая      играют тут важную роль, даже когда      знаешь все ответы - наслаждаешься      многоплановостью и множеством смыслов      этого сериала, ну и игрой этой потрясной      парочки - МакКонахи и Харрельсона. А уж      какие у них происходят разговоры - это      просто нужно слышать.Постарайтесь      посмотреть его в хорошем качестве (его      не сложно найти) и на большом экране -      чтобы не потерять потрясающий визуал. А      в чьем переводе смотреть... В Сети есть      несколько различных переводов, но вот      тут я не подскажу, я его смотрел в      оригинале. Но этот сериал надо смотреть      хоть тушкой, хоть чучелом - это      фактически шедевр.P. S. Да, еще      один важный момент. Несмотря на то что      планируется выпуск второго и, может быть,      еще каких-то сезонов, данный сюжет с      данными актерами полностью закончен. И      МакКонахи сказал, что с ним продолжения      не будет, и создатели сериала заявили,      что в следующем сезоне будут совершенно      другие персонажи и другой режиссер. Так      что это законченное произведение      искусства.'"
      ]
     },
     "execution_count": 73,
     "metadata": {},
     "output_type": "execute_result"
    }
   ],
   "source": [
    "text = data.get_text(strip = True).replace('\\r', '').replace('\\n', '')\n",
    "text"
   ]
  },
  {
   "cell_type": "code",
   "execution_count": 90,
   "id": "6f98bd68",
   "metadata": {},
   "outputs": [],
   "source": [
    "def getText(soup):\n",
    "    \"\"\"\n",
    "        Возвращает текстовое описание фильма\n",
    "    \"\"\"\n",
    "    \n",
    "    # название фильма\n",
    "    obj_1 = soup.find(attrs={'class': 'film-title'})\n",
    "    title = obj_1.get_text(strip = True).split('\\n')[0].split('/')[0].replace('\\r', '')\n",
    "    \n",
    "    # текстовое описание\n",
    "    obj_2 = soup.find(attrs={'class': 'film-item-content'})\n",
    "    text = obj_2.get_text(strip = True).replace('\\r', '').replace('\\n', '')\n",
    "    \n",
    "    return {'Title': title, 'Text': text}\n",
    "    "
   ]
  },
  {
   "cell_type": "markdown",
   "id": "f50f22b6",
   "metadata": {},
   "source": [
    "Создадим общую функцию возвращающую информацию по текущему фильму"
   ]
  },
  {
   "cell_type": "code",
   "execution_count": 91,
   "id": "cc0de77a",
   "metadata": {},
   "outputs": [],
   "source": [
    "def getFilmData(film_page):\n",
    "    \"\"\"\n",
    "        Запрашивает данные по странице, возвращает обработанный словарь с данными\n",
    "\n",
    "        meme_page: string\n",
    "            ссылка на страницу с фильмом\n",
    "\n",
    "    \"\"\"\n",
    "    \n",
    "    # Запрашиваем данные по ссылке\n",
    "    response = requests.get(film_page, headers = {'User-Agent': UserAgent().chrome})\n",
    "    \n",
    "    if not response.ok:\n",
    "        # Если сервер отказал, вернём статус ошибки\n",
    "        return response.status_code\n",
    "    \n",
    "    # Получаеам содержимое страницы и переводим в суп\n",
    "    html = response.content\n",
    "    soup = BeautifulSoup(html, 'html.parser')\n",
    "    \n",
    "    # Текстовые поля\n",
    "    text_fields = getText(soup = soup)\n",
    "    \n",
    "    \n",
    "    # Используя ранее написанные функции парсим информацию\n",
    "    date = getStats(soup, stats='date')\n",
    "    views = getStats(soup, stats = 'views')\n",
    "    comments = getStats(soup, stats = 'comments')\n",
    "    \n",
    "    # Составляем словарь где будут храниться все полученные данные\n",
    "    data_row = {'date_added': date, 'views': views,\n",
    "                'comments': comments, 'Title': text_fields['Title'],\n",
    "                'Text': text_fields['Text']}\n",
    "    \n",
    "\n",
    "    \n",
    "    return data_row"
   ]
  },
  {
   "cell_type": "code",
   "execution_count": 92,
   "id": "ba5981ac",
   "metadata": {
    "scrolled": true
   },
   "outputs": [
    {
     "data": {
      "text/plain": [
       "{'date_added': '10.11.2014',\n",
       " 'views': '80157',\n",
       " 'comments': '99',\n",
       " 'Title': 'Настоящий детектив',\n",
       " 'Text': 'Главные герои сериала -      детектив Раст \"Расти\" Коул (Мэттью      МакКонахи) и детектив Мартин \"Марти\"      Харт (Вуди Харрельсон). Они      познакомились в 1995 году в Луизиане, где      их поставили в паре расследовать      ритуальное убийство проститутки Доры      Лэнг. На спине убитой была нарисована какая-то      символика, на голову надета \"корона\"      из оленьих рогов.Расти считает, что      должно быть несколько убийств,      обставленных подобным образом. Марти с      ним не соглашается. Далее детективам предстоит      распутать (или не распутать) это и      некоторые другие загадочные убийства.Работать в паре им будет очень      сложно. Расти в свое время пережил      трагедию в семье, сидел на наркотиках, работал под      прикрытием в банде наркоторговцев и в конце концов      попал в психиатрическую лечебницу.      После того как он оттуда вышел - парень      выглядит слегка не от мира сего. Он или      постоянно молчит, думая о чем-то своем, а      если Марти просит Расти поговорить с ним      о чем-нибудь - Расти начинает нести такое,      что Марти тут же просит Расти немедленно      заткнуться.Между тем сам Марти - простой      паренек из южного штата. Мудрствовать и      рефлексировать он не любит, все у него в      жизни просто, как правда: есть работа,      семья, любовница на стороне, вкусная      жрачка и хороший алкоголь. А что еще,      вообще говоря, надо?Поэтому Марти совершенно не      понимает Расти, равно как и Расти с      определенной иронией относится к      немудреной жизненной философии Марти.Тем не менее они неплохо      сработались - видимо, как две      противоположности. Марти понимает, что      Расти как детектив на голову выше него,      потому что обладает отличным      аналитическим умом и умеет сводить друг      с другом, казалось бы, почти незначимые      детали, а Марти полезен Расти как      напарник (кто-то же должен прикрывать      его задницу) и как законченный прагматик,      который в умозаключениях Расти может      выделить рациональное зерно.В первом же эпизоде сериала      показывают снятие показаний двумя      другими детективами Томасом Папаньей (Тори      Киттлз) и Мэйнардом Гилбо (Майкл Поттс) у      Расти и Марти в 2012 году - через 17 лет      после вышеописанных событий. Из      показаний выясняется, что убийца был      схвачен в 1995 году, а с 2002 года Марти с      Расти после крупной ссоры не общались.Проблема в том, сообщают      Папанья и Мэйнард, что совсем недавно      была убита девушка и это убийство было      обставлено точно так же, как и убийство      Доры Лэнг в 1995 году. Значит, убийца все-таки      остался на свободе.***Об      этом сериале отзывы с самого начала были      восторженные. Хотя я, если честно, не      очень понимал, что еще можно выжать из      уже вроде бы сто раз обыгранной с самых      разнообразных сторон идеи о полицейских      напарниках.Впрочем, когда я      узнал, что там в главных ролях Мэттью      МакКонахи и Вуди Харрельсон, то подумал,      что сериал обязательно надо смотреть.      Потому что Харрельсон - один из моих      любимых актеров: он совершенно      безбашенный, очень веселый, невероятно      яркий, да и с самоиронией у него все в      порядке.К      Мэттью МакКонахи до недавнего времени я      относился, скажем так, без особого      интереса. Начинал он как красавчик-мачо      из бесконечных и похожих друг на друга      как две капли воды романтических      комедий для старшеклассниц вроде\"Как      отделаться от парня за 10 дней\"или      даже не вторичных, а третично-четверичных      романтичных приключенек вроде\"Сахары\".      И мне казалось, что в этом образе Мэттью      застынет навсегда.Но      в какой-то момент ему самому надоело      играть лощеных красавчиков, и далее      пошли совсем другие роли:\"Линкольн      для адвоката\", \"Киллер Джо\", \"Мад\"...А      потом появился невероятно мощный\"Далласский      клуб покупателей\", где Макконехи      показал, что в стремлении вжиться в      своего персонажа для него нет никаких      границ: красавец-атлет превратился в      иссушенного наркотиками доходягу,      больного СПИДом. Но он при этом сыграл      одну из лучших, если не самую лучшую свою      роль - фильм получился совершенно      замечательный.Примерно      в то же время снимался и \"Настоящий      детектив\", где нынешнее физическое      состояние актера оказалось очень кстати:      он ведь играет наркомана и алкоголика,      который столько всего пережил, что      слегка двинулся умом.Начал      смотреть сериал - и быстро понял, почему      он получил столько восторженных отзывов,      к которым мне остается только      присоединиться.Это      действительно очень и оченьатмосферныйсериал. Я не особенно люблю использовать      данный термин, но тут просто настолько      гармоничное и при этом ярчайшее      сочетание визуальной составляющей,      музыки, манеры съемки и актерской игры,      что все вместе складывается во что-то      действительно невероятно впечатляющее.И      тут ведь ситуация вовсе не как в картине      Тарсема Сингха\"Запределье\",      где все были уверены, что эти      невероятные пейзажи создавались с      помощью компьютерной графики, а      оказалось, что Сингх просто искал эти      уголки по всей Земле.Да и нет      тут таких сверкающих красивостей,      наоборот - весь старый период дается в      приглушенных желтоватых тонах и только      в двухтысячных проявляется какой-то      яркий цвет. И снималось все в основном      на побережье той самой Луизианы, которая      яркими пейзажами не блещет: все очень      скучно, плоско и депрессивно.Но      тут как раз депрессивность данных      пейзажей, а кроме того, с невероятным      мастерством выбранные точки съемки - и      создают то самое ощущение безнадеги при      расследовании загадочных преступлений.      Плюс музыка, которая замечательно      подобрана, так что мне даже трудно      сказать, где еще я встречал настолько      гармоничное сочетание.И      нельзя не упомянуть о совершенно      отдельном произведении искусства -      заставке к сериалу. Пожалуй, ничего      лучше в этом плане я не видел. (Хотя, не      спорю, с \"Игрой престолов\" в этом      плане тоже все очень хорошо.) Вотздесьпо-русски можно прочитать о том, как она      создавалась.Однако      понятно, что без соответствующей      актерской игры сериал не создавал бы то      впечатление, которое отмечают      большинство зрителей. А с актерской      игрой в сериале тоже все отлично.Интересный      факт. Мэттью МакКонахи и Вуди Харрельсон      в реальности - старые друзья. Причем они      вместе играли в фильме\"Эд      из телевизора\", где Харрельсон,      играющий эпизодическую роль, запросто      переиграл МакКонахи, у которого там была      главная роль. Ну потому что Харрельсон      там представлял собой абсолютно      безбашенный фонтан энергии, а МакКонахи      был... просто красавчик.Но      здесь... В таких случаях, конечно, трудно      сравнивать двух замечательных актеров (а      что МакКонахи уже все-таки стал      действительно замечательным актером - у      меня сомнений не осталось) и говорить,      что кто-то кого-то переиграл. Однако      скажем так: у МакКонахи была на порядок      более сложная роль, чем у Харрельсона.Потому      что персонаж Харрельсона, как мы уже      говорили, - простой, как правда.      Харрельсон его именно так и играет,      причем, как обычно, блестяще. Он      очарователен в своем бытовом      раздолбайстве, прекрасен в своих мелких      страданиях и совершенно изумителен в      попытках сломать мозг, пытаясь понять, о      чем ему вообще втирает этот чокнутый      Расти.У      МакКонахи - человек, переживший страшную      трагедию, который борется не только с      Тьмой в виде жутких преступников-психопатов,      но и одновременно он вынужден сражаться      с демонами в своей душе. И он совершенно      не от мира сего - это резкий контраст с      персонажами, которых МакКонахи играл      раньше.И вот эта внутренняя      борьба, эти демоны, это наполовину      потустороннее существование - МакКонахи      все это изобразил совершенно потрясающе.      У него даже характерные жесты этого      Расти - яркие, обращающие на себя      внимание.По      сериалу (вообще, это, конечно, не сериал, а      именно многосерийный фильм) разбросано      много всяких важных, знаковых деталей,      аллюзий, подсказок. И особое      удовольствие - посмотреть \"Настоящий      детектив\" потом по крайней мере еще      один раз, потому что с первого раза эти      подсказки и намеки не уловить, а вот со      второго раза уже можно будет понять, что      это все означает.Причем      \"Настоящий детектив\" совершенно не      скучно смотреть второй раз: несмотря на      то что сюжет и детективная составляющая      играют тут важную роль, даже когда      знаешь все ответы - наслаждаешься      многоплановостью и множеством смыслов      этого сериала, ну и игрой этой потрясной      парочки - МакКонахи и Харрельсона. А уж      какие у них происходят разговоры - это      просто нужно слышать.Постарайтесь      посмотреть его в хорошем качестве (его      не сложно найти) и на большом экране -      чтобы не потерять потрясающий визуал. А      в чьем переводе смотреть... В Сети есть      несколько различных переводов, но вот      тут я не подскажу, я его смотрел в      оригинале. Но этот сериал надо смотреть      хоть тушкой, хоть чучелом - это      фактически шедевр.P. S. Да, еще      один важный момент. Несмотря на то что      планируется выпуск второго и, может быть,      еще каких-то сезонов, данный сюжет с      данными актерами полностью закончен. И      МакКонахи сказал, что с ним продолжения      не будет, и создатели сериала заявили,      что в следующем сезоне будут совершенно      другие персонажи и другой режиссер. Так      что это законченное произведение      искусства.'}"
      ]
     },
     "execution_count": 92,
     "metadata": {},
     "output_type": "execute_result"
    }
   ],
   "source": [
    "# Тестируем нашу функцию\n",
    "\n",
    "data_row = getFilmData('https://exler.ru/films/nastoyashij-detektiv-1.htm')\n",
    "\n",
    "data_row"
   ]
  },
  {
   "cell_type": "markdown",
   "id": "d3b76592",
   "metadata": {},
   "source": [
    "Необходимые данные по странице удачно скачиваются. Теперь попробуем создать свой датасет"
   ]
  },
  {
   "cell_type": "markdown",
   "id": "e501ec99",
   "metadata": {},
   "source": [
    "# Создание датасета из скачанных данных"
   ]
  },
  {
   "cell_type": "code",
   "execution_count": 95,
   "id": "c08261cb",
   "metadata": {},
   "outputs": [
    {
     "data": {
      "text/html": [
       "<div>\n",
       "<style scoped>\n",
       "    .dataframe tbody tr th:only-of-type {\n",
       "        vertical-align: middle;\n",
       "    }\n",
       "\n",
       "    .dataframe tbody tr th {\n",
       "        vertical-align: top;\n",
       "    }\n",
       "\n",
       "    .dataframe thead th {\n",
       "        text-align: right;\n",
       "    }\n",
       "</style>\n",
       "<table border=\"1\" class=\"dataframe\">\n",
       "  <thead>\n",
       "    <tr style=\"text-align: right;\">\n",
       "      <th></th>\n",
       "      <th>date_added</th>\n",
       "      <th>views</th>\n",
       "      <th>comments</th>\n",
       "      <th>Title</th>\n",
       "      <th>Text</th>\n",
       "    </tr>\n",
       "  </thead>\n",
       "  <tbody>\n",
       "    <tr>\n",
       "      <th>0</th>\n",
       "      <td>10.11.2014</td>\n",
       "      <td>80157</td>\n",
       "      <td>99</td>\n",
       "      <td>Настоящий детектив</td>\n",
       "      <td>Главные герои сериала -      детектив Раст \"Ра...</td>\n",
       "    </tr>\n",
       "  </tbody>\n",
       "</table>\n",
       "</div>"
      ],
      "text/plain": [
       "   date_added  views comments               Title  \\\n",
       "0  10.11.2014  80157       99  Настоящий детектив   \n",
       "\n",
       "                                                Text  \n",
       "0  Главные герои сериала -      детектив Раст \"Ра...  "
      ]
     },
     "execution_count": 95,
     "metadata": {},
     "output_type": "execute_result"
    }
   ],
   "source": [
    "import pandas as pd\n",
    "import numpy as np\n",
    "\n",
    "\n",
    "film_df = pd.DataFrame(columns = ['date_added', 'views', 'comments', 'Title', 'Text'])\n",
    "\n",
    "film_df = film_df.append(data_row, ignore_index = True).dropna(axis = 1)\n",
    "\n",
    "film_df"
   ]
  },
  {
   "cell_type": "code",
   "execution_count": 99,
   "id": "e4bddd8f",
   "metadata": {},
   "outputs": [
    {
     "data": {
      "text/plain": [
       "['https://exler.ru/films/nastoyashij-detektiv-2.htm',\n",
       " 'https://exler.ru/films/nastoyashij-detektiv-1.htm',\n",
       " 'https://exler.ru/films/horas-i-pit.htm',\n",
       " 'https://exler.ru/films/hod-korolevy.htm',\n",
       " 'https://exler.ru/films/roma-1.htm',\n",
       " 'https://exler.ru/films/bezumnyj-maks-doroga-yarosti.htm',\n",
       " 'https://exler.ru/films/chernobyl.htm',\n",
       " 'https://exler.ru/films/delo-richarda-dzhuella.htm',\n",
       " 'https://exler.ru/films/vo-vse-tyazhkie.htm',\n",
       " 'https://exler.ru/films/udivitelnaya-missis-mejzel.htm']"
      ]
     },
     "execution_count": 99,
     "metadata": {},
     "output_type": "execute_result"
    }
   ],
   "source": [
    "links"
   ]
  },
  {
   "cell_type": "code",
   "execution_count": 100,
   "id": "a221e9d9",
   "metadata": {},
   "outputs": [],
   "source": [
    "# Добавление в датасет данных на странице\n",
    "\n",
    "import time\n",
    "\n",
    "for link in links:\n",
    "    try:\n",
    "        data_row = getFilmData(link)\n",
    "        film_df = film_df.append(data_row, ignore_index = True)\n",
    "        time.sleep(0.3)\n",
    "    except:\n",
    "        continue\n",
    "        "
   ]
  },
  {
   "cell_type": "code",
   "execution_count": 101,
   "id": "ff7fafd3",
   "metadata": {},
   "outputs": [
    {
     "data": {
      "text/html": [
       "<div>\n",
       "<style scoped>\n",
       "    .dataframe tbody tr th:only-of-type {\n",
       "        vertical-align: middle;\n",
       "    }\n",
       "\n",
       "    .dataframe tbody tr th {\n",
       "        vertical-align: top;\n",
       "    }\n",
       "\n",
       "    .dataframe thead th {\n",
       "        text-align: right;\n",
       "    }\n",
       "</style>\n",
       "<table border=\"1\" class=\"dataframe\">\n",
       "  <thead>\n",
       "    <tr style=\"text-align: right;\">\n",
       "      <th></th>\n",
       "      <th>date_added</th>\n",
       "      <th>views</th>\n",
       "      <th>comments</th>\n",
       "      <th>Title</th>\n",
       "      <th>Text</th>\n",
       "    </tr>\n",
       "  </thead>\n",
       "  <tbody>\n",
       "    <tr>\n",
       "      <th>0</th>\n",
       "      <td>10.11.2014</td>\n",
       "      <td>80157</td>\n",
       "      <td>99</td>\n",
       "      <td>Настоящий детектив</td>\n",
       "      <td>Главные герои сериала -      детектив Раст \"Ра...</td>\n",
       "    </tr>\n",
       "    <tr>\n",
       "      <th>1</th>\n",
       "      <td>07.12.2015</td>\n",
       "      <td>55459</td>\n",
       "      <td>70</td>\n",
       "      <td>Настоящий детектив 2</td>\n",
       "      <td>Небольшой промышленный город Винчи, штат Калиф...</td>\n",
       "    </tr>\n",
       "    <tr>\n",
       "      <th>2</th>\n",
       "      <td>10.11.2014</td>\n",
       "      <td>80162</td>\n",
       "      <td>99</td>\n",
       "      <td>Настоящий детектив</td>\n",
       "      <td>Главные герои сериала -      детектив Раст \"Ра...</td>\n",
       "    </tr>\n",
       "    <tr>\n",
       "      <th>3</th>\n",
       "      <td>22.12.2016</td>\n",
       "      <td>40428</td>\n",
       "      <td>46</td>\n",
       "      <td>Хорас и Пит</td>\n",
       "      <td>\"У Хораса и Пита\" - старинный ирландский паб в...</td>\n",
       "    </tr>\n",
       "    <tr>\n",
       "      <th>4</th>\n",
       "      <td>30.11.2020</td>\n",
       "      <td>103916</td>\n",
       "      <td>287</td>\n",
       "      <td>Ход королевы</td>\n",
       "      <td>Америка, середина пятидесятых. Девятилетняя де...</td>\n",
       "    </tr>\n",
       "  </tbody>\n",
       "</table>\n",
       "</div>"
      ],
      "text/plain": [
       "   date_added   views comments                 Title  \\\n",
       "0  10.11.2014   80157       99    Настоящий детектив   \n",
       "1  07.12.2015   55459       70  Настоящий детектив 2   \n",
       "2  10.11.2014   80162       99    Настоящий детектив   \n",
       "3  22.12.2016   40428       46           Хорас и Пит   \n",
       "4  30.11.2020  103916      287          Ход королевы   \n",
       "\n",
       "                                                Text  \n",
       "0  Главные герои сериала -      детектив Раст \"Ра...  \n",
       "1  Небольшой промышленный город Винчи, штат Калиф...  \n",
       "2  Главные герои сериала -      детектив Раст \"Ра...  \n",
       "3  \"У Хораса и Пита\" - старинный ирландский паб в...  \n",
       "4  Америка, середина пятидесятых. Девятилетняя де...  "
      ]
     },
     "execution_count": 101,
     "metadata": {},
     "output_type": "execute_result"
    }
   ],
   "source": [
    "# Просмотр результата\n",
    "\n",
    "film_df = film_df.drop_duplicates().dropna(axis = 1)\n",
    "\n",
    "film_df.head()"
   ]
  },
  {
   "cell_type": "markdown",
   "id": "00266a06",
   "metadata": {},
   "source": [
    "Работает. Теперь попробуем спарсить весь сайт"
   ]
  },
  {
   "cell_type": "code",
   "execution_count": 107,
   "id": "71db3a1a",
   "metadata": {},
   "outputs": [
    {
     "data": {
      "application/vnd.jupyter.widget-view+json": {
       "model_id": "e2206ec684854cc8a565082bde409be8",
       "version_major": 2,
       "version_minor": 0
      },
      "text/plain": [
       "Pages:   0%|          | 0/195 [00:00<?, ?it/s]"
      ]
     },
     "metadata": {},
     "output_type": "display_data"
    },
    {
     "data": {
      "application/vnd.jupyter.widget-view+json": {
       "model_id": "",
       "version_major": 2,
       "version_minor": 0
      },
      "text/plain": [
       "Films:   0%|          | 0/10 [00:00<?, ?it/s]"
      ]
     },
     "metadata": {},
     "output_type": "display_data"
    },
    {
     "data": {
      "application/vnd.jupyter.widget-view+json": {
       "model_id": "",
       "version_major": 2,
       "version_minor": 0
      },
      "text/plain": [
       "Films:   0%|          | 0/10 [00:00<?, ?it/s]"
      ]
     },
     "metadata": {},
     "output_type": "display_data"
    },
    {
     "data": {
      "application/vnd.jupyter.widget-view+json": {
       "model_id": "",
       "version_major": 2,
       "version_minor": 0
      },
      "text/plain": [
       "Films:   0%|          | 0/10 [00:00<?, ?it/s]"
      ]
     },
     "metadata": {},
     "output_type": "display_data"
    },
    {
     "data": {
      "application/vnd.jupyter.widget-view+json": {
       "model_id": "",
       "version_major": 2,
       "version_minor": 0
      },
      "text/plain": [
       "Films:   0%|          | 0/10 [00:00<?, ?it/s]"
      ]
     },
     "metadata": {},
     "output_type": "display_data"
    },
    {
     "data": {
      "application/vnd.jupyter.widget-view+json": {
       "model_id": "",
       "version_major": 2,
       "version_minor": 0
      },
      "text/plain": [
       "Films:   0%|          | 0/10 [00:00<?, ?it/s]"
      ]
     },
     "metadata": {},
     "output_type": "display_data"
    },
    {
     "data": {
      "application/vnd.jupyter.widget-view+json": {
       "model_id": "",
       "version_major": 2,
       "version_minor": 0
      },
      "text/plain": [
       "Films:   0%|          | 0/10 [00:00<?, ?it/s]"
      ]
     },
     "metadata": {},
     "output_type": "display_data"
    },
    {
     "data": {
      "application/vnd.jupyter.widget-view+json": {
       "model_id": "",
       "version_major": 2,
       "version_minor": 0
      },
      "text/plain": [
       "Films:   0%|          | 0/10 [00:00<?, ?it/s]"
      ]
     },
     "metadata": {},
     "output_type": "display_data"
    },
    {
     "data": {
      "application/vnd.jupyter.widget-view+json": {
       "model_id": "",
       "version_major": 2,
       "version_minor": 0
      },
      "text/plain": [
       "Films:   0%|          | 0/10 [00:00<?, ?it/s]"
      ]
     },
     "metadata": {},
     "output_type": "display_data"
    },
    {
     "data": {
      "application/vnd.jupyter.widget-view+json": {
       "model_id": "",
       "version_major": 2,
       "version_minor": 0
      },
      "text/plain": [
       "Films:   0%|          | 0/10 [00:00<?, ?it/s]"
      ]
     },
     "metadata": {},
     "output_type": "display_data"
    },
    {
     "data": {
      "application/vnd.jupyter.widget-view+json": {
       "model_id": "",
       "version_major": 2,
       "version_minor": 0
      },
      "text/plain": [
       "Films:   0%|          | 0/10 [00:00<?, ?it/s]"
      ]
     },
     "metadata": {},
     "output_type": "display_data"
    },
    {
     "data": {
      "application/vnd.jupyter.widget-view+json": {
       "model_id": "",
       "version_major": 2,
       "version_minor": 0
      },
      "text/plain": [
       "Films:   0%|          | 0/10 [00:00<?, ?it/s]"
      ]
     },
     "metadata": {},
     "output_type": "display_data"
    },
    {
     "data": {
      "application/vnd.jupyter.widget-view+json": {
       "model_id": "",
       "version_major": 2,
       "version_minor": 0
      },
      "text/plain": [
       "Films:   0%|          | 0/10 [00:00<?, ?it/s]"
      ]
     },
     "metadata": {},
     "output_type": "display_data"
    },
    {
     "data": {
      "application/vnd.jupyter.widget-view+json": {
       "model_id": "",
       "version_major": 2,
       "version_minor": 0
      },
      "text/plain": [
       "Films:   0%|          | 0/10 [00:00<?, ?it/s]"
      ]
     },
     "metadata": {},
     "output_type": "display_data"
    },
    {
     "data": {
      "application/vnd.jupyter.widget-view+json": {
       "model_id": "",
       "version_major": 2,
       "version_minor": 0
      },
      "text/plain": [
       "Films:   0%|          | 0/10 [00:00<?, ?it/s]"
      ]
     },
     "metadata": {},
     "output_type": "display_data"
    },
    {
     "data": {
      "application/vnd.jupyter.widget-view+json": {
       "model_id": "",
       "version_major": 2,
       "version_minor": 0
      },
      "text/plain": [
       "Films:   0%|          | 0/10 [00:00<?, ?it/s]"
      ]
     },
     "metadata": {},
     "output_type": "display_data"
    },
    {
     "data": {
      "application/vnd.jupyter.widget-view+json": {
       "model_id": "",
       "version_major": 2,
       "version_minor": 0
      },
      "text/plain": [
       "Films:   0%|          | 0/10 [00:00<?, ?it/s]"
      ]
     },
     "metadata": {},
     "output_type": "display_data"
    },
    {
     "data": {
      "application/vnd.jupyter.widget-view+json": {
       "model_id": "",
       "version_major": 2,
       "version_minor": 0
      },
      "text/plain": [
       "Films:   0%|          | 0/10 [00:00<?, ?it/s]"
      ]
     },
     "metadata": {},
     "output_type": "display_data"
    },
    {
     "data": {
      "application/vnd.jupyter.widget-view+json": {
       "model_id": "",
       "version_major": 2,
       "version_minor": 0
      },
      "text/plain": [
       "Films:   0%|          | 0/10 [00:00<?, ?it/s]"
      ]
     },
     "metadata": {},
     "output_type": "display_data"
    },
    {
     "data": {
      "application/vnd.jupyter.widget-view+json": {
       "model_id": "",
       "version_major": 2,
       "version_minor": 0
      },
      "text/plain": [
       "Films:   0%|          | 0/10 [00:00<?, ?it/s]"
      ]
     },
     "metadata": {},
     "output_type": "display_data"
    },
    {
     "data": {
      "application/vnd.jupyter.widget-view+json": {
       "model_id": "",
       "version_major": 2,
       "version_minor": 0
      },
      "text/plain": [
       "Films:   0%|          | 0/10 [00:00<?, ?it/s]"
      ]
     },
     "metadata": {},
     "output_type": "display_data"
    },
    {
     "data": {
      "application/vnd.jupyter.widget-view+json": {
       "model_id": "",
       "version_major": 2,
       "version_minor": 0
      },
      "text/plain": [
       "Films:   0%|          | 0/10 [00:00<?, ?it/s]"
      ]
     },
     "metadata": {},
     "output_type": "display_data"
    },
    {
     "data": {
      "application/vnd.jupyter.widget-view+json": {
       "model_id": "",
       "version_major": 2,
       "version_minor": 0
      },
      "text/plain": [
       "Films:   0%|          | 0/10 [00:00<?, ?it/s]"
      ]
     },
     "metadata": {},
     "output_type": "display_data"
    },
    {
     "data": {
      "application/vnd.jupyter.widget-view+json": {
       "model_id": "",
       "version_major": 2,
       "version_minor": 0
      },
      "text/plain": [
       "Films:   0%|          | 0/10 [00:00<?, ?it/s]"
      ]
     },
     "metadata": {},
     "output_type": "display_data"
    },
    {
     "data": {
      "application/vnd.jupyter.widget-view+json": {
       "model_id": "",
       "version_major": 2,
       "version_minor": 0
      },
      "text/plain": [
       "Films:   0%|          | 0/10 [00:00<?, ?it/s]"
      ]
     },
     "metadata": {},
     "output_type": "display_data"
    },
    {
     "data": {
      "application/vnd.jupyter.widget-view+json": {
       "model_id": "",
       "version_major": 2,
       "version_minor": 0
      },
      "text/plain": [
       "Films:   0%|          | 0/10 [00:00<?, ?it/s]"
      ]
     },
     "metadata": {},
     "output_type": "display_data"
    },
    {
     "data": {
      "application/vnd.jupyter.widget-view+json": {
       "model_id": "",
       "version_major": 2,
       "version_minor": 0
      },
      "text/plain": [
       "Films:   0%|          | 0/10 [00:00<?, ?it/s]"
      ]
     },
     "metadata": {},
     "output_type": "display_data"
    },
    {
     "data": {
      "application/vnd.jupyter.widget-view+json": {
       "model_id": "",
       "version_major": 2,
       "version_minor": 0
      },
      "text/plain": [
       "Films:   0%|          | 0/10 [00:00<?, ?it/s]"
      ]
     },
     "metadata": {},
     "output_type": "display_data"
    },
    {
     "data": {
      "application/vnd.jupyter.widget-view+json": {
       "model_id": "",
       "version_major": 2,
       "version_minor": 0
      },
      "text/plain": [
       "Films:   0%|          | 0/10 [00:00<?, ?it/s]"
      ]
     },
     "metadata": {},
     "output_type": "display_data"
    },
    {
     "data": {
      "application/vnd.jupyter.widget-view+json": {
       "model_id": "",
       "version_major": 2,
       "version_minor": 0
      },
      "text/plain": [
       "Films:   0%|          | 0/10 [00:00<?, ?it/s]"
      ]
     },
     "metadata": {},
     "output_type": "display_data"
    },
    {
     "data": {
      "application/vnd.jupyter.widget-view+json": {
       "model_id": "",
       "version_major": 2,
       "version_minor": 0
      },
      "text/plain": [
       "Films:   0%|          | 0/10 [00:00<?, ?it/s]"
      ]
     },
     "metadata": {},
     "output_type": "display_data"
    },
    {
     "data": {
      "application/vnd.jupyter.widget-view+json": {
       "model_id": "",
       "version_major": 2,
       "version_minor": 0
      },
      "text/plain": [
       "Films:   0%|          | 0/10 [00:00<?, ?it/s]"
      ]
     },
     "metadata": {},
     "output_type": "display_data"
    },
    {
     "data": {
      "application/vnd.jupyter.widget-view+json": {
       "model_id": "",
       "version_major": 2,
       "version_minor": 0
      },
      "text/plain": [
       "Films:   0%|          | 0/10 [00:00<?, ?it/s]"
      ]
     },
     "metadata": {},
     "output_type": "display_data"
    },
    {
     "data": {
      "application/vnd.jupyter.widget-view+json": {
       "model_id": "",
       "version_major": 2,
       "version_minor": 0
      },
      "text/plain": [
       "Films:   0%|          | 0/10 [00:00<?, ?it/s]"
      ]
     },
     "metadata": {},
     "output_type": "display_data"
    },
    {
     "data": {
      "application/vnd.jupyter.widget-view+json": {
       "model_id": "",
       "version_major": 2,
       "version_minor": 0
      },
      "text/plain": [
       "Films:   0%|          | 0/10 [00:00<?, ?it/s]"
      ]
     },
     "metadata": {},
     "output_type": "display_data"
    },
    {
     "data": {
      "application/vnd.jupyter.widget-view+json": {
       "model_id": "",
       "version_major": 2,
       "version_minor": 0
      },
      "text/plain": [
       "Films:   0%|          | 0/10 [00:00<?, ?it/s]"
      ]
     },
     "metadata": {},
     "output_type": "display_data"
    },
    {
     "data": {
      "application/vnd.jupyter.widget-view+json": {
       "model_id": "",
       "version_major": 2,
       "version_minor": 0
      },
      "text/plain": [
       "Films:   0%|          | 0/10 [00:00<?, ?it/s]"
      ]
     },
     "metadata": {},
     "output_type": "display_data"
    },
    {
     "data": {
      "application/vnd.jupyter.widget-view+json": {
       "model_id": "",
       "version_major": 2,
       "version_minor": 0
      },
      "text/plain": [
       "Films:   0%|          | 0/10 [00:00<?, ?it/s]"
      ]
     },
     "metadata": {},
     "output_type": "display_data"
    },
    {
     "data": {
      "application/vnd.jupyter.widget-view+json": {
       "model_id": "",
       "version_major": 2,
       "version_minor": 0
      },
      "text/plain": [
       "Films:   0%|          | 0/10 [00:00<?, ?it/s]"
      ]
     },
     "metadata": {},
     "output_type": "display_data"
    },
    {
     "data": {
      "application/vnd.jupyter.widget-view+json": {
       "model_id": "",
       "version_major": 2,
       "version_minor": 0
      },
      "text/plain": [
       "Films:   0%|          | 0/10 [00:00<?, ?it/s]"
      ]
     },
     "metadata": {},
     "output_type": "display_data"
    },
    {
     "data": {
      "application/vnd.jupyter.widget-view+json": {
       "model_id": "",
       "version_major": 2,
       "version_minor": 0
      },
      "text/plain": [
       "Films:   0%|          | 0/10 [00:00<?, ?it/s]"
      ]
     },
     "metadata": {},
     "output_type": "display_data"
    },
    {
     "data": {
      "application/vnd.jupyter.widget-view+json": {
       "model_id": "",
       "version_major": 2,
       "version_minor": 0
      },
      "text/plain": [
       "Films:   0%|          | 0/10 [00:00<?, ?it/s]"
      ]
     },
     "metadata": {},
     "output_type": "display_data"
    },
    {
     "data": {
      "application/vnd.jupyter.widget-view+json": {
       "model_id": "",
       "version_major": 2,
       "version_minor": 0
      },
      "text/plain": [
       "Films:   0%|          | 0/10 [00:00<?, ?it/s]"
      ]
     },
     "metadata": {},
     "output_type": "display_data"
    },
    {
     "data": {
      "application/vnd.jupyter.widget-view+json": {
       "model_id": "",
       "version_major": 2,
       "version_minor": 0
      },
      "text/plain": [
       "Films:   0%|          | 0/10 [00:00<?, ?it/s]"
      ]
     },
     "metadata": {},
     "output_type": "display_data"
    },
    {
     "data": {
      "application/vnd.jupyter.widget-view+json": {
       "model_id": "",
       "version_major": 2,
       "version_minor": 0
      },
      "text/plain": [
       "Films:   0%|          | 0/10 [00:00<?, ?it/s]"
      ]
     },
     "metadata": {},
     "output_type": "display_data"
    },
    {
     "data": {
      "application/vnd.jupyter.widget-view+json": {
       "model_id": "",
       "version_major": 2,
       "version_minor": 0
      },
      "text/plain": [
       "Films:   0%|          | 0/10 [00:00<?, ?it/s]"
      ]
     },
     "metadata": {},
     "output_type": "display_data"
    },
    {
     "data": {
      "application/vnd.jupyter.widget-view+json": {
       "model_id": "",
       "version_major": 2,
       "version_minor": 0
      },
      "text/plain": [
       "Films:   0%|          | 0/10 [00:00<?, ?it/s]"
      ]
     },
     "metadata": {},
     "output_type": "display_data"
    },
    {
     "data": {
      "application/vnd.jupyter.widget-view+json": {
       "model_id": "",
       "version_major": 2,
       "version_minor": 0
      },
      "text/plain": [
       "Films:   0%|          | 0/10 [00:00<?, ?it/s]"
      ]
     },
     "metadata": {},
     "output_type": "display_data"
    },
    {
     "data": {
      "application/vnd.jupyter.widget-view+json": {
       "model_id": "",
       "version_major": 2,
       "version_minor": 0
      },
      "text/plain": [
       "Films:   0%|          | 0/10 [00:00<?, ?it/s]"
      ]
     },
     "metadata": {},
     "output_type": "display_data"
    },
    {
     "data": {
      "application/vnd.jupyter.widget-view+json": {
       "model_id": "",
       "version_major": 2,
       "version_minor": 0
      },
      "text/plain": [
       "Films:   0%|          | 0/10 [00:00<?, ?it/s]"
      ]
     },
     "metadata": {},
     "output_type": "display_data"
    },
    {
     "data": {
      "application/vnd.jupyter.widget-view+json": {
       "model_id": "",
       "version_major": 2,
       "version_minor": 0
      },
      "text/plain": [
       "Films:   0%|          | 0/10 [00:00<?, ?it/s]"
      ]
     },
     "metadata": {},
     "output_type": "display_data"
    },
    {
     "data": {
      "application/vnd.jupyter.widget-view+json": {
       "model_id": "",
       "version_major": 2,
       "version_minor": 0
      },
      "text/plain": [
       "Films:   0%|          | 0/10 [00:00<?, ?it/s]"
      ]
     },
     "metadata": {},
     "output_type": "display_data"
    },
    {
     "data": {
      "application/vnd.jupyter.widget-view+json": {
       "model_id": "",
       "version_major": 2,
       "version_minor": 0
      },
      "text/plain": [
       "Films:   0%|          | 0/10 [00:00<?, ?it/s]"
      ]
     },
     "metadata": {},
     "output_type": "display_data"
    },
    {
     "data": {
      "application/vnd.jupyter.widget-view+json": {
       "model_id": "",
       "version_major": 2,
       "version_minor": 0
      },
      "text/plain": [
       "Films:   0%|          | 0/10 [00:00<?, ?it/s]"
      ]
     },
     "metadata": {},
     "output_type": "display_data"
    },
    {
     "data": {
      "application/vnd.jupyter.widget-view+json": {
       "model_id": "",
       "version_major": 2,
       "version_minor": 0
      },
      "text/plain": [
       "Films:   0%|          | 0/10 [00:00<?, ?it/s]"
      ]
     },
     "metadata": {},
     "output_type": "display_data"
    },
    {
     "data": {
      "application/vnd.jupyter.widget-view+json": {
       "model_id": "",
       "version_major": 2,
       "version_minor": 0
      },
      "text/plain": [
       "Films:   0%|          | 0/10 [00:00<?, ?it/s]"
      ]
     },
     "metadata": {},
     "output_type": "display_data"
    },
    {
     "data": {
      "application/vnd.jupyter.widget-view+json": {
       "model_id": "",
       "version_major": 2,
       "version_minor": 0
      },
      "text/plain": [
       "Films:   0%|          | 0/10 [00:00<?, ?it/s]"
      ]
     },
     "metadata": {},
     "output_type": "display_data"
    },
    {
     "data": {
      "application/vnd.jupyter.widget-view+json": {
       "model_id": "",
       "version_major": 2,
       "version_minor": 0
      },
      "text/plain": [
       "Films:   0%|          | 0/10 [00:00<?, ?it/s]"
      ]
     },
     "metadata": {},
     "output_type": "display_data"
    },
    {
     "data": {
      "application/vnd.jupyter.widget-view+json": {
       "model_id": "",
       "version_major": 2,
       "version_minor": 0
      },
      "text/plain": [
       "Films:   0%|          | 0/10 [00:00<?, ?it/s]"
      ]
     },
     "metadata": {},
     "output_type": "display_data"
    },
    {
     "data": {
      "application/vnd.jupyter.widget-view+json": {
       "model_id": "",
       "version_major": 2,
       "version_minor": 0
      },
      "text/plain": [
       "Films:   0%|          | 0/10 [00:00<?, ?it/s]"
      ]
     },
     "metadata": {},
     "output_type": "display_data"
    },
    {
     "data": {
      "application/vnd.jupyter.widget-view+json": {
       "model_id": "",
       "version_major": 2,
       "version_minor": 0
      },
      "text/plain": [
       "Films:   0%|          | 0/10 [00:00<?, ?it/s]"
      ]
     },
     "metadata": {},
     "output_type": "display_data"
    },
    {
     "data": {
      "application/vnd.jupyter.widget-view+json": {
       "model_id": "",
       "version_major": 2,
       "version_minor": 0
      },
      "text/plain": [
       "Films:   0%|          | 0/10 [00:00<?, ?it/s]"
      ]
     },
     "metadata": {},
     "output_type": "display_data"
    },
    {
     "data": {
      "application/vnd.jupyter.widget-view+json": {
       "model_id": "",
       "version_major": 2,
       "version_minor": 0
      },
      "text/plain": [
       "Films:   0%|          | 0/10 [00:00<?, ?it/s]"
      ]
     },
     "metadata": {},
     "output_type": "display_data"
    },
    {
     "data": {
      "application/vnd.jupyter.widget-view+json": {
       "model_id": "",
       "version_major": 2,
       "version_minor": 0
      },
      "text/plain": [
       "Films:   0%|          | 0/10 [00:00<?, ?it/s]"
      ]
     },
     "metadata": {},
     "output_type": "display_data"
    },
    {
     "data": {
      "application/vnd.jupyter.widget-view+json": {
       "model_id": "",
       "version_major": 2,
       "version_minor": 0
      },
      "text/plain": [
       "Films:   0%|          | 0/10 [00:00<?, ?it/s]"
      ]
     },
     "metadata": {},
     "output_type": "display_data"
    },
    {
     "data": {
      "application/vnd.jupyter.widget-view+json": {
       "model_id": "",
       "version_major": 2,
       "version_minor": 0
      },
      "text/plain": [
       "Films:   0%|          | 0/10 [00:00<?, ?it/s]"
      ]
     },
     "metadata": {},
     "output_type": "display_data"
    },
    {
     "data": {
      "application/vnd.jupyter.widget-view+json": {
       "model_id": "",
       "version_major": 2,
       "version_minor": 0
      },
      "text/plain": [
       "Films:   0%|          | 0/10 [00:00<?, ?it/s]"
      ]
     },
     "metadata": {},
     "output_type": "display_data"
    },
    {
     "data": {
      "application/vnd.jupyter.widget-view+json": {
       "model_id": "",
       "version_major": 2,
       "version_minor": 0
      },
      "text/plain": [
       "Films:   0%|          | 0/10 [00:00<?, ?it/s]"
      ]
     },
     "metadata": {},
     "output_type": "display_data"
    },
    {
     "data": {
      "application/vnd.jupyter.widget-view+json": {
       "model_id": "",
       "version_major": 2,
       "version_minor": 0
      },
      "text/plain": [
       "Films:   0%|          | 0/10 [00:00<?, ?it/s]"
      ]
     },
     "metadata": {},
     "output_type": "display_data"
    },
    {
     "data": {
      "application/vnd.jupyter.widget-view+json": {
       "model_id": "",
       "version_major": 2,
       "version_minor": 0
      },
      "text/plain": [
       "Films:   0%|          | 0/10 [00:00<?, ?it/s]"
      ]
     },
     "metadata": {},
     "output_type": "display_data"
    },
    {
     "data": {
      "application/vnd.jupyter.widget-view+json": {
       "model_id": "",
       "version_major": 2,
       "version_minor": 0
      },
      "text/plain": [
       "Films:   0%|          | 0/10 [00:00<?, ?it/s]"
      ]
     },
     "metadata": {},
     "output_type": "display_data"
    },
    {
     "data": {
      "application/vnd.jupyter.widget-view+json": {
       "model_id": "",
       "version_major": 2,
       "version_minor": 0
      },
      "text/plain": [
       "Films:   0%|          | 0/10 [00:00<?, ?it/s]"
      ]
     },
     "metadata": {},
     "output_type": "display_data"
    },
    {
     "data": {
      "application/vnd.jupyter.widget-view+json": {
       "model_id": "",
       "version_major": 2,
       "version_minor": 0
      },
      "text/plain": [
       "Films:   0%|          | 0/10 [00:00<?, ?it/s]"
      ]
     },
     "metadata": {},
     "output_type": "display_data"
    },
    {
     "data": {
      "application/vnd.jupyter.widget-view+json": {
       "model_id": "",
       "version_major": 2,
       "version_minor": 0
      },
      "text/plain": [
       "Films:   0%|          | 0/10 [00:00<?, ?it/s]"
      ]
     },
     "metadata": {},
     "output_type": "display_data"
    },
    {
     "data": {
      "application/vnd.jupyter.widget-view+json": {
       "model_id": "",
       "version_major": 2,
       "version_minor": 0
      },
      "text/plain": [
       "Films:   0%|          | 0/10 [00:00<?, ?it/s]"
      ]
     },
     "metadata": {},
     "output_type": "display_data"
    },
    {
     "data": {
      "application/vnd.jupyter.widget-view+json": {
       "model_id": "",
       "version_major": 2,
       "version_minor": 0
      },
      "text/plain": [
       "Films:   0%|          | 0/10 [00:00<?, ?it/s]"
      ]
     },
     "metadata": {},
     "output_type": "display_data"
    },
    {
     "data": {
      "application/vnd.jupyter.widget-view+json": {
       "model_id": "",
       "version_major": 2,
       "version_minor": 0
      },
      "text/plain": [
       "Films:   0%|          | 0/10 [00:00<?, ?it/s]"
      ]
     },
     "metadata": {},
     "output_type": "display_data"
    },
    {
     "data": {
      "application/vnd.jupyter.widget-view+json": {
       "model_id": "",
       "version_major": 2,
       "version_minor": 0
      },
      "text/plain": [
       "Films:   0%|          | 0/10 [00:00<?, ?it/s]"
      ]
     },
     "metadata": {},
     "output_type": "display_data"
    },
    {
     "data": {
      "application/vnd.jupyter.widget-view+json": {
       "model_id": "",
       "version_major": 2,
       "version_minor": 0
      },
      "text/plain": [
       "Films:   0%|          | 0/10 [00:00<?, ?it/s]"
      ]
     },
     "metadata": {},
     "output_type": "display_data"
    },
    {
     "data": {
      "application/vnd.jupyter.widget-view+json": {
       "model_id": "",
       "version_major": 2,
       "version_minor": 0
      },
      "text/plain": [
       "Films:   0%|          | 0/10 [00:00<?, ?it/s]"
      ]
     },
     "metadata": {},
     "output_type": "display_data"
    },
    {
     "data": {
      "application/vnd.jupyter.widget-view+json": {
       "model_id": "",
       "version_major": 2,
       "version_minor": 0
      },
      "text/plain": [
       "Films:   0%|          | 0/10 [00:00<?, ?it/s]"
      ]
     },
     "metadata": {},
     "output_type": "display_data"
    },
    {
     "data": {
      "application/vnd.jupyter.widget-view+json": {
       "model_id": "",
       "version_major": 2,
       "version_minor": 0
      },
      "text/plain": [
       "Films:   0%|          | 0/10 [00:00<?, ?it/s]"
      ]
     },
     "metadata": {},
     "output_type": "display_data"
    },
    {
     "data": {
      "application/vnd.jupyter.widget-view+json": {
       "model_id": "",
       "version_major": 2,
       "version_minor": 0
      },
      "text/plain": [
       "Films:   0%|          | 0/10 [00:00<?, ?it/s]"
      ]
     },
     "metadata": {},
     "output_type": "display_data"
    },
    {
     "data": {
      "application/vnd.jupyter.widget-view+json": {
       "model_id": "",
       "version_major": 2,
       "version_minor": 0
      },
      "text/plain": [
       "Films:   0%|          | 0/10 [00:00<?, ?it/s]"
      ]
     },
     "metadata": {},
     "output_type": "display_data"
    },
    {
     "data": {
      "application/vnd.jupyter.widget-view+json": {
       "model_id": "",
       "version_major": 2,
       "version_minor": 0
      },
      "text/plain": [
       "Films:   0%|          | 0/10 [00:00<?, ?it/s]"
      ]
     },
     "metadata": {},
     "output_type": "display_data"
    },
    {
     "data": {
      "application/vnd.jupyter.widget-view+json": {
       "model_id": "",
       "version_major": 2,
       "version_minor": 0
      },
      "text/plain": [
       "Films:   0%|          | 0/10 [00:00<?, ?it/s]"
      ]
     },
     "metadata": {},
     "output_type": "display_data"
    },
    {
     "data": {
      "application/vnd.jupyter.widget-view+json": {
       "model_id": "",
       "version_major": 2,
       "version_minor": 0
      },
      "text/plain": [
       "Films:   0%|          | 0/10 [00:00<?, ?it/s]"
      ]
     },
     "metadata": {},
     "output_type": "display_data"
    },
    {
     "data": {
      "application/vnd.jupyter.widget-view+json": {
       "model_id": "",
       "version_major": 2,
       "version_minor": 0
      },
      "text/plain": [
       "Films:   0%|          | 0/10 [00:00<?, ?it/s]"
      ]
     },
     "metadata": {},
     "output_type": "display_data"
    },
    {
     "data": {
      "application/vnd.jupyter.widget-view+json": {
       "model_id": "",
       "version_major": 2,
       "version_minor": 0
      },
      "text/plain": [
       "Films:   0%|          | 0/10 [00:00<?, ?it/s]"
      ]
     },
     "metadata": {},
     "output_type": "display_data"
    },
    {
     "data": {
      "application/vnd.jupyter.widget-view+json": {
       "model_id": "",
       "version_major": 2,
       "version_minor": 0
      },
      "text/plain": [
       "Films:   0%|          | 0/10 [00:00<?, ?it/s]"
      ]
     },
     "metadata": {},
     "output_type": "display_data"
    },
    {
     "data": {
      "application/vnd.jupyter.widget-view+json": {
       "model_id": "",
       "version_major": 2,
       "version_minor": 0
      },
      "text/plain": [
       "Films:   0%|          | 0/10 [00:00<?, ?it/s]"
      ]
     },
     "metadata": {},
     "output_type": "display_data"
    },
    {
     "data": {
      "application/vnd.jupyter.widget-view+json": {
       "model_id": "",
       "version_major": 2,
       "version_minor": 0
      },
      "text/plain": [
       "Films:   0%|          | 0/10 [00:00<?, ?it/s]"
      ]
     },
     "metadata": {},
     "output_type": "display_data"
    },
    {
     "data": {
      "application/vnd.jupyter.widget-view+json": {
       "model_id": "",
       "version_major": 2,
       "version_minor": 0
      },
      "text/plain": [
       "Films:   0%|          | 0/10 [00:00<?, ?it/s]"
      ]
     },
     "metadata": {},
     "output_type": "display_data"
    },
    {
     "data": {
      "application/vnd.jupyter.widget-view+json": {
       "model_id": "",
       "version_major": 2,
       "version_minor": 0
      },
      "text/plain": [
       "Films:   0%|          | 0/10 [00:00<?, ?it/s]"
      ]
     },
     "metadata": {},
     "output_type": "display_data"
    },
    {
     "data": {
      "application/vnd.jupyter.widget-view+json": {
       "model_id": "",
       "version_major": 2,
       "version_minor": 0
      },
      "text/plain": [
       "Films:   0%|          | 0/10 [00:00<?, ?it/s]"
      ]
     },
     "metadata": {},
     "output_type": "display_data"
    },
    {
     "data": {
      "application/vnd.jupyter.widget-view+json": {
       "model_id": "",
       "version_major": 2,
       "version_minor": 0
      },
      "text/plain": [
       "Films:   0%|          | 0/10 [00:00<?, ?it/s]"
      ]
     },
     "metadata": {},
     "output_type": "display_data"
    },
    {
     "data": {
      "application/vnd.jupyter.widget-view+json": {
       "model_id": "",
       "version_major": 2,
       "version_minor": 0
      },
      "text/plain": [
       "Films:   0%|          | 0/10 [00:00<?, ?it/s]"
      ]
     },
     "metadata": {},
     "output_type": "display_data"
    },
    {
     "data": {
      "application/vnd.jupyter.widget-view+json": {
       "model_id": "",
       "version_major": 2,
       "version_minor": 0
      },
      "text/plain": [
       "Films:   0%|          | 0/10 [00:00<?, ?it/s]"
      ]
     },
     "metadata": {},
     "output_type": "display_data"
    },
    {
     "data": {
      "application/vnd.jupyter.widget-view+json": {
       "model_id": "",
       "version_major": 2,
       "version_minor": 0
      },
      "text/plain": [
       "Films:   0%|          | 0/10 [00:00<?, ?it/s]"
      ]
     },
     "metadata": {},
     "output_type": "display_data"
    },
    {
     "data": {
      "application/vnd.jupyter.widget-view+json": {
       "model_id": "",
       "version_major": 2,
       "version_minor": 0
      },
      "text/plain": [
       "Films:   0%|          | 0/10 [00:00<?, ?it/s]"
      ]
     },
     "metadata": {},
     "output_type": "display_data"
    },
    {
     "data": {
      "application/vnd.jupyter.widget-view+json": {
       "model_id": "",
       "version_major": 2,
       "version_minor": 0
      },
      "text/plain": [
       "Films:   0%|          | 0/10 [00:00<?, ?it/s]"
      ]
     },
     "metadata": {},
     "output_type": "display_data"
    },
    {
     "data": {
      "application/vnd.jupyter.widget-view+json": {
       "model_id": "",
       "version_major": 2,
       "version_minor": 0
      },
      "text/plain": [
       "Films:   0%|          | 0/10 [00:00<?, ?it/s]"
      ]
     },
     "metadata": {},
     "output_type": "display_data"
    },
    {
     "data": {
      "application/vnd.jupyter.widget-view+json": {
       "model_id": "",
       "version_major": 2,
       "version_minor": 0
      },
      "text/plain": [
       "Films:   0%|          | 0/10 [00:00<?, ?it/s]"
      ]
     },
     "metadata": {},
     "output_type": "display_data"
    },
    {
     "data": {
      "application/vnd.jupyter.widget-view+json": {
       "model_id": "",
       "version_major": 2,
       "version_minor": 0
      },
      "text/plain": [
       "Films:   0%|          | 0/10 [00:00<?, ?it/s]"
      ]
     },
     "metadata": {},
     "output_type": "display_data"
    },
    {
     "data": {
      "application/vnd.jupyter.widget-view+json": {
       "model_id": "",
       "version_major": 2,
       "version_minor": 0
      },
      "text/plain": [
       "Films:   0%|          | 0/10 [00:00<?, ?it/s]"
      ]
     },
     "metadata": {},
     "output_type": "display_data"
    },
    {
     "data": {
      "application/vnd.jupyter.widget-view+json": {
       "model_id": "",
       "version_major": 2,
       "version_minor": 0
      },
      "text/plain": [
       "Films:   0%|          | 0/10 [00:00<?, ?it/s]"
      ]
     },
     "metadata": {},
     "output_type": "display_data"
    },
    {
     "data": {
      "application/vnd.jupyter.widget-view+json": {
       "model_id": "",
       "version_major": 2,
       "version_minor": 0
      },
      "text/plain": [
       "Films:   0%|          | 0/10 [00:00<?, ?it/s]"
      ]
     },
     "metadata": {},
     "output_type": "display_data"
    },
    {
     "data": {
      "application/vnd.jupyter.widget-view+json": {
       "model_id": "",
       "version_major": 2,
       "version_minor": 0
      },
      "text/plain": [
       "Films:   0%|          | 0/10 [00:00<?, ?it/s]"
      ]
     },
     "metadata": {},
     "output_type": "display_data"
    },
    {
     "data": {
      "application/vnd.jupyter.widget-view+json": {
       "model_id": "",
       "version_major": 2,
       "version_minor": 0
      },
      "text/plain": [
       "Films:   0%|          | 0/10 [00:00<?, ?it/s]"
      ]
     },
     "metadata": {},
     "output_type": "display_data"
    },
    {
     "data": {
      "application/vnd.jupyter.widget-view+json": {
       "model_id": "",
       "version_major": 2,
       "version_minor": 0
      },
      "text/plain": [
       "Films:   0%|          | 0/10 [00:00<?, ?it/s]"
      ]
     },
     "metadata": {},
     "output_type": "display_data"
    },
    {
     "data": {
      "application/vnd.jupyter.widget-view+json": {
       "model_id": "",
       "version_major": 2,
       "version_minor": 0
      },
      "text/plain": [
       "Films:   0%|          | 0/10 [00:00<?, ?it/s]"
      ]
     },
     "metadata": {},
     "output_type": "display_data"
    },
    {
     "data": {
      "application/vnd.jupyter.widget-view+json": {
       "model_id": "",
       "version_major": 2,
       "version_minor": 0
      },
      "text/plain": [
       "Films:   0%|          | 0/10 [00:00<?, ?it/s]"
      ]
     },
     "metadata": {},
     "output_type": "display_data"
    },
    {
     "data": {
      "application/vnd.jupyter.widget-view+json": {
       "model_id": "",
       "version_major": 2,
       "version_minor": 0
      },
      "text/plain": [
       "Films:   0%|          | 0/10 [00:00<?, ?it/s]"
      ]
     },
     "metadata": {},
     "output_type": "display_data"
    },
    {
     "data": {
      "application/vnd.jupyter.widget-view+json": {
       "model_id": "",
       "version_major": 2,
       "version_minor": 0
      },
      "text/plain": [
       "Films:   0%|          | 0/10 [00:00<?, ?it/s]"
      ]
     },
     "metadata": {},
     "output_type": "display_data"
    },
    {
     "data": {
      "application/vnd.jupyter.widget-view+json": {
       "model_id": "",
       "version_major": 2,
       "version_minor": 0
      },
      "text/plain": [
       "Films:   0%|          | 0/10 [00:00<?, ?it/s]"
      ]
     },
     "metadata": {},
     "output_type": "display_data"
    },
    {
     "data": {
      "application/vnd.jupyter.widget-view+json": {
       "model_id": "",
       "version_major": 2,
       "version_minor": 0
      },
      "text/plain": [
       "Films:   0%|          | 0/10 [00:00<?, ?it/s]"
      ]
     },
     "metadata": {},
     "output_type": "display_data"
    },
    {
     "data": {
      "application/vnd.jupyter.widget-view+json": {
       "model_id": "",
       "version_major": 2,
       "version_minor": 0
      },
      "text/plain": [
       "Films:   0%|          | 0/10 [00:00<?, ?it/s]"
      ]
     },
     "metadata": {},
     "output_type": "display_data"
    },
    {
     "data": {
      "application/vnd.jupyter.widget-view+json": {
       "model_id": "",
       "version_major": 2,
       "version_minor": 0
      },
      "text/plain": [
       "Films:   0%|          | 0/10 [00:00<?, ?it/s]"
      ]
     },
     "metadata": {},
     "output_type": "display_data"
    },
    {
     "data": {
      "application/vnd.jupyter.widget-view+json": {
       "model_id": "",
       "version_major": 2,
       "version_minor": 0
      },
      "text/plain": [
       "Films:   0%|          | 0/10 [00:00<?, ?it/s]"
      ]
     },
     "metadata": {},
     "output_type": "display_data"
    },
    {
     "data": {
      "application/vnd.jupyter.widget-view+json": {
       "model_id": "",
       "version_major": 2,
       "version_minor": 0
      },
      "text/plain": [
       "Films:   0%|          | 0/10 [00:00<?, ?it/s]"
      ]
     },
     "metadata": {},
     "output_type": "display_data"
    },
    {
     "data": {
      "application/vnd.jupyter.widget-view+json": {
       "model_id": "",
       "version_major": 2,
       "version_minor": 0
      },
      "text/plain": [
       "Films:   0%|          | 0/10 [00:00<?, ?it/s]"
      ]
     },
     "metadata": {},
     "output_type": "display_data"
    },
    {
     "data": {
      "application/vnd.jupyter.widget-view+json": {
       "model_id": "",
       "version_major": 2,
       "version_minor": 0
      },
      "text/plain": [
       "Films:   0%|          | 0/10 [00:00<?, ?it/s]"
      ]
     },
     "metadata": {},
     "output_type": "display_data"
    },
    {
     "data": {
      "application/vnd.jupyter.widget-view+json": {
       "model_id": "",
       "version_major": 2,
       "version_minor": 0
      },
      "text/plain": [
       "Films:   0%|          | 0/10 [00:00<?, ?it/s]"
      ]
     },
     "metadata": {},
     "output_type": "display_data"
    },
    {
     "data": {
      "application/vnd.jupyter.widget-view+json": {
       "model_id": "",
       "version_major": 2,
       "version_minor": 0
      },
      "text/plain": [
       "Films:   0%|          | 0/10 [00:00<?, ?it/s]"
      ]
     },
     "metadata": {},
     "output_type": "display_data"
    },
    {
     "data": {
      "application/vnd.jupyter.widget-view+json": {
       "model_id": "",
       "version_major": 2,
       "version_minor": 0
      },
      "text/plain": [
       "Films:   0%|          | 0/10 [00:00<?, ?it/s]"
      ]
     },
     "metadata": {},
     "output_type": "display_data"
    },
    {
     "data": {
      "application/vnd.jupyter.widget-view+json": {
       "model_id": "",
       "version_major": 2,
       "version_minor": 0
      },
      "text/plain": [
       "Films:   0%|          | 0/10 [00:00<?, ?it/s]"
      ]
     },
     "metadata": {},
     "output_type": "display_data"
    },
    {
     "data": {
      "application/vnd.jupyter.widget-view+json": {
       "model_id": "",
       "version_major": 2,
       "version_minor": 0
      },
      "text/plain": [
       "Films:   0%|          | 0/10 [00:00<?, ?it/s]"
      ]
     },
     "metadata": {},
     "output_type": "display_data"
    },
    {
     "data": {
      "application/vnd.jupyter.widget-view+json": {
       "model_id": "",
       "version_major": 2,
       "version_minor": 0
      },
      "text/plain": [
       "Films:   0%|          | 0/10 [00:00<?, ?it/s]"
      ]
     },
     "metadata": {},
     "output_type": "display_data"
    },
    {
     "data": {
      "application/vnd.jupyter.widget-view+json": {
       "model_id": "",
       "version_major": 2,
       "version_minor": 0
      },
      "text/plain": [
       "Films:   0%|          | 0/10 [00:00<?, ?it/s]"
      ]
     },
     "metadata": {},
     "output_type": "display_data"
    },
    {
     "data": {
      "application/vnd.jupyter.widget-view+json": {
       "model_id": "",
       "version_major": 2,
       "version_minor": 0
      },
      "text/plain": [
       "Films:   0%|          | 0/10 [00:00<?, ?it/s]"
      ]
     },
     "metadata": {},
     "output_type": "display_data"
    },
    {
     "ename": "TypeError",
     "evalue": "'NoneType' object is not subscriptable",
     "output_type": "error",
     "traceback": [
      "\u001b[1;31m---------------------------------------------------------------------------\u001b[0m",
      "\u001b[1;31mTypeError\u001b[0m                                 Traceback (most recent call last)",
      "Cell \u001b[1;32mIn[107], line 8\u001b[0m\n\u001b[0;32m      3\u001b[0m final_df \u001b[38;5;241m=\u001b[39m pd\u001b[38;5;241m.\u001b[39mDataFrame(columns \u001b[38;5;241m=\u001b[39m [\u001b[38;5;124m'\u001b[39m\u001b[38;5;124mdate_added\u001b[39m\u001b[38;5;124m'\u001b[39m, \u001b[38;5;124m'\u001b[39m\u001b[38;5;124mviews\u001b[39m\u001b[38;5;124m'\u001b[39m, \u001b[38;5;124m'\u001b[39m\u001b[38;5;124mcomments\u001b[39m\u001b[38;5;124m'\u001b[39m, \u001b[38;5;124m'\u001b[39m\u001b[38;5;124mTitle\u001b[39m\u001b[38;5;124m'\u001b[39m, \u001b[38;5;124m'\u001b[39m\u001b[38;5;124mText\u001b[39m\u001b[38;5;124m'\u001b[39m])\n\u001b[0;32m      5\u001b[0m \u001b[38;5;28;01mfor\u001b[39;00m page_number \u001b[38;5;129;01min\u001b[39;00m tqdm_notebook(\u001b[38;5;28mrange\u001b[39m(\u001b[38;5;241m1\u001b[39m, \u001b[38;5;241m196\u001b[39m), desc \u001b[38;5;241m=\u001b[39m \u001b[38;5;124m'\u001b[39m\u001b[38;5;124mPages\u001b[39m\u001b[38;5;124m'\u001b[39m):\n\u001b[0;32m      6\u001b[0m     \n\u001b[0;32m      7\u001b[0m     \u001b[38;5;66;03m# Собрали ссылки с текущей страницы\u001b[39;00m\n\u001b[1;32m----> 8\u001b[0m     film_links \u001b[38;5;241m=\u001b[39m \u001b[43mgetPageLinks\u001b[49m\u001b[43m(\u001b[49m\u001b[43mpage_number\u001b[49m\u001b[43m)\u001b[49m\n\u001b[0;32m      9\u001b[0m     \u001b[38;5;28;01mfor\u001b[39;00m film_links \u001b[38;5;129;01min\u001b[39;00m tqdm_notebook(film_links, desc \u001b[38;5;241m=\u001b[39m \u001b[38;5;124m'\u001b[39m\u001b[38;5;124mFilms\u001b[39m\u001b[38;5;124m'\u001b[39m, leave \u001b[38;5;241m=\u001b[39m \u001b[38;5;28;01mFalse\u001b[39;00m):\n\u001b[0;32m     10\u001b[0m         \u001b[38;5;66;03m# Иногда с первого раза страница не парсится\u001b[39;00m\n\u001b[0;32m     11\u001b[0m         \u001b[38;5;28;01mfor\u001b[39;00m i \u001b[38;5;129;01min\u001b[39;00m \u001b[38;5;28mrange\u001b[39m(\u001b[38;5;241m3\u001b[39m):\n",
      "Cell \u001b[1;32mIn[96], line 30\u001b[0m, in \u001b[0;36mgetPageLinks\u001b[1;34m(page_number)\u001b[0m\n\u001b[0;32m     27\u001b[0m     img_div \u001b[38;5;241m=\u001b[39m obj\u001b[38;5;241m.\u001b[39mfind(\u001b[38;5;124m'\u001b[39m\u001b[38;5;124mdiv\u001b[39m\u001b[38;5;124m'\u001b[39m, class_ \u001b[38;5;241m=\u001b[39m \u001b[38;5;124m'\u001b[39m\u001b[38;5;124mfilm-item-img crop-film-item-img\u001b[39m\u001b[38;5;124m'\u001b[39m)\n\u001b[0;32m     29\u001b[0m     \u001b[38;5;28;01mif\u001b[39;00m img_div:\n\u001b[1;32m---> 30\u001b[0m         link \u001b[38;5;241m=\u001b[39m \u001b[43mimg_div\u001b[49m\u001b[38;5;241;43m.\u001b[39;49m\u001b[43mfind\u001b[49m\u001b[43m(\u001b[49m\u001b[38;5;124;43m'\u001b[39;49m\u001b[38;5;124;43ma\u001b[39;49m\u001b[38;5;124;43m'\u001b[39;49m\u001b[43m)\u001b[49m\u001b[43m[\u001b[49m\u001b[38;5;124;43m'\u001b[39;49m\u001b[38;5;124;43mhref\u001b[39;49m\u001b[38;5;124;43m'\u001b[39;49m\u001b[43m]\u001b[49m\n\u001b[0;32m     31\u001b[0m         links\u001b[38;5;241m.\u001b[39mappend(link)\n\u001b[0;32m     33\u001b[0m film_links \u001b[38;5;241m=\u001b[39m [\u001b[38;5;124m'\u001b[39m\u001b[38;5;124mhttps://exler.ru\u001b[39m\u001b[38;5;124m'\u001b[39m \u001b[38;5;241m+\u001b[39m link \u001b[38;5;28;01mfor\u001b[39;00m link \u001b[38;5;129;01min\u001b[39;00m links]\n",
      "\u001b[1;31mTypeError\u001b[0m: 'NoneType' object is not subscriptable"
     ]
    }
   ],
   "source": [
    "from tqdm import tqdm_notebook\n",
    "\n",
    "final_df = pd.DataFrame(columns = ['date_added', 'views', 'comments', 'Title', 'Text'])\n",
    "\n",
    "for page_number in tqdm_notebook(range(1, 196), desc = 'Pages'):\n",
    "    \n",
    "    # Собрали ссылки с текущей страницы\n",
    "    film_links = getPageLinks(page_number)\n",
    "    for film_links in tqdm_notebook(film_links, desc = 'Films', leave = False):\n",
    "        # Иногда с первого раза страница не парсится\n",
    "        for i in range(3):\n",
    "            try:\n",
    "                # Собираем данные\n",
    "                data_row = getFilmData(film_links) \n",
    "                # Закидываем данные в таблицу\n",
    "                final_df = final_df.append(data_row, ignore_index = True)\n",
    "                # Если всё получилось выходим из внутреннего цикла\n",
    "                break \n",
    "            except:\n",
    "                # иначе, пробуем ещё несколько раз пока не закончится\n",
    "                print('Ошибка! Парсим ещё раз: ', film_links)\n",
    "                continue"
   ]
  },
  {
   "cell_type": "code",
   "execution_count": 109,
   "id": "a373b683",
   "metadata": {},
   "outputs": [
    {
     "data": {
      "text/html": [
       "<div>\n",
       "<style scoped>\n",
       "    .dataframe tbody tr th:only-of-type {\n",
       "        vertical-align: middle;\n",
       "    }\n",
       "\n",
       "    .dataframe tbody tr th {\n",
       "        vertical-align: top;\n",
       "    }\n",
       "\n",
       "    .dataframe thead th {\n",
       "        text-align: right;\n",
       "    }\n",
       "</style>\n",
       "<table border=\"1\" class=\"dataframe\">\n",
       "  <thead>\n",
       "    <tr style=\"text-align: right;\">\n",
       "      <th></th>\n",
       "      <th>date_added</th>\n",
       "      <th>views</th>\n",
       "      <th>comments</th>\n",
       "      <th>Title</th>\n",
       "      <th>Text</th>\n",
       "    </tr>\n",
       "  </thead>\n",
       "  <tbody>\n",
       "    <tr>\n",
       "      <th>0</th>\n",
       "      <td>07.12.2015</td>\n",
       "      <td>55462</td>\n",
       "      <td>70</td>\n",
       "      <td>Настоящий детектив 2</td>\n",
       "      <td>Небольшой промышленный город Винчи, штат Калиф...</td>\n",
       "    </tr>\n",
       "    <tr>\n",
       "      <th>1</th>\n",
       "      <td>10.11.2014</td>\n",
       "      <td>80165</td>\n",
       "      <td>99</td>\n",
       "      <td>Настоящий детектив</td>\n",
       "      <td>Главные герои сериала -      детектив Раст \"Ра...</td>\n",
       "    </tr>\n",
       "    <tr>\n",
       "      <th>2</th>\n",
       "      <td>22.12.2016</td>\n",
       "      <td>40431</td>\n",
       "      <td>46</td>\n",
       "      <td>Хорас и Пит</td>\n",
       "      <td>\"У Хораса и Пита\" - старинный ирландский паб в...</td>\n",
       "    </tr>\n",
       "    <tr>\n",
       "      <th>3</th>\n",
       "      <td>30.11.2020</td>\n",
       "      <td>103921</td>\n",
       "      <td>287</td>\n",
       "      <td>Ход королевы</td>\n",
       "      <td>Америка, середина пятидесятых. Девятилетняя де...</td>\n",
       "    </tr>\n",
       "    <tr>\n",
       "      <th>4</th>\n",
       "      <td>14.09.2020</td>\n",
       "      <td>74243</td>\n",
       "      <td>29</td>\n",
       "      <td>Рома</td>\n",
       "      <td>Мексика, город Мехико, 1970 год. Богатый район...</td>\n",
       "    </tr>\n",
       "  </tbody>\n",
       "</table>\n",
       "</div>"
      ],
      "text/plain": [
       "   date_added   views comments                 Title  \\\n",
       "0  07.12.2015   55462       70  Настоящий детектив 2   \n",
       "1  10.11.2014   80165       99    Настоящий детектив   \n",
       "2  22.12.2016   40431       46           Хорас и Пит   \n",
       "3  30.11.2020  103921      287          Ход королевы   \n",
       "4  14.09.2020   74243       29                  Рома   \n",
       "\n",
       "                                                Text  \n",
       "0  Небольшой промышленный город Винчи, штат Калиф...  \n",
       "1  Главные герои сериала -      детектив Раст \"Ра...  \n",
       "2  \"У Хораса и Пита\" - старинный ирландский паб в...  \n",
       "3  Америка, середина пятидесятых. Девятилетняя де...  \n",
       "4  Мексика, город Мехико, 1970 год. Богатый район...  "
      ]
     },
     "execution_count": 109,
     "metadata": {},
     "output_type": "execute_result"
    }
   ],
   "source": [
    "final_df.head()"
   ]
  },
  {
   "cell_type": "code",
   "execution_count": 110,
   "id": "2b5aa81e",
   "metadata": {},
   "outputs": [
    {
     "data": {
      "text/plain": [
       "array(['Настоящий детектив 2', 'Настоящий детектив', 'Хорас и Пит',\n",
       "       'Ход королевы', 'Рома', 'Безумный Макс: Дорога ярости',\n",
       "       'Чернобыль', 'Дело Ричарда Джуэлла', 'Во все тяжкие',\n",
       "       'Удивительная миссис Мейзел', 'Лучше звоните Солу. Шестой сезон',\n",
       "       'Удивительная миссис Мейзел. 4-й сезон', 'Бумажный дом',\n",
       "       'Постановка', 'Каратель', '«Питер Пэн» пошел не так',\n",
       "       'Большая секунда', 'Тед Лассо', 'Наследники',\n",
       "       'Постановка - 2-й сезон', 'Однажды ночью', 'Двойник', 'Фарго',\n",
       "       'Босс', 'Баллада Бастера Скраггса', 'Одержимость', 'Банши', '1+1',\n",
       "       'Домашний арест', 'Мстители', 'Предприятие \"Божий дар\"', 'Дрянь',\n",
       "       'Один слуга, два господина', 'Благие знамения', 'Шоу пошло не так',\n",
       "       'Я жив', 'Дюна', 'Мейр из Исттауна', 'Наследники. Третий сезон',\n",
       "       'Наследники. Финальный сезон', 'Андор',\n",
       "       'Отряд самоубийц: Миссия навылет', 'Хэппи', 'Озарк',\n",
       "       'Что знает Оливия', 'Отец', 'Засланец из космоса', 'Боль и слава',\n",
       "       'Звук металла', 'Человек-паук: Вдали от дома', 'Обычная женщина',\n",
       "       'Фауда', 'Игра в кальмара',\n",
       "       'Убийства в одном здании. Второй сезон',\n",
       "       'Побег из тюрьмы Даннемора', 'Загрузка. Второй сезон', 'Загрузка',\n",
       "       'Стражи Галактики', 'Такси', 'Чествование', 'Прикуп',\n",
       "       'Боже, благослови Америку', \"Отель 'Гранд Будапешт'\",\n",
       "       'Первый день оставшейся жизни', 'Песня ланча',\n",
       "       'Как приручить дракона 2', 'Лучше звоните Солу', 'Три идиота',\n",
       "       'Голгофа', 'Доктор Стрэндж', 'Королевство полной луны',\n",
       "       'Стражи Галактики. Часть 2', 'Жизнь Пи',\n",
       "       'Далласский клуб покупателей', 'Хоббит: Пустошь Смауга',\n",
       "       'Карточный домик', 'Мстители: Война бесконечности', 'Головоломка',\n",
       "       'Хардкор', 'Дэдпул 2', 'Хоббит: Нежданное путешествие',\n",
       "       'Суперсемейка 2', 'Бёрдмэн', 'Любовь, смерть и роботы',\n",
       "       'Зверополис', 'Утреннее шоу', 'Джанго освобожденный',\n",
       "       'Двенадцатая ночь', 'Однажды в... Голливуде',\n",
       "       'Вы звонили, милорд?', 'Охота', 'Волк с Уолл-стрит',\n",
       "       'Дьявол всегда здесь', 'Ванда', 'Хитрости', 'Звоните ДиКаприо!',\n",
       "       'Визави', 'Холодная война', 'Детство Шелдона',\n",
       "       'Охотник за разумом', 'Сцены из супружеской жизни', 'Рейк',\n",
       "       'Суд над чикагской семеркой', 'Джек Ричер', 'Гнев человеческий',\n",
       "       'Страйк', 'Кот в сапогах 2: Последнее желание',\n",
       "       'Белый лотос. Второй сезон', 'Зеленая книга',\n",
       "       'Видоизмененный углерод', 'Любой ценой', 'Ford против Ferrari',\n",
       "       '100 метров', 'Станционный смотритель', 'Мост', 'Лофт', 'Логан',\n",
       "       'Аритмия', 'Бумажный дом - пятый сезон, первая часть',\n",
       "       'Шан-Чи и легенда десяти колец',\n",
       "       'Французский вестник. Приложение к газете «Либерти. Канзас ивнинг сан»',\n",
       "       'Я создан для тебя', 'Битые пиксели', 'Семейный брак',\n",
       "       'Белый лотос', 'Меню', 'Из машины', 'В тихом омуте',\n",
       "       'История игрушек 4', 'Дес', 'Виновный', 'Треугольник печали',\n",
       "       'Еще по одной', 'Аргентина, 1985', 'Отыграть назад',\n",
       "       'Черная птица', 'Прочь', 'Монах и бес', 'Армагеддец',\n",
       "       'Сыны анархии', 'Дэдпул', 'Очень странные дела',\n",
       "       'Тайная жизнь домашних животных', 'Гонка', 'Ветреная река',\n",
       "       'Однокурсники', 'Первый мститель: Другая война', 'Невидимый гость',\n",
       "       'Kingsman: Секретная служба', 'Неудержимые 2',\n",
       "       'Телохранитель киллера', 'Судья', 'Игра в правду', 'Аннигиляция',\n",
       "       'Выстрел в пустоту', 'Исчезнувшая', 'Человек с Земли',\n",
       "       'Настоящий детектив 3', 'Дикие предки', 'Валентинка',\n",
       "       'Быстрые стволы', 'Авеню 5', 'Прощальный квартет',\n",
       "       'Острые предметы', 'Форма воды', 'Ральф против Интернета',\n",
       "       'Преступник', 'El Camino: Во все тяжкие', 'Жили-были', 'Душа',\n",
       "       'Грешники', 'Достать коротышку', 'Во время грозы', 'Дэдвуд',\n",
       "       'Охотник за разумом. Второй сезон', 'Форс-мажоры',\n",
       "       'Тед Лассо. Второй сезон', 'Тоня против всех',\n",
       "       'Человек-паук: Нет пути домой', 'Большой злой лис и другие сказки',\n",
       "       'Мэр Кингстауна', 'Вторая жизнь Уве', 'Энканто', 'Люпен',\n",
       "       'Миньоны: Грювитация', 'Воспитанные волками', 'Эмма.',\n",
       "       'Третья планета от Солнца', 'Ирландец',\n",
       "       'Операция «Фортуна»: Искусство побеждать', 'Банды Лондона',\n",
       "       'Стэн и Олли', 'Грейхаунд', 'Рик и Морти', 'Метод', 'Код 100',\n",
       "       'Звезда родилась', 'Зависнуть в Палм-Спрингс',\n",
       "       'Меня зовут Долемайт', 'По версии Барни', 'Ограбление века',\n",
       "       'Темные времена', 'Сити-Айленд', 'Дети природы', 'В конце туннеля',\n",
       "       'Бедные люди', 'До свидания там, наверху',\n",
       "       'Как Витька Чеснок вез Леху Штыря в дом инвалидов07.06.201886442Комментарии',\n",
       "       'Лука', 'Пришельцы из прошлого', 'Убийца', 'Правосудие',\n",
       "       'Каникулы мечты', 'Вечная жизнь Александра Христофорова',\n",
       "       'Кривые линии Бога', 'Богемская рапсодия', 'Сделано в Америке',\n",
       "       'Смотрите, как они бегут',\n",
       "       'В этом мире я больше не чувствую себя как дома',\n",
       "       'Гангстер, коп и дьявол', 'Черный клановец', 'Патруль',\n",
       "       'Доктор Стрэндж: В мультивселенной безумия', 'Дикая история',\n",
       "       'Любители истории', 'Банкир', 'Потомок', 'Человек-муравей и Оса',\n",
       "       'Иностранец', 'Человек из стали', 'Пингвины Мадагаскара',\n",
       "       'Отряд самоубийц', 'Новейший завет', 'Горько', 'Прогулка',\n",
       "       'За канделябрами', 'Самый опасный человек', 'Железный человек 3',\n",
       "       'Перестрелка', 'Идеальные незнакомцы', 'Неуязвимая мишень',\n",
       "       'Мордекай', 'Страна ОЗ', 'Планета обезьян: Революция',\n",
       "       'Я очень возбужден', 'Гадкий я', 'Реальные упыри',\n",
       "       'Ограбление казино', 'Дикие истории', 'Мстители: Эра Альтрона',\n",
       "       'Удача Логана', '8 подруг Оушена', 'Реальные парни', 'Голиаф',\n",
       "       'Я худею', 'Нокаут', 'Очень мюрреевское Рождество',\n",
       "       'Призрачная нить', 'Форсаж 6', 'Непотопляемые',\n",
       "       'Монстры на каникулах 3: Море зовет', 'Фарго 2', 'Резня',\n",
       "       'Книга джунглей', 'Лучшее предложение', 'Черная месса',\n",
       "       'Дурацкое дело нехитрое', 'Семья по-быстрому', 'Связь', 'Сплит',\n",
       "       'Барри', 'Рокетмен', 'Джон Уик 3', 'На грани', 'Патруль времени',\n",
       "       'Тюрьма 77', 'Стендапер по жизни', 'Темные воды',\n",
       "       'Последняя капля', 'Космические силы', 'Никто', 'Я иду искать',\n",
       "       'Судья Дредд 3D', 'Air: Большой прыжок', 'Триггер', 'Фердинанд',\n",
       "       'Класс', 'Все включено', 'Прекрасный день по соседству',\n",
       "       'Защищая Джейкоба', 'Дикая жизнь', 'Голоса за кадром', 'Трамбо',\n",
       "       'Кошачьи миры Луиса Уэйна', 'Последняя дуэль', 'Законы границ',\n",
       "       'Старый Генри', 'Анчартед: На картах не значится', 'Плохие парни',\n",
       "       'Прибытие', 'Случайность и догадка', 'Красный призрак',\n",
       "       'Свет вокруг', 'Здесь и сейчас', 'Разлом Сан-Андреас',\n",
       "       'Angry Birds 2 в кино', 'Джуманджи: Новый уровень', 'Папа, сдохни',\n",
       "       'Миссия невыполнима: Племя изгоев', 'Брачная история', 'Покерфейс',\n",
       "       'Бессмертный', 'Мое преступление', 'Всевидящее око',\n",
       "       'Арахисовый сокол', 'Маяк', 'Охота на дикарей',\n",
       "       'Тайлер Рейк: Операция по спасению 2', 'Три мушкетера: Д’Артаньян',\n",
       "       'День курка', 'Малыш на драйве', 'Тряпичный союз',\n",
       "       'Тор 2: Царство тьмы', 'Множественные святые Ньюарка',\n",
       "       'Грань будущего', 'Марсианин', 'Свинья',\n",
       "       \"Отель 'Мэриголд': Лучший из экзотических\",\n",
       "       'Майор Гром: Чумной доктор', 'Безумная свадьба',\n",
       "       'Миссис Хендерсон представляет', 'Игры шпионов',\n",
       "       'Великий уравнитель', 'Дорогие товарищи', 'Там, где раки поют',\n",
       "       'Тайлер Рейк: Операция по спасению', 'Призрачная шестерка',\n",
       "       'За пивом', 'Омерзительная восьмерка', 'Хеллбой',\n",
       "       'CODA: Ребенок глухих родителей', 'Худший человек на свете',\n",
       "       'Параллельные матери', 'Хорошее время', 'Хоть раз в жизни',\n",
       "       'Экипаж', 'К черту на рога', 'Гадкий я 3', 'Кровавая Мари',\n",
       "       'Занесло', 'Фантастический Флиткрофт', 'Флэш', 'Лютер', 'Элвис',\n",
       "       'Прошлой ночью в Сохо', 'Тихая ночь', 'Неисправимый Рон',\n",
       "       'Маленькие секреты большой компании', 'Шафт', 'Разговорник',\n",
       "       'Черный Адам', 'Искусство самообороны',\n",
       "       'Пираты Карибского моря: Мертвецы не рассказывают сказки',\n",
       "       'Трудный день', 'Сомнение', 'В погоне за Бонни и Клайдом',\n",
       "       'Оккупант', 'Все и сразу', 'Мистериум. Начало', 'Кит',\n",
       "       'Закатать в асфальт', 'Бойфренд из будущего', 'Холоп',\n",
       "       'Полицейский седан', 'Счастливого дня смерти', 'Жизнь впереди',\n",
       "       'Страсти Дон Жуана', 'Эта - дурацкая - любовь', 'Бандит',\n",
       "       'Дождливый день в Нью-Йорке', 'Камуфляж и шпионаж',\n",
       "       'Захочу и соскочу', 'Героические лузеры', 'Хэппи-энд',\n",
       "       'Разрушение', 'Железные небеса',\n",
       "       'Музыкальный конкурс \"Евровидение\": История группы Fire Saga',\n",
       "       'Маленькая смерть', 'Безумно богатые азиаты', 'Джек Райан',\n",
       "       'Starперцы', 'Дед, привет', 'РЭД 2', 'Во всё тяжкое',\n",
       "       'Агент 117: Из Африки с любовью', 'Иллюзия обмана',\n",
       "       'Рейкьявик-Роттердам', 'Бестселлер',\n",
       "       'Ледниковый период 4: Континентальный дрейф',\n",
       "       'Под солнцем Тосканы', 'Zомбилэнд: Контрольный выстрел',\n",
       "       'Короли интриги', 'Месть от кутюр', 'Кровные узы',\n",
       "       'Хороший человек', 'Один день в Европе', 'Сквозь снег', 'Малавита',\n",
       "       'Инглиш-винглиш', 'Амстердам', 'Эффект колибри', 'Без обид',\n",
       "       'Координаты Скайфолл', 'Радиозвезды', 'Паркер', 'Напролом', 'Жить',\n",
       "       'Мой ужасный сосед', 'Последний поезд в Рождество', 'Шеф',\n",
       "       'Афера под прикрытием', 'Форсаж 10', 'Новые приключения Аладдина',\n",
       "       'Пипец 2', 'Мажоры на мели', 'Танцуй отсюда', 'Одаренная',\n",
       "       '11.22.63', 'Билет в рай', 'Ниже нуля', 'Щедрость Перрье',\n",
       "       'Опасная игра Слоун', 'Невероятные приключения факира', 'Квадрат',\n",
       "       'Шпион', 'Глубже!', 'Нагиев на карантине', 'Обратная связь',\n",
       "       'Тело', 'Вторжение', 'Битва полов', 'Прометей',\n",
       "       'Закону тут не место', 'Ворчун', 'Великий уравнитель 2',\n",
       "       'Джон Уик', 'Самый лучший день', 'Давай разведемся!',\n",
       "       'Поездка в Америку 2', 'Плейбой под прикрытием',\n",
       "       'Девушка, подающая надежды', 'Та еще парочка', 'Война будущего',\n",
       "       'Огонь', 'Одесса', 'Тайная жизнь домашних животных 2',\n",
       "       'День выборов 2', 'Право на лево', 'Ла-Ла Ленд', 'Без границ',\n",
       "       'Красное уведомление', 'Эволюция Борна', 'Воздушный маршал',\n",
       "       'Обливион', 'План побега', 'Меч короля Артура', 'Три секунды',\n",
       "       'Большая афера', 'Штурм Белого дома', 'Величайший шоумен',\n",
       "       'Капитан Фантастик', 'Форсаж 9', 'Хороший мальчик',\n",
       "       'Соловей-разбойник', 'Самый жестокий год',\n",
       "       'О чём говорят мужчины. Продолжение', 'Современная любовь',\n",
       "       'Срочная доставка', 'Рассказы', 'Индюки: Назад в будущее',\n",
       "       'Два ствола', 'Пара из будущего', 'Жажда смерти', 'Борьба шефов',\n",
       "       'Лига справедливости', 'Вавилон', 'Месть', 'Переводчик', 'Белфаст',\n",
       "       'От семьи не убежишь', 'Тайна печати дракона',\n",
       "       'Самолеты: огонь и вода', 'Большая игра', 'Убийца 2: Против всех',\n",
       "       'Орлеан', 'Летучий отряд Скотланд-Ярда', 'Герой', 'Власть', 'Мы',\n",
       "       'Бросок кобры 2', 'Рождественская ночь в Барселоне',\n",
       "       'Кунг-фу панда 2', 'Большой куш', 'Призрак', 'Непрощенная',\n",
       "       'Драйвер-Икс', 'Карп отмороженный', 'Жена', 'Афера по-американски',\n",
       "       'Мачете убивает', 'Пассажиры', 'Люси', 'Все могу', 'Джекпот',\n",
       "       'Транс', 'Первый мститель: Противостояние', 'Фокус', 'Дюнкерк',\n",
       "       'Интервью', 'Город грехов 2: Женщина, ради которой стоит убивать',\n",
       "       'Хроники ломбарда', 'Последний шанс Харви', 'Терминатор: Генезис',\n",
       "       'Война миров Z ', 'Джек Ричер 2: Никогда не возвращайся',\n",
       "       'Спутник', 'Союзники', 'Не дыши', 'Возвращение героя',\n",
       "       \"Код доступа 'Кейптаун'\", '2+1', 'Пушки, телки и азарт',\n",
       "       'Коллектор', 'Повар на колесах',\n",
       "       'Бэтмен против Супермена: На заре справедливости',\n",
       "       'Черная зависть', 'Ключ Саламандры', 'Хороший лжец', 'Горько 2',\n",
       "       'Люди в черном: Интернэшнл', 'Интерстеллар', 'Гена-Бетон',\n",
       "       'Торжество', 'Король Ричард', 'Варяг', 'Несносные боссы 2',\n",
       "       'Мисс Петтигрю', 'Большие глаза', 'Риддик', 'Форсаж 7',\n",
       "       'Значит, война?', 'Чудо-женщина', 'Поцелуй дракона',\n",
       "       'Бриллиантовый картель', 'Охотники на гангстеров', 'Вдовы',\n",
       "       'SuperАлиби', 'Матрица: Воскрешение', 'Дуэлянт', 'Полтора шпиона',\n",
       "       'Все включено 2', 'С новым годом, мамы!',\n",
       "       'Любовь от всех болезней', 'Вспомнить все', 'Неудержимые 3',\n",
       "       'Кома', 'Заложница 3', 'Мама мафия', 'Тройная граница',\n",
       "       'Суперплохие', 'Притяжение', 'Самолеты', 'Великий Гэтсби',\n",
       "       'Двадцать одно', 'Морской бой', 'Изобретение лжи',\n",
       "       'Любовь с акцентом', 'Время', 'Очень плохие парни',\n",
       "       'Превосходство', 'Заложница 2',\n",
       "       'Президент Линкольн: Охотник на вампиров',\n",
       "       'Три икса: Мировое господство', 'Супербобровы', 'Дом Гуччи',\n",
       "       'Охота на воров', 'Пляжный бездельник', 'King’s Man: Начало',\n",
       "       'Миллиард', '007: Спектр', 'Неприкасаемые',\n",
       "       'Крепкий орешек: Хороший день, чтобы умереть', 'Солдаты удачи',\n",
       "       'Замуж на 2 дня', 'Статус: Свободен', 'Максимальный удар',\n",
       "       'Нападение на Рио Браво', 'Разборка в Маниле',\n",
       "       'Росомаха: Бессмертный', 'Защитники', 'Ограбление по-американски',\n",
       "       'Страна чудес', 'Черная роза', 'Проклятый путь', 'Дикая штучка',\n",
       "       'Поле битвы - Земля11.09.200019100Комментарии', 'Скорость-2',\n",
       "       'Рокки Бальбоа', 'Крестный отец II', 'Взломщики сердец',\n",
       "       'Мама, не горюй11.10.200031627Комментарии', 'Одинокие сердца',\n",
       "       'Признания опасного человека', 'Подпольная империя',\n",
       "       'Реальная любовь', 'Мамма Миа!',\n",
       "       'Дорога на Арлингтон11.07.200014272Комментарии',\n",
       "       'Малхолланд драйв', 'Боги и монстры', 'Линкольн для адвоката',\n",
       "       'Обитаемый остров', 'Легенда о пианисте',\n",
       "       'Рапунцель: Запутанная история', 'Властелин колец: две башни',\n",
       "       'Елки', 'Лак для волос', 'Дневной дозор',\n",
       "       'Добро пожаловать в Коллинвуд', 'История игрушек: Большой побег',\n",
       "       'Семь', 'Охота на пиранью', 'Ватель',\n",
       "       'Скала10.04.200018433Комментарии', 'Яйцеголовые', 'Сатисфакция',\n",
       "       'Братва', 'Крепкий орешек 4', 'Послезавтра', 'Заплати другому',\n",
       "       'Зеленая миля09.08.200025319Комментарии', 'Хранители',\n",
       "       'V значит Вендетта', 'Подержанные львы', 'Зодиак', 'Модильяни',\n",
       "       'Очень русский детектив', 'Скала10.04.200018434Комментарии', 'Тор',\n",
       "       'Ямакаси', 'Ледниковый период 3: Эра динозавров', 'Багси',\n",
       "       'Суперсемейка', 'Девушка из воды', 'Шерлок Холмс',\n",
       "       'Давай сделаем это по-быстрому', 'Заложник',\n",
       "       'Алиса в Стране чудес',\n",
       "       'Широко закрытые глаза10.08.200014739Комментарии',\n",
       "       'Поцелуй бабочки', 'Лесная братва', 'Билли Батгейт',\n",
       "       'Правда о Чарли',\n",
       "       'Широко закрытые глаза10.08.200014740Комментарии',\n",
       "       'Алюминиевые человечки', 'Матрица: Революция',\n",
       "       'Класс10.11.200014674Комментарии', 'Четыре льва', 'Легенда Зорро',\n",
       "       'Шерлок Холмс: Игра теней', 'Переполох31.05.200013926Комментарии',\n",
       "       'Час пик31.03.200015020Комментарии', 'Банды Нью-Йорка',\n",
       "       'Дом летающих кинжалов', 'Правила съема: метод Хитча',\n",
       "       'Бар14.03.200110806Комментарии',\n",
       "       'Час пик31.03.200015021Комментарии', 'Ванильное небо',\n",
       "       'Быстрый и мертвый14.04.200020040Комментарии', 'Любовник',\n",
       "       'Страх и ненависть в Лас-Вегасе', 'Близнецы', 'Сокровище нации',\n",
       "       'Хороший год', 'Город Зеро04.07.200133279Комментарии',\n",
       "       'Дневник Бриджет Джонс', 'Война миров', 'Боец',\n",
       "       'Без чувств04.08.200014459Комментарии', 'Хэнкок', 'Хранители сети',\n",
       "       'Миссия невыполнима - 204.09.200021635Комментарии',\n",
       "       'Фанфан-Тюльпан', 'Поцелуй навылет', 'Мышьяк и старые кружева',\n",
       "       'Завтрак для чемпионов04.10.200022761Комментарии', 'Плохой Санта',\n",
       "       'Робин Гуд', 'Роллербол', 'Во власти наваждения',\n",
       "       'Астерикс и Обеликс против Цезаря', 'Обратный отсчет',\n",
       "       'Солянка по-кентуккийски', 'ДМБ-00205.01.200125119Комментарии',\n",
       "       'Экстази05.02.200112845Комментарии',\n",
       "       'Интервью с вампиром: вампирские хроники',\n",
       "       'Радиоволна05.03.200116232Комментарии', 'Оправданная жестокость',\n",
       "       'Крестные отцы', 'Куда приводят мечты05.04.200019604Комментарии',\n",
       "       'Эффект бабочки', 'Воображариум доктора Парнаса',\n",
       "       'Лунный папа05.05.200018074Комментарии', 'Человек у окна',\n",
       "       'Больше, чем жизнь', 'Счастливое число Слевина',\n",
       "       'ДМБ05.07.200028602Комментарии', 'Мальчишник', 'Трансформеры',\n",
       "       'Отель Парадизо', 'Обитель зла', 'Молодость, больница, любовь',\n",
       "       'Счастливый конец', 'Сержант Билко05.09.200017567Комментарии',\n",
       "       'Большой Куш', 'Настройщик', 'Сладкий и гадкий', 'Большие гонки',\n",
       "       'После прочтения сжечь', 'Девушка из кафе', 'Бессонница', 'Домино',\n",
       "       'Бабло', 'Бедные родственники', 'Мистер Бейсбол', 'Легенды осени',\n",
       "       'Благодетель', 'Ночь в Роксбери06.04.200014097Комментарии',\n",
       "       'Боги, наверное, сошли с ума', 'Ларго Винч: начало', 'Мушкетер',\n",
       "       'Короли шутки', 'Выбор судьбы', 'Шулеры', 'Шоу начинается',\n",
       "       'Мадагаскар', '13', 'Голый король', 'Телепорт', 'Гнев',\n",
       "       'Ничего личного', 'Ленинградские ковбои едут в Америку', 'Пекло',\n",
       "       'Принц Персии: пески времени',\n",
       "       'За спичками06.10.200016648Комментарии',\n",
       "       'Даже не думай06.10.200315373Комментарии', 'День Д', 'Трасса 60',\n",
       "       'Пристрели их', 'Бей в кость06.12.200015126Комментарии', 'Гонщик',\n",
       "       'Александр', 'Рататуй', 'Безумные похороны', 'Американцы',\n",
       "       'Госфорд Парк', 'Авиатор', 'Убийцы на замену',\n",
       "       'О чем еще говорят мужчины',\n",
       "       'Карты, деньги & два ствола07.03.200025346Комментарии',\n",
       "       '200 сигарет07.03.200111984Комментарии', 'Ранго',\n",
       "       'Почему я?07.04.200012410Комментарии',\n",
       "       'Константин: повелитель тьмы', 'Механик',\n",
       "       'Военный ныряльщик07.05.200121664Комментарии', 'Адреналин 2',\n",
       "       'Брат-207.06.200030309Комментарии', 'Криминальное чтиво',\n",
       "       'Ангел-А', 'Бобро Поржаловать',\n",
       "       'Дом Большой Мамы07.07.200013286Комментарии',\n",
       "       'Терминатор 3: Восстание машин', 'Жмурки',\n",
       "       'Еще одна из рода Болейн', 'Идальго: погоня в пустыне',\n",
       "       'Миссия на Марс07.08.200018692Комментарии', 'Шпионы как мы',\n",
       "       'Эквилибриум', 'Изображая жертву', 'Дом из песка и тумана',\n",
       "       'Чокнутый профессор-207.09.200015423Комментарии',\n",
       "       'Чего хотят женщины', 'Хоттабыч', 'Солт',\n",
       "       'Уоллес и Громит: Проклятие кролика-оборотня', 'Дублер', 'Травка',\n",
       "       '2012', 'Неудержимые', 'Пришельцы в Америке', 'Запределье',\n",
       "       'Тайна Ордена', 'Звонок', 'Оскар', 'Со мною вот что происходит',\n",
       "       'Однажды в Америке', 'Король вечеринок', 'Время бешеных псов',\n",
       "       'Друзья Питера', 'Люди в черном 2', 'Откройте, полиция', 'Стелс',\n",
       "       'Области тьмы', 'Управление гневом', 'Скрытое', 'Железный человек',\n",
       "       'Люди Икс: Первый класс', 'Биоволк', 'Персонаж', 'Магнолия',\n",
       "       'Планета страха', 'Из Парижа с любовью',\n",
       "       'Без лица08.12.200019061Комментарии', 'Убить Билла. Фильм 1',\n",
       "       'Ты - труп', 'Мечта Кассандры', 'Драйв',\n",
       "       'Кикуджиро09.01.200114460Комментарии', 'Волкодав',\n",
       "       'Ночи в стиле буги', 'Во власти Луны', 'Фаворит', 'Уимблдон',\n",
       "       'Во всем виноват посыльный', 'Ронал-варвар', 'Нечего терять',\n",
       "       'Отчаянный', 'Турецкий гамбит', 'Правдивая история Красной Шапки',\n",
       "       'День независимости', 'Делай ноги', 'Тетка Чарли',\n",
       "       'Такси09.06.200016787Комментарии', 'Корабль-призрак',\n",
       "       'В последний момент', 'Зеленая миля09.08.200025320Комментарии',\n",
       "       'Двойной КОПец', 'Мажестик', 'Необычайные приключения Адель',\n",
       "       'Восток есть Восток09.10.200019282Комментарии', 'Ледяной урожай',\n",
       "       'Амели', 'Небесный капитан и мир будущего', 'Компаньоны', '13 лун',\n",
       "       'Скала10.04.200018435Комментарии', 'Престиж', 'Машина времени',\n",
       "       'Агент 117: миссия в Рио',\n",
       "       'Широко закрытые глаза10.08.200014741Комментарии', 'Свои',\n",
       "       'Самозванцы', 'Сука любовь', 'Дура',\n",
       "       'Класс10.11.200014675Комментарии', 'Невероятный Халк',\n",
       "       'Охотники за сокровищами', 'Черная молния', 'Планета обезьян',\n",
       "       'Большие неприятности', 'Астерикс на олимпийских играх',\n",
       "       'Визит дамы11.04.200124986Комментарии',\n",
       "       'Голубая бездна11.05.200037444Комментарии', 'Все возможно, бэби',\n",
       "       'Дорога на Арлингтон11.07.200014273Комментарии',\n",
       "       'Разборки в стиле кунг-фу', 'Ключи от машины',\n",
       "       'Поле битвы - Земля11.09.200019101Комментарии',\n",
       "       'Миллионер поневоле', 'Сириана',\n",
       "       'Мама, не горюй11.10.200031628Комментарии', 'Рыцарь дня',\n",
       "       'Голливудские копы',\n",
       "       'Американский оборотень в Париже12.02.200112231Комментарии',\n",
       "       'Трудности перевода', 'Очень дикие штучки', 'Платон', 'Эд Вуд',\n",
       "       'Бешеные псы', 'Артефакт', 'Ромовый дневник',\n",
       "       'БЕЙСкетбол12.04.200011963Комментарии', 'Сокровище Амазонки',\n",
       "       'Школа негодяев', 'Артист',\n",
       "       'Анализируй это12.05.200017397Комментарии',\n",
       "       'Баллистика: Экс против Сивер', 'Царство Небесное', 'Час пик 3',\n",
       "       'Двое - это слишком12.07.200010513Комментарии', 'Ночной дозор',\n",
       "       'Убийство в Вегасе', 'Антикиллер', 'Превосходство Борна',\n",
       "       'Аризонская мечта', 'Покровские ворота', 'Форсаж 5',\n",
       "       'Где моя тачка, чувак?', 'Просто кровь', '13-й район: ультиматум',\n",
       "       'Стрелок', 'Вверх', 'Среди акул',\n",
       "       'Мальчишник 2: из Вегаса в Бангкок', '1941',\n",
       "       'Команда Америка: мировая полиция', 'Социальная сеть', 'Шрэк',\n",
       "       'Шпионские игры', 'Оружейный барон', 'Охотники за головами',\n",
       "       'Беги, Лола, беги13.03.200025607Комментарии', 'Бандиты',\n",
       "       'Мошенники', 'Донни Дарко', 'Быстрые перемены', 'Я - легенда',\n",
       "       'Траффик13.04.200116385Комментарии', 'Клерки', 'Интернэшнл',\n",
       "       'Гарри Браун', 'Казино', 'Инстинкт13.06.200011899Комментарии',\n",
       "       'Миссис Даутфайр', 'Питер FM', 'Параграф 78',\n",
       "       'Аферисты: Дик и Джейн развлекаются', 'Хороший, плохой, странный',\n",
       "       'Обмен телами', 'Звездная пыль',\n",
       "       'Угнать за 60 секунд13.09.200013961Комментарии', 'Троя',\n",
       "       'Соучастник'], dtype=object)"
      ]
     },
     "execution_count": 110,
     "metadata": {},
     "output_type": "execute_result"
    }
   ],
   "source": [
    "final_df['Title'].unique()"
   ]
  },
  {
   "cell_type": "code",
   "execution_count": 8,
   "id": "63c73c4c",
   "metadata": {},
   "outputs": [
    {
     "name": "stdout",
     "output_type": "stream",
     "text": [
      "<class 'pandas.core.frame.DataFrame'>\n",
      "Int64Index: 1290 entries, 0 to 1289\n",
      "Data columns (total 5 columns):\n",
      " #   Column      Non-Null Count  Dtype \n",
      "---  ------      --------------  ----- \n",
      " 0   date_added  1290 non-null   object\n",
      " 1   views       1290 non-null   int64 \n",
      " 2   comments    1290 non-null   int64 \n",
      " 3   Title       1290 non-null   object\n",
      " 4   Text        1290 non-null   object\n",
      "dtypes: int64(2), object(3)\n",
      "memory usage: 60.5+ KB\n"
     ]
    }
   ],
   "source": [
    "final_df.info()"
   ]
  },
  {
   "cell_type": "code",
   "execution_count": 10,
   "id": "2b98b74b",
   "metadata": {
    "scrolled": true
   },
   "outputs": [
    {
     "data": {
      "text/plain": [
       "array(['Настоящий детектив ', 'Настоящий детектив', 'Хорас и Пит',\n",
       "       'Ход королевы', 'Рома', 'Безумный Макс: Дорога ярости',\n",
       "       'Чернобыль', 'Дело Ричарда Джуэлла', 'Во все тяжкие',\n",
       "       'Удивительная миссис Мейзел', 'Лучше звоните Солу. Шестой сезон',\n",
       "       'Удивительная миссис Мейзел. -й сезон', 'Бумажный дом',\n",
       "       'Постановка', 'Каратель', '«Питер Пэн» пошел не так',\n",
       "       'Большая секунда', 'Тед Лассо', 'Наследники',\n",
       "       'Постановка - -й сезон', 'Однажды ночью', 'Двойник', 'Фарго',\n",
       "       'Босс', 'Баллада Бастера Скраггса', 'Одержимость', 'Банши', '+',\n",
       "       'Домашний арест', 'Мстители', 'Предприятие \"Божий дар\"', 'Дрянь',\n",
       "       'Один слуга, два господина', 'Благие знамения', 'Шоу пошло не так',\n",
       "       'Я жив', 'Дюна', 'Мейр из Исттауна', 'Наследники. Третий сезон',\n",
       "       'Наследники. Финальный сезон', 'Андор',\n",
       "       'Отряд самоубийц: Миссия навылет', 'Хэппи', 'Озарк',\n",
       "       'Что знает Оливия', 'Отец', 'Засланец из космоса', 'Боль и слава',\n",
       "       'Звук металла', 'Человек-паук: Вдали от дома', 'Обычная женщина',\n",
       "       'Фауда', 'Игра в кальмара',\n",
       "       'Убийства в одном здании. Второй сезон',\n",
       "       'Побег из тюрьмы Даннемора', 'Загрузка. Второй сезон', 'Загрузка',\n",
       "       'Стражи Галактики', 'Такси', 'Чествование', 'Прикуп',\n",
       "       'Боже, благослови Америку', \"Отель 'Гранд Будапешт'\",\n",
       "       'Первый день оставшейся жизни', 'Песня ланча',\n",
       "       'Как приручить дракона ', 'Лучше звоните Солу', 'Три идиота',\n",
       "       'Голгофа', 'Доктор Стрэндж', 'Королевство полной луны',\n",
       "       'Стражи Галактики. Часть ', 'Жизнь Пи',\n",
       "       'Далласский клуб покупателей', 'Хоббит: Пустошь Смауга',\n",
       "       'Карточный домик', 'Мстители: Война бесконечности', 'Головоломка',\n",
       "       'Хардкор', 'Дэдпул ', 'Хоббит: Нежданное путешествие',\n",
       "       'Суперсемейка ', 'Бёрдмэн', 'Любовь, смерть и роботы',\n",
       "       'Зверополис', 'Утреннее шоу', 'Джанго освобожденный',\n",
       "       'Двенадцатая ночь', 'Однажды в... Голливуде',\n",
       "       'Вы звонили, милорд?', 'Охота', 'Волк с Уолл-стрит',\n",
       "       'Дьявол всегда здесь', 'Ванда', 'Хитрости', 'Звоните ДиКаприо!',\n",
       "       'Визави', 'Холодная война', 'Детство Шелдона',\n",
       "       'Охотник за разумом', 'Сцены из супружеской жизни', 'Рейк',\n",
       "       'Суд над чикагской семеркой', 'Джек Ричер', 'Гнев человеческий',\n",
       "       'Страйк', 'Кот в сапогах : Последнее желание',\n",
       "       'Белый лотос. Второй сезон', 'Зеленая книга',\n",
       "       'Видоизмененный углерод', 'Любой ценой', 'Ford против Ferrari',\n",
       "       ' метров', 'Станционный смотритель', 'Мост', 'Лофт', 'Логан',\n",
       "       'Аритмия', 'Бумажный дом - пятый сезон, первая часть',\n",
       "       'Шан-Чи и легенда десяти колец',\n",
       "       'Французский вестник. Приложение к газете «Либерти. Канзас ивнинг сан»',\n",
       "       'Я создан для тебя', 'Битые пиксели', 'Семейный брак',\n",
       "       'Белый лотос', 'Меню', 'Из машины', 'В тихом омуте',\n",
       "       'История игрушек ', 'Дес', 'Виновный', 'Треугольник печали',\n",
       "       'Еще по одной', 'Аргентина, ', 'Отыграть назад', 'Черная птица',\n",
       "       'Прочь', 'Монах и бес', 'Армагеддец', 'Сыны анархии', 'Дэдпул',\n",
       "       'Очень странные дела', 'Тайная жизнь домашних животных', 'Гонка',\n",
       "       'Ветреная река', 'Однокурсники', 'Первый мститель: Другая война',\n",
       "       'Невидимый гость', 'Kingsman: Секретная служба', 'Неудержимые ',\n",
       "       'Телохранитель киллера', 'Судья', 'Игра в правду', 'Аннигиляция',\n",
       "       'Выстрел в пустоту', 'Исчезнувшая', 'Человек с Земли',\n",
       "       'Дикие предки', 'Валентинка', 'Быстрые стволы', 'Авеню ',\n",
       "       'Прощальный квартет', 'Острые предметы', 'Форма воды',\n",
       "       'Ральф против Интернета', 'Преступник', 'El Camino: Во все тяжкие',\n",
       "       'Жили-были', 'Душа', 'Грешники', 'Достать коротышку',\n",
       "       'Во время грозы', 'Дэдвуд', 'Охотник за разумом. Второй сезон',\n",
       "       'Форс-мажоры', 'Тед Лассо. Второй сезон', 'Тоня против всех',\n",
       "       'Человек-паук: Нет пути домой', 'Большой злой лис и другие сказки',\n",
       "       'Мэр Кингстауна', 'Вторая жизнь Уве', 'Энканто', 'Люпен',\n",
       "       'Миньоны: Грювитация', 'Воспитанные волками', 'Эмма.',\n",
       "       'Третья планета от Солнца', 'Ирландец',\n",
       "       'Операция «Фортуна»: Искусство побеждать', 'Банды Лондона',\n",
       "       'Стэн и Олли', 'Грейхаунд', 'Рик и Морти', 'Метод', 'Код ',\n",
       "       'Звезда родилась', 'Зависнуть в Палм-Спрингс',\n",
       "       'Меня зовут Долемайт', 'По версии Барни', 'Ограбление века',\n",
       "       'Темные времена', 'Сити-Айленд', 'Дети природы', 'В конце туннеля',\n",
       "       'Бедные люди', 'До свидания там, наверху',\n",
       "       'Как Витька Чеснок вез Леху Штыря в дом инвалидов..Комментарии',\n",
       "       'Лука', 'Пришельцы из прошлого', 'Убийца', 'Правосудие',\n",
       "       'Каникулы мечты', 'Вечная жизнь Александра Христофорова',\n",
       "       'Кривые линии Бога', 'Богемская рапсодия', 'Сделано в Америке',\n",
       "       'Смотрите, как они бегут',\n",
       "       'В этом мире я больше не чувствую себя как дома',\n",
       "       'Гангстер, коп и дьявол', 'Черный клановец', 'Патруль',\n",
       "       'Доктор Стрэндж: В мультивселенной безумия', 'Дикая история',\n",
       "       'Любители истории', 'Банкир', 'Потомок', 'Человек-муравей и Оса',\n",
       "       'Иностранец', 'Человек из стали', 'Пингвины Мадагаскара',\n",
       "       'Отряд самоубийц', 'Новейший завет', 'Горько', 'Прогулка',\n",
       "       'За канделябрами', 'Самый опасный человек', 'Железный человек ',\n",
       "       'Перестрелка', 'Идеальные незнакомцы', 'Неуязвимая мишень',\n",
       "       'Мордекай', 'Страна ОЗ', 'Планета обезьян: Революция',\n",
       "       'Я очень возбужден', 'Гадкий я', 'Реальные упыри',\n",
       "       'Ограбление казино', 'Дикие истории', 'Мстители: Эра Альтрона',\n",
       "       'Удача Логана', ' подруг Оушена', 'Реальные парни', 'Голиаф',\n",
       "       'Я худею', 'Нокаут', 'Очень мюрреевское Рождество',\n",
       "       'Призрачная нить', 'Форсаж ', 'Непотопляемые',\n",
       "       'Монстры на каникулах : Море зовет', 'Фарго ', 'Резня',\n",
       "       'Книга джунглей', 'Лучшее предложение', 'Черная месса',\n",
       "       'Дурацкое дело нехитрое', 'Семья по-быстрому', 'Связь', 'Сплит',\n",
       "       'Барри', 'Рокетмен', 'Джон Уик ', 'На грани', 'Патруль времени',\n",
       "       'Тюрьма ', 'Стендапер по жизни', 'Темные воды', 'Последняя капля',\n",
       "       'Космические силы', 'Никто', 'Я иду искать', 'Судья Дредд D',\n",
       "       'Air: Большой прыжок', 'Триггер', 'Фердинанд', 'Класс',\n",
       "       'Все включено', 'Прекрасный день по соседству', 'Защищая Джейкоба',\n",
       "       'Дикая жизнь', 'Голоса за кадром', 'Трамбо',\n",
       "       'Кошачьи миры Луиса Уэйна', 'Последняя дуэль', 'Законы границ',\n",
       "       'Старый Генри', 'Анчартед: На картах не значится', 'Плохие парни',\n",
       "       'Прибытие', 'Случайность и догадка', 'Красный призрак',\n",
       "       'Свет вокруг', 'Здесь и сейчас', 'Разлом Сан-Андреас',\n",
       "       'Angry Birds  в кино', 'Джуманджи: Новый уровень', 'Папа, сдохни',\n",
       "       'Миссия невыполнима: Племя изгоев', 'Брачная история', 'Покерфейс',\n",
       "       'Бессмертный', 'Мое преступление', 'Всевидящее око',\n",
       "       'Арахисовый сокол', 'Маяк', 'Охота на дикарей',\n",
       "       'Тайлер Рейк: Операция по спасению ', 'Три мушкетера: Д’Артаньян',\n",
       "       'День курка', 'Малыш на драйве', 'Тряпичный союз',\n",
       "       'Тор : Царство тьмы', 'Множественные святые Ньюарка',\n",
       "       'Грань будущего', 'Марсианин', 'Свинья',\n",
       "       \"Отель 'Мэриголд': Лучший из экзотических\",\n",
       "       'Майор Гром: Чумной доктор', 'Безумная свадьба',\n",
       "       'Миссис Хендерсон представляет', 'Игры шпионов',\n",
       "       'Великий уравнитель', 'Дорогие товарищи', 'Там, где раки поют',\n",
       "       'Тайлер Рейк: Операция по спасению', 'Призрачная шестерка',\n",
       "       'За пивом', 'Омерзительная восьмерка', 'Хеллбой',\n",
       "       'CODA: Ребенок глухих родителей', 'Худший человек на свете',\n",
       "       'Параллельные матери', 'Хорошее время', 'Хоть раз в жизни',\n",
       "       'Экипаж', 'К черту на рога', 'Гадкий я ', 'Кровавая Мари',\n",
       "       'Занесло', 'Фантастический Флиткрофт', 'Флэш', 'Лютер', 'Элвис',\n",
       "       'Прошлой ночью в Сохо', 'Тихая ночь', 'Неисправимый Рон',\n",
       "       'Маленькие секреты большой компании', 'Шафт', 'Разговорник',\n",
       "       'Черный Адам', 'Искусство самообороны',\n",
       "       'Пираты Карибского моря: Мертвецы не рассказывают сказки',\n",
       "       'Трудный день', 'Сомнение', 'В погоне за Бонни и Клайдом',\n",
       "       'Оккупант', 'Все и сразу', 'Мистериум. Начало', 'Кит',\n",
       "       'Закатать в асфальт', 'Бойфренд из будущего', 'Холоп',\n",
       "       'Полицейский седан', 'Счастливого дня смерти', 'Жизнь впереди',\n",
       "       'Страсти Дон Жуана', 'Эта - дурацкая - любовь', 'Бандит',\n",
       "       'Дождливый день в Нью-Йорке', 'Камуфляж и шпионаж',\n",
       "       'Захочу и соскочу', 'Героические лузеры', 'Хэппи-энд',\n",
       "       'Разрушение', 'Железные небеса',\n",
       "       'Музыкальный конкурс \"Евровидение\": История группы Fire Saga',\n",
       "       'Маленькая смерть', 'Безумно богатые азиаты', 'Джек Райан',\n",
       "       'Starперцы', 'Дед, привет', 'РЭД ', 'Во всё тяжкое',\n",
       "       'Агент : Из Африки с любовью', 'Иллюзия обмана',\n",
       "       'Рейкьявик-Роттердам', 'Бестселлер',\n",
       "       'Ледниковый период : Континентальный дрейф', 'Под солнцем Тосканы',\n",
       "       'Zомбилэнд: Контрольный выстрел', 'Короли интриги',\n",
       "       'Месть от кутюр', 'Кровные узы', 'Хороший человек',\n",
       "       'Один день в Европе', 'Сквозь снег', 'Малавита', 'Инглиш-винглиш',\n",
       "       'Амстердам', 'Эффект колибри', 'Без обид', 'Координаты Скайфолл',\n",
       "       'Радиозвезды', 'Паркер', 'Напролом', 'Жить', 'Мой ужасный сосед',\n",
       "       'Последний поезд в Рождество', 'Шеф', 'Афера под прикрытием',\n",
       "       'Новые приключения Аладдина', 'Пипец ', 'Мажоры на мели',\n",
       "       'Танцуй отсюда', 'Одаренная', '..', 'Билет в рай', 'Ниже нуля',\n",
       "       'Щедрость Перрье', 'Опасная игра Слоун',\n",
       "       'Невероятные приключения факира', 'Квадрат', 'Шпион', 'Глубже!',\n",
       "       'Нагиев на карантине', 'Обратная связь', 'Тело', 'Вторжение',\n",
       "       'Битва полов', 'Прометей', 'Закону тут не место', 'Ворчун',\n",
       "       'Великий уравнитель ', 'Джон Уик', 'Самый лучший день',\n",
       "       'Давай разведемся!', 'Поездка в Америку ',\n",
       "       'Плейбой под прикрытием', 'Девушка, подающая надежды',\n",
       "       'Та еще парочка', 'Война будущего', 'Огонь', 'Одесса',\n",
       "       'Тайная жизнь домашних животных ', 'День выборов ',\n",
       "       'Право на лево', 'Ла-Ла Ленд', 'Без границ', 'Красное уведомление',\n",
       "       'Эволюция Борна', 'Воздушный маршал', 'Обливион', 'План побега',\n",
       "       'Меч короля Артура', 'Три секунды', 'Большая афера',\n",
       "       'Штурм Белого дома', 'Величайший шоумен', 'Капитан Фантастик',\n",
       "       'Хороший мальчик', 'Соловей-разбойник', 'Самый жестокий год',\n",
       "       'О чём говорят мужчины. Продолжение', 'Современная любовь',\n",
       "       'Срочная доставка', 'Рассказы', 'Индюки: Назад в будущее',\n",
       "       'Два ствола', 'Пара из будущего', 'Жажда смерти', 'Борьба шефов',\n",
       "       'Лига справедливости', 'Вавилон', 'Месть', 'Переводчик', 'Белфаст',\n",
       "       'От семьи не убежишь', 'Тайна печати дракона',\n",
       "       'Самолеты: огонь и вода', 'Большая игра', 'Убийца : Против всех',\n",
       "       'Орлеан', 'Летучий отряд Скотланд-Ярда', 'Герой', 'Власть', 'Мы',\n",
       "       'Бросок кобры ', 'Рождественская ночь в Барселоне',\n",
       "       'Кунг-фу панда ', 'Большой куш', 'Призрак', 'Непрощенная',\n",
       "       'Драйвер-Икс', 'Карп отмороженный', 'Жена', 'Афера по-американски',\n",
       "       'Мачете убивает', 'Пассажиры', 'Люси', 'Все могу', 'Джекпот',\n",
       "       'Транс', 'Первый мститель: Противостояние', 'Фокус', 'Дюнкерк',\n",
       "       'Интервью', 'Город грехов : Женщина, ради которой стоит убивать',\n",
       "       'Хроники ломбарда', 'Последний шанс Харви', 'Терминатор: Генезис',\n",
       "       'Война миров Z ', 'Джек Ричер : Никогда не возвращайся', 'Спутник',\n",
       "       'Союзники', 'Не дыши', 'Возвращение героя',\n",
       "       \"Код доступа 'Кейптаун'\", 'Пушки, телки и азарт', 'Коллектор',\n",
       "       'Повар на колесах',\n",
       "       'Бэтмен против Супермена: На заре справедливости',\n",
       "       'Черная зависть', 'Ключ Саламандры', 'Хороший лжец', 'Горько ',\n",
       "       'Люди в черном: Интернэшнл', 'Интерстеллар', 'Гена-Бетон',\n",
       "       'Торжество', 'Король Ричард', 'Варяг', 'Несносные боссы ',\n",
       "       'Мисс Петтигрю', 'Большие глаза', 'Риддик', 'Значит, война?',\n",
       "       'Чудо-женщина', 'Поцелуй дракона', 'Бриллиантовый картель',\n",
       "       'Охотники на гангстеров', 'Вдовы', 'SuperАлиби',\n",
       "       'Матрица: Воскрешение', 'Дуэлянт', 'Полтора шпиона',\n",
       "       'Все включено ', 'С новым годом, мамы!', 'Любовь от всех болезней',\n",
       "       'Вспомнить все', 'Кома', 'Заложница ', 'Мама мафия',\n",
       "       'Тройная граница', 'Суперплохие', 'Притяжение', 'Самолеты',\n",
       "       'Великий Гэтсби', 'Двадцать одно', 'Морской бой',\n",
       "       'Изобретение лжи', 'Любовь с акцентом', 'Время',\n",
       "       'Очень плохие парни', 'Превосходство',\n",
       "       'Президент Линкольн: Охотник на вампиров',\n",
       "       'Три икса: Мировое господство', 'Супербобровы', 'Дом Гуччи',\n",
       "       'Охота на воров', 'Пляжный бездельник', 'King’s Man: Начало',\n",
       "       'Миллиард', ': Спектр', 'Неприкасаемые',\n",
       "       'Крепкий орешек: Хороший день, чтобы умереть', 'Солдаты удачи',\n",
       "       'Замуж на  дня', 'Статус: Свободен', 'Максимальный удар',\n",
       "       'Нападение на Рио Браво', 'Разборка в Маниле',\n",
       "       'Росомаха: Бессмертный', 'Защитники', 'Ограбление по-американски',\n",
       "       'Страна чудес', 'Черная роза', 'Проклятый путь', 'Дикая штучка',\n",
       "       'Поле битвы - Земля..Комментарии', 'Скорость-', 'Рокки Бальбоа',\n",
       "       'Крестный отец II', 'Взломщики сердец',\n",
       "       'Мама, не горюй..Комментарии', 'Одинокие сердца',\n",
       "       'Признания опасного человека', 'Подпольная империя',\n",
       "       'Реальная любовь', 'Мамма Миа!',\n",
       "       'Дорога на Арлингтон..Комментарии', 'Малхолланд драйв',\n",
       "       'Боги и монстры', 'Линкольн для адвоката', 'Обитаемый остров',\n",
       "       'Легенда о пианисте', 'Рапунцель: Запутанная история',\n",
       "       'Властелин колец: две башни', 'Елки', 'Лак для волос',\n",
       "       'Дневной дозор', 'Добро пожаловать в Коллинвуд',\n",
       "       'История игрушек: Большой побег', 'Семь', 'Охота на пиранью',\n",
       "       'Ватель', 'Скала..Комментарии', 'Яйцеголовые', 'Сатисфакция',\n",
       "       'Братва', 'Крепкий орешек ', 'Послезавтра', 'Заплати другому',\n",
       "       'Зеленая миля..Комментарии', 'Хранители', 'V значит Вендетта',\n",
       "       'Подержанные львы', 'Зодиак', 'Модильяни',\n",
       "       'Очень русский детектив', 'Тор', 'Ямакаси',\n",
       "       'Ледниковый период : Эра динозавров', 'Багси', 'Суперсемейка',\n",
       "       'Девушка из воды', 'Шерлок Холмс', 'Давай сделаем это по-быстрому',\n",
       "       'Заложник', 'Алиса в Стране чудес',\n",
       "       'Широко закрытые глаза..Комментарии', 'Поцелуй бабочки',\n",
       "       'Лесная братва', 'Билли Батгейт', 'Правда о Чарли',\n",
       "       'Алюминиевые человечки', 'Матрица: Революция',\n",
       "       'Класс..Комментарии', 'Четыре льва', 'Легенда Зорро',\n",
       "       'Шерлок Холмс: Игра теней', 'Переполох..Комментарии',\n",
       "       'Час пик..Комментарии', 'Банды Нью-Йорка', 'Дом летающих кинжалов',\n",
       "       'Правила съема: метод Хитча', 'Бар..Комментарии', 'Ванильное небо',\n",
       "       'Быстрый и мертвый..Комментарии', 'Любовник',\n",
       "       'Страх и ненависть в Лас-Вегасе', 'Близнецы', 'Сокровище нации',\n",
       "       'Хороший год', 'Город Зеро..Комментарии', 'Дневник Бриджет Джонс',\n",
       "       'Война миров', 'Боец', 'Без чувств..Комментарии', 'Хэнкок',\n",
       "       'Хранители сети', 'Миссия невыполнима - ..Комментарии',\n",
       "       'Фанфан-Тюльпан', 'Поцелуй навылет', 'Мышьяк и старые кружева',\n",
       "       'Завтрак для чемпионов..Комментарии', 'Плохой Санта', 'Робин Гуд',\n",
       "       'Роллербол', 'Во власти наваждения',\n",
       "       'Астерикс и Обеликс против Цезаря', 'Обратный отсчет',\n",
       "       'Солянка по-кентуккийски', 'ДМБ-..Комментарии',\n",
       "       'Экстази..Комментарии', 'Интервью с вампиром: вампирские хроники',\n",
       "       'Радиоволна..Комментарии', 'Оправданная жестокость',\n",
       "       'Крестные отцы', 'Куда приводят мечты..Комментарии',\n",
       "       'Эффект бабочки', 'Воображариум доктора Парнаса',\n",
       "       'Лунный папа..Комментарии', 'Человек у окна', 'Больше, чем жизнь',\n",
       "       'Счастливое число Слевина', 'ДМБ..Комментарии', 'Мальчишник',\n",
       "       'Трансформеры', 'Отель Парадизо', 'Обитель зла',\n",
       "       'Молодость, больница, любовь', 'Счастливый конец',\n",
       "       'Сержант Билко..Комментарии', 'Большой Куш', 'Настройщик',\n",
       "       'Сладкий и гадкий', 'Большие гонки', 'После прочтения сжечь',\n",
       "       'Девушка из кафе', 'Бессонница', 'Домино', 'Бабло',\n",
       "       'Бедные родственники', 'Мистер Бейсбол', 'Легенды осени',\n",
       "       'Благодетель', 'Ночь в Роксбери..Комментарии',\n",
       "       'Боги, наверное, сошли с ума', 'Ларго Винч: начало', 'Мушкетер',\n",
       "       'Короли шутки', 'Выбор судьбы', 'Шулеры', 'Шоу начинается',\n",
       "       'Мадагаскар', '', 'Голый король', 'Телепорт', 'Гнев',\n",
       "       'Ничего личного', 'Ленинградские ковбои едут в Америку', 'Пекло',\n",
       "       'Принц Персии: пески времени', 'За спичками..Комментарии',\n",
       "       'Даже не думай..Комментарии', 'День Д', 'Трасса ', 'Пристрели их',\n",
       "       'Бей в кость..Комментарии', 'Гонщик', 'Александр', 'Рататуй',\n",
       "       'Безумные похороны', 'Американцы', 'Госфорд Парк', 'Авиатор',\n",
       "       'Убийцы на замену', 'О чем еще говорят мужчины',\n",
       "       'Карты, деньги & два ствола..Комментарии', ' сигарет..Комментарии',\n",
       "       'Ранго', 'Почему я?..Комментарии', 'Константин: повелитель тьмы',\n",
       "       'Механик', 'Военный ныряльщик..Комментарии', 'Адреналин ',\n",
       "       'Брат-..Комментарии', 'Криминальное чтиво', 'Ангел-А',\n",
       "       'Бобро Поржаловать', 'Дом Большой Мамы..Комментарии',\n",
       "       'Терминатор : Восстание машин', 'Жмурки',\n",
       "       'Еще одна из рода Болейн', 'Идальго: погоня в пустыне',\n",
       "       'Миссия на Марс..Комментарии', 'Шпионы как мы', 'Эквилибриум',\n",
       "       'Изображая жертву', 'Дом из песка и тумана',\n",
       "       'Чокнутый профессор-..Комментарии', 'Чего хотят женщины',\n",
       "       'Хоттабыч', 'Солт', 'Уоллес и Громит: Проклятие кролика-оборотня',\n",
       "       'Дублер', 'Травка', 'Неудержимые', 'Пришельцы в Америке',\n",
       "       'Запределье', 'Тайна Ордена', 'Звонок', 'Оскар',\n",
       "       'Со мною вот что происходит', 'Однажды в Америке',\n",
       "       'Король вечеринок', 'Время бешеных псов', 'Друзья Питера',\n",
       "       'Люди в черном ', 'Откройте, полиция', 'Стелс', 'Области тьмы',\n",
       "       'Управление гневом', 'Скрытое', 'Железный человек',\n",
       "       'Люди Икс: Первый класс', 'Биоволк', 'Персонаж', 'Магнолия',\n",
       "       'Планета страха', 'Из Парижа с любовью', 'Без лица..Комментарии',\n",
       "       'Убить Билла. Фильм ', 'Ты - труп', 'Мечта Кассандры', 'Драйв',\n",
       "       'Кикуджиро..Комментарии', 'Волкодав', 'Ночи в стиле буги',\n",
       "       'Во власти Луны', 'Фаворит', 'Уимблдон',\n",
       "       'Во всем виноват посыльный', 'Ронал-варвар', 'Нечего терять',\n",
       "       'Отчаянный', 'Турецкий гамбит', 'Правдивая история Красной Шапки',\n",
       "       'День независимости', 'Делай ноги', 'Тетка Чарли',\n",
       "       'Такси..Комментарии', 'Корабль-призрак', 'В последний момент',\n",
       "       'Двойной КОПец', 'Мажестик', 'Необычайные приключения Адель',\n",
       "       'Восток есть Восток..Комментарии', 'Ледяной урожай', 'Амели',\n",
       "       'Небесный капитан и мир будущего', 'Компаньоны', ' лун', 'Престиж',\n",
       "       'Машина времени', 'Агент : миссия в Рио', 'Свои', 'Самозванцы',\n",
       "       'Сука любовь', 'Дура', 'Невероятный Халк',\n",
       "       'Охотники за сокровищами', 'Черная молния', 'Планета обезьян',\n",
       "       'Большие неприятности', 'Астерикс на олимпийских играх',\n",
       "       'Визит дамы..Комментарии', 'Голубая бездна..Комментарии',\n",
       "       'Все возможно, бэби', 'Разборки в стиле кунг-фу',\n",
       "       'Ключи от машины', 'Миллионер поневоле', 'Сириана', 'Рыцарь дня',\n",
       "       'Голливудские копы',\n",
       "       'Американский оборотень в Париже..Комментарии',\n",
       "       'Трудности перевода', 'Очень дикие штучки', 'Платон', 'Эд Вуд',\n",
       "       'Бешеные псы', 'Артефакт', 'Ромовый дневник',\n",
       "       'БЕЙСкетбол..Комментарии', 'Сокровище Амазонки', 'Школа негодяев',\n",
       "       'Артист', 'Анализируй это..Комментарии',\n",
       "       'Баллистика: Экс против Сивер', 'Царство Небесное', 'Час пик ',\n",
       "       'Двое - это слишком..Комментарии', 'Ночной дозор',\n",
       "       'Убийство в Вегасе', 'Антикиллер', 'Превосходство Борна',\n",
       "       'Аризонская мечта', 'Покровские ворота', 'Где моя тачка, чувак?',\n",
       "       'Просто кровь', '-й район: ультиматум', 'Стрелок', 'Вверх',\n",
       "       'Среди акул', 'Мальчишник : из Вегаса в Бангкок',\n",
       "       'Команда Америка: мировая полиция', 'Социальная сеть', 'Шрэк',\n",
       "       'Шпионские игры', 'Оружейный барон', 'Охотники за головами',\n",
       "       'Беги, Лола, беги..Комментарии', 'Бандиты', 'Мошенники',\n",
       "       'Донни Дарко', 'Быстрые перемены', 'Я - легенда',\n",
       "       'Траффик..Комментарии', 'Клерки', 'Интернэшнл', 'Гарри Браун',\n",
       "       'Казино', 'Инстинкт..Комментарии', 'Миссис Даутфайр', 'Питер FM',\n",
       "       'Параграф ', 'Аферисты: Дик и Джейн развлекаются',\n",
       "       'Хороший, плохой, странный', 'Обмен телами', 'Звездная пыль',\n",
       "       'Угнать за  секунд..Комментарии', 'Троя', 'Соучастник'],\n",
       "      dtype=object)"
      ]
     },
     "execution_count": 10,
     "metadata": {},
     "output_type": "execute_result"
    }
   ],
   "source": [
    "# Избавимся от чисел в названии фильма\n",
    "\n",
    "final_df['Title'] = final_df['Title'].apply(lambda x: re.sub(r'\\d', '', x))\n",
    "\n",
    "final_df['Title'].unique()"
   ]
  },
  {
   "cell_type": "code",
   "execution_count": 11,
   "id": "86d1ecf2",
   "metadata": {},
   "outputs": [
    {
     "data": {
      "text/plain": [
       "array(['Настоящий детектив ', 'Настоящий детектив', 'Хорас и Пит',\n",
       "       'Ход королевы', 'Рома', 'Безумный Макс: Дорога ярости',\n",
       "       'Чернобыль', 'Дело Ричарда Джуэлла', 'Во все тяжкие',\n",
       "       'Удивительная миссис Мейзел', 'Лучше звоните Солу. Шестой сезон',\n",
       "       'Удивительная миссис Мейзел. -й сезон', 'Бумажный дом',\n",
       "       'Постановка', 'Каратель', '«Питер Пэн» пошел не так',\n",
       "       'Большая секунда', 'Тед Лассо', 'Наследники',\n",
       "       'Постановка - -й сезон', 'Однажды ночью', 'Двойник', 'Фарго',\n",
       "       'Босс', 'Баллада Бастера Скраггса', 'Одержимость', 'Банши', '+',\n",
       "       'Домашний арест', 'Мстители', 'Предприятие \"Божий дар\"', 'Дрянь',\n",
       "       'Один слуга, два господина', 'Благие знамения', 'Шоу пошло не так',\n",
       "       'Я жив', 'Дюна', 'Мейр из Исттауна', 'Наследники. Третий сезон',\n",
       "       'Наследники. Финальный сезон', 'Андор',\n",
       "       'Отряд самоубийц: Миссия навылет', 'Хэппи', 'Озарк',\n",
       "       'Что знает Оливия', 'Отец', 'Засланец из космоса', 'Боль и слава',\n",
       "       'Звук металла', 'Человек-паук: Вдали от дома', 'Обычная женщина',\n",
       "       'Фауда', 'Игра в кальмара',\n",
       "       'Убийства в одном здании. Второй сезон',\n",
       "       'Побег из тюрьмы Даннемора', 'Загрузка. Второй сезон', 'Загрузка',\n",
       "       'Стражи Галактики', 'Такси', 'Чествование', 'Прикуп',\n",
       "       'Боже, благослови Америку', \"Отель 'Гранд Будапешт'\",\n",
       "       'Первый день оставшейся жизни', 'Песня ланча',\n",
       "       'Как приручить дракона ', 'Лучше звоните Солу', 'Три идиота',\n",
       "       'Голгофа', 'Доктор Стрэндж', 'Королевство полной луны',\n",
       "       'Стражи Галактики. Часть ', 'Жизнь Пи',\n",
       "       'Далласский клуб покупателей', 'Хоббит: Пустошь Смауга',\n",
       "       'Карточный домик', 'Мстители: Война бесконечности', 'Головоломка',\n",
       "       'Хардкор', 'Дэдпул ', 'Хоббит: Нежданное путешествие',\n",
       "       'Суперсемейка ', 'Бёрдмэн', 'Любовь, смерть и роботы',\n",
       "       'Зверополис', 'Утреннее шоу', 'Джанго освобожденный',\n",
       "       'Двенадцатая ночь', 'Однажды в... Голливуде',\n",
       "       'Вы звонили, милорд?', 'Охота', 'Волк с Уолл-стрит',\n",
       "       'Дьявол всегда здесь', 'Ванда', 'Хитрости', 'Звоните ДиКаприо!',\n",
       "       'Визави', 'Холодная война', 'Детство Шелдона',\n",
       "       'Охотник за разумом', 'Сцены из супружеской жизни', 'Рейк',\n",
       "       'Суд над чикагской семеркой', 'Джек Ричер', 'Гнев человеческий',\n",
       "       'Страйк', 'Кот в сапогах : Последнее желание',\n",
       "       'Белый лотос. Второй сезон', 'Зеленая книга',\n",
       "       'Видоизмененный углерод', 'Любой ценой', 'Ford против Ferrari',\n",
       "       ' метров', 'Станционный смотритель', 'Мост', 'Лофт', 'Логан',\n",
       "       'Аритмия', 'Бумажный дом - пятый сезон, первая часть',\n",
       "       'Шан-Чи и легенда десяти колец',\n",
       "       'Французский вестник. Приложение к газете «Либерти. Канзас ивнинг сан»',\n",
       "       'Я создан для тебя', 'Битые пиксели', 'Семейный брак',\n",
       "       'Белый лотос', 'Меню', 'Из машины', 'В тихом омуте',\n",
       "       'История игрушек ', 'Дес', 'Виновный', 'Треугольник печали',\n",
       "       'Еще по одной', 'Аргентина, ', 'Отыграть назад', 'Черная птица',\n",
       "       'Прочь', 'Монах и бес', 'Армагеддец', 'Сыны анархии', 'Дэдпул',\n",
       "       'Очень странные дела', 'Тайная жизнь домашних животных', 'Гонка',\n",
       "       'Ветреная река', 'Однокурсники', 'Первый мститель: Другая война',\n",
       "       'Невидимый гость', 'Kingsman: Секретная служба', 'Неудержимые ',\n",
       "       'Телохранитель киллера', 'Судья', 'Игра в правду', 'Аннигиляция',\n",
       "       'Выстрел в пустоту', 'Исчезнувшая', 'Человек с Земли',\n",
       "       'Дикие предки', 'Валентинка', 'Быстрые стволы', 'Авеню ',\n",
       "       'Прощальный квартет', 'Острые предметы', 'Форма воды',\n",
       "       'Ральф против Интернета', 'Преступник', 'El Camino: Во все тяжкие',\n",
       "       'Жили-были', 'Душа', 'Грешники', 'Достать коротышку',\n",
       "       'Во время грозы', 'Дэдвуд', 'Охотник за разумом. Второй сезон',\n",
       "       'Форс-мажоры', 'Тед Лассо. Второй сезон', 'Тоня против всех',\n",
       "       'Человек-паук: Нет пути домой', 'Большой злой лис и другие сказки',\n",
       "       'Мэр Кингстауна', 'Вторая жизнь Уве', 'Энканто', 'Люпен',\n",
       "       'Миньоны: Грювитация', 'Воспитанные волками', 'Эмма.',\n",
       "       'Третья планета от Солнца', 'Ирландец',\n",
       "       'Операция «Фортуна»: Искусство побеждать', 'Банды Лондона',\n",
       "       'Стэн и Олли', 'Грейхаунд', 'Рик и Морти', 'Метод', 'Код ',\n",
       "       'Звезда родилась', 'Зависнуть в Палм-Спрингс',\n",
       "       'Меня зовут Долемайт', 'По версии Барни', 'Ограбление века',\n",
       "       'Темные времена', 'Сити-Айленд', 'Дети природы', 'В конце туннеля',\n",
       "       'Бедные люди', 'До свидания там, наверху',\n",
       "       'Как Витька Чеснок вез Леху Штыря в дом инвалидов..', 'Лука',\n",
       "       'Пришельцы из прошлого', 'Убийца', 'Правосудие', 'Каникулы мечты',\n",
       "       'Вечная жизнь Александра Христофорова', 'Кривые линии Бога',\n",
       "       'Богемская рапсодия', 'Сделано в Америке',\n",
       "       'Смотрите, как они бегут',\n",
       "       'В этом мире я больше не чувствую себя как дома',\n",
       "       'Гангстер, коп и дьявол', 'Черный клановец', 'Патруль',\n",
       "       'Доктор Стрэндж: В мультивселенной безумия', 'Дикая история',\n",
       "       'Любители истории', 'Банкир', 'Потомок', 'Человек-муравей и Оса',\n",
       "       'Иностранец', 'Человек из стали', 'Пингвины Мадагаскара',\n",
       "       'Отряд самоубийц', 'Новейший завет', 'Горько', 'Прогулка',\n",
       "       'За канделябрами', 'Самый опасный человек', 'Железный человек ',\n",
       "       'Перестрелка', 'Идеальные незнакомцы', 'Неуязвимая мишень',\n",
       "       'Мордекай', 'Страна ОЗ', 'Планета обезьян: Революция',\n",
       "       'Я очень возбужден', 'Гадкий я', 'Реальные упыри',\n",
       "       'Ограбление казино', 'Дикие истории', 'Мстители: Эра Альтрона',\n",
       "       'Удача Логана', ' подруг Оушена', 'Реальные парни', 'Голиаф',\n",
       "       'Я худею', 'Нокаут', 'Очень мюрреевское Рождество',\n",
       "       'Призрачная нить', 'Форсаж ', 'Непотопляемые',\n",
       "       'Монстры на каникулах : Море зовет', 'Фарго ', 'Резня',\n",
       "       'Книга джунглей', 'Лучшее предложение', 'Черная месса',\n",
       "       'Дурацкое дело нехитрое', 'Семья по-быстрому', 'Связь', 'Сплит',\n",
       "       'Барри', 'Рокетмен', 'Джон Уик ', 'На грани', 'Патруль времени',\n",
       "       'Тюрьма ', 'Стендапер по жизни', 'Темные воды', 'Последняя капля',\n",
       "       'Космические силы', 'Никто', 'Я иду искать', 'Судья Дредд D',\n",
       "       'Air: Большой прыжок', 'Триггер', 'Фердинанд', 'Класс',\n",
       "       'Все включено', 'Прекрасный день по соседству', 'Защищая Джейкоба',\n",
       "       'Дикая жизнь', 'Голоса за кадром', 'Трамбо',\n",
       "       'Кошачьи миры Луиса Уэйна', 'Последняя дуэль', 'Законы границ',\n",
       "       'Старый Генри', 'Анчартед: На картах не значится', 'Плохие парни',\n",
       "       'Прибытие', 'Случайность и догадка', 'Красный призрак',\n",
       "       'Свет вокруг', 'Здесь и сейчас', 'Разлом Сан-Андреас',\n",
       "       'Angry Birds  в кино', 'Джуманджи: Новый уровень', 'Папа, сдохни',\n",
       "       'Миссия невыполнима: Племя изгоев', 'Брачная история', 'Покерфейс',\n",
       "       'Бессмертный', 'Мое преступление', 'Всевидящее око',\n",
       "       'Арахисовый сокол', 'Маяк', 'Охота на дикарей',\n",
       "       'Тайлер Рейк: Операция по спасению ', 'Три мушкетера: Д’Артаньян',\n",
       "       'День курка', 'Малыш на драйве', 'Тряпичный союз',\n",
       "       'Тор : Царство тьмы', 'Множественные святые Ньюарка',\n",
       "       'Грань будущего', 'Марсианин', 'Свинья',\n",
       "       \"Отель 'Мэриголд': Лучший из экзотических\",\n",
       "       'Майор Гром: Чумной доктор', 'Безумная свадьба',\n",
       "       'Миссис Хендерсон представляет', 'Игры шпионов',\n",
       "       'Великий уравнитель', 'Дорогие товарищи', 'Там, где раки поют',\n",
       "       'Тайлер Рейк: Операция по спасению', 'Призрачная шестерка',\n",
       "       'За пивом', 'Омерзительная восьмерка', 'Хеллбой',\n",
       "       'CODA: Ребенок глухих родителей', 'Худший человек на свете',\n",
       "       'Параллельные матери', 'Хорошее время', 'Хоть раз в жизни',\n",
       "       'Экипаж', 'К черту на рога', 'Гадкий я ', 'Кровавая Мари',\n",
       "       'Занесло', 'Фантастический Флиткрофт', 'Флэш', 'Лютер', 'Элвис',\n",
       "       'Прошлой ночью в Сохо', 'Тихая ночь', 'Неисправимый Рон',\n",
       "       'Маленькие секреты большой компании', 'Шафт', 'Разговорник',\n",
       "       'Черный Адам', 'Искусство самообороны',\n",
       "       'Пираты Карибского моря: Мертвецы не рассказывают сказки',\n",
       "       'Трудный день', 'Сомнение', 'В погоне за Бонни и Клайдом',\n",
       "       'Оккупант', 'Все и сразу', 'Мистериум. Начало', 'Кит',\n",
       "       'Закатать в асфальт', 'Бойфренд из будущего', 'Холоп',\n",
       "       'Полицейский седан', 'Счастливого дня смерти', 'Жизнь впереди',\n",
       "       'Страсти Дон Жуана', 'Эта - дурацкая - любовь', 'Бандит',\n",
       "       'Дождливый день в Нью-Йорке', 'Камуфляж и шпионаж',\n",
       "       'Захочу и соскочу', 'Героические лузеры', 'Хэппи-энд',\n",
       "       'Разрушение', 'Железные небеса',\n",
       "       'Музыкальный конкурс \"Евровидение\": История группы Fire Saga',\n",
       "       'Маленькая смерть', 'Безумно богатые азиаты', 'Джек Райан',\n",
       "       'Starперцы', 'Дед, привет', 'РЭД ', 'Во всё тяжкое',\n",
       "       'Агент : Из Африки с любовью', 'Иллюзия обмана',\n",
       "       'Рейкьявик-Роттердам', 'Бестселлер',\n",
       "       'Ледниковый период : Континентальный дрейф', 'Под солнцем Тосканы',\n",
       "       'Zомбилэнд: Контрольный выстрел', 'Короли интриги',\n",
       "       'Месть от кутюр', 'Кровные узы', 'Хороший человек',\n",
       "       'Один день в Европе', 'Сквозь снег', 'Малавита', 'Инглиш-винглиш',\n",
       "       'Амстердам', 'Эффект колибри', 'Без обид', 'Координаты Скайфолл',\n",
       "       'Радиозвезды', 'Паркер', 'Напролом', 'Жить', 'Мой ужасный сосед',\n",
       "       'Последний поезд в Рождество', 'Шеф', 'Афера под прикрытием',\n",
       "       'Новые приключения Аладдина', 'Пипец ', 'Мажоры на мели',\n",
       "       'Танцуй отсюда', 'Одаренная', '..', 'Билет в рай', 'Ниже нуля',\n",
       "       'Щедрость Перрье', 'Опасная игра Слоун',\n",
       "       'Невероятные приключения факира', 'Квадрат', 'Шпион', 'Глубже!',\n",
       "       'Нагиев на карантине', 'Обратная связь', 'Тело', 'Вторжение',\n",
       "       'Битва полов', 'Прометей', 'Закону тут не место', 'Ворчун',\n",
       "       'Великий уравнитель ', 'Джон Уик', 'Самый лучший день',\n",
       "       'Давай разведемся!', 'Поездка в Америку ',\n",
       "       'Плейбой под прикрытием', 'Девушка, подающая надежды',\n",
       "       'Та еще парочка', 'Война будущего', 'Огонь', 'Одесса',\n",
       "       'Тайная жизнь домашних животных ', 'День выборов ',\n",
       "       'Право на лево', 'Ла-Ла Ленд', 'Без границ', 'Красное уведомление',\n",
       "       'Эволюция Борна', 'Воздушный маршал', 'Обливион', 'План побега',\n",
       "       'Меч короля Артура', 'Три секунды', 'Большая афера',\n",
       "       'Штурм Белого дома', 'Величайший шоумен', 'Капитан Фантастик',\n",
       "       'Хороший мальчик', 'Соловей-разбойник', 'Самый жестокий год',\n",
       "       'О чём говорят мужчины. Продолжение', 'Современная любовь',\n",
       "       'Срочная доставка', 'Рассказы', 'Индюки: Назад в будущее',\n",
       "       'Два ствола', 'Пара из будущего', 'Жажда смерти', 'Борьба шефов',\n",
       "       'Лига справедливости', 'Вавилон', 'Месть', 'Переводчик', 'Белфаст',\n",
       "       'От семьи не убежишь', 'Тайна печати дракона',\n",
       "       'Самолеты: огонь и вода', 'Большая игра', 'Убийца : Против всех',\n",
       "       'Орлеан', 'Летучий отряд Скотланд-Ярда', 'Герой', 'Власть', 'Мы',\n",
       "       'Бросок кобры ', 'Рождественская ночь в Барселоне',\n",
       "       'Кунг-фу панда ', 'Большой куш', 'Призрак', 'Непрощенная',\n",
       "       'Драйвер-Икс', 'Карп отмороженный', 'Жена', 'Афера по-американски',\n",
       "       'Мачете убивает', 'Пассажиры', 'Люси', 'Все могу', 'Джекпот',\n",
       "       'Транс', 'Первый мститель: Противостояние', 'Фокус', 'Дюнкерк',\n",
       "       'Интервью', 'Город грехов : Женщина, ради которой стоит убивать',\n",
       "       'Хроники ломбарда', 'Последний шанс Харви', 'Терминатор: Генезис',\n",
       "       'Война миров Z ', 'Джек Ричер : Никогда не возвращайся', 'Спутник',\n",
       "       'Союзники', 'Не дыши', 'Возвращение героя',\n",
       "       \"Код доступа 'Кейптаун'\", 'Пушки, телки и азарт', 'Коллектор',\n",
       "       'Повар на колесах',\n",
       "       'Бэтмен против Супермена: На заре справедливости',\n",
       "       'Черная зависть', 'Ключ Саламандры', 'Хороший лжец', 'Горько ',\n",
       "       'Люди в черном: Интернэшнл', 'Интерстеллар', 'Гена-Бетон',\n",
       "       'Торжество', 'Король Ричард', 'Варяг', 'Несносные боссы ',\n",
       "       'Мисс Петтигрю', 'Большие глаза', 'Риддик', 'Значит, война?',\n",
       "       'Чудо-женщина', 'Поцелуй дракона', 'Бриллиантовый картель',\n",
       "       'Охотники на гангстеров', 'Вдовы', 'SuperАлиби',\n",
       "       'Матрица: Воскрешение', 'Дуэлянт', 'Полтора шпиона',\n",
       "       'Все включено ', 'С новым годом, мамы!', 'Любовь от всех болезней',\n",
       "       'Вспомнить все', 'Кома', 'Заложница ', 'Мама мафия',\n",
       "       'Тройная граница', 'Суперплохие', 'Притяжение', 'Самолеты',\n",
       "       'Великий Гэтсби', 'Двадцать одно', 'Морской бой',\n",
       "       'Изобретение лжи', 'Любовь с акцентом', 'Время',\n",
       "       'Очень плохие парни', 'Превосходство',\n",
       "       'Президент Линкольн: Охотник на вампиров',\n",
       "       'Три икса: Мировое господство', 'Супербобровы', 'Дом Гуччи',\n",
       "       'Охота на воров', 'Пляжный бездельник', 'King’s Man: Начало',\n",
       "       'Миллиард', ': Спектр', 'Неприкасаемые',\n",
       "       'Крепкий орешек: Хороший день, чтобы умереть', 'Солдаты удачи',\n",
       "       'Замуж на  дня', 'Статус: Свободен', 'Максимальный удар',\n",
       "       'Нападение на Рио Браво', 'Разборка в Маниле',\n",
       "       'Росомаха: Бессмертный', 'Защитники', 'Ограбление по-американски',\n",
       "       'Страна чудес', 'Черная роза', 'Проклятый путь', 'Дикая штучка',\n",
       "       'Поле битвы - Земля..', 'Скорость-', 'Рокки Бальбоа',\n",
       "       'Крестный отец II', 'Взломщики сердец', 'Мама, не горюй..',\n",
       "       'Одинокие сердца', 'Признания опасного человека',\n",
       "       'Подпольная империя', 'Реальная любовь', 'Мамма Миа!',\n",
       "       'Дорога на Арлингтон..', 'Малхолланд драйв', 'Боги и монстры',\n",
       "       'Линкольн для адвоката', 'Обитаемый остров', 'Легенда о пианисте',\n",
       "       'Рапунцель: Запутанная история', 'Властелин колец: две башни',\n",
       "       'Елки', 'Лак для волос', 'Дневной дозор',\n",
       "       'Добро пожаловать в Коллинвуд', 'История игрушек: Большой побег',\n",
       "       'Семь', 'Охота на пиранью', 'Ватель', 'Скала..', 'Яйцеголовые',\n",
       "       'Сатисфакция', 'Братва', 'Крепкий орешек ', 'Послезавтра',\n",
       "       'Заплати другому', 'Зеленая миля..', 'Хранители',\n",
       "       'V значит Вендетта', 'Подержанные львы', 'Зодиак', 'Модильяни',\n",
       "       'Очень русский детектив', 'Тор', 'Ямакаси',\n",
       "       'Ледниковый период : Эра динозавров', 'Багси', 'Суперсемейка',\n",
       "       'Девушка из воды', 'Шерлок Холмс', 'Давай сделаем это по-быстрому',\n",
       "       'Заложник', 'Алиса в Стране чудес', 'Широко закрытые глаза..',\n",
       "       'Поцелуй бабочки', 'Лесная братва', 'Билли Батгейт',\n",
       "       'Правда о Чарли', 'Алюминиевые человечки', 'Матрица: Революция',\n",
       "       'Класс..', 'Четыре льва', 'Легенда Зорро',\n",
       "       'Шерлок Холмс: Игра теней', 'Переполох..', 'Час пик..',\n",
       "       'Банды Нью-Йорка', 'Дом летающих кинжалов',\n",
       "       'Правила съема: метод Хитча', 'Бар..', 'Ванильное небо',\n",
       "       'Быстрый и мертвый..', 'Любовник',\n",
       "       'Страх и ненависть в Лас-Вегасе', 'Близнецы', 'Сокровище нации',\n",
       "       'Хороший год', 'Город Зеро..', 'Дневник Бриджет Джонс',\n",
       "       'Война миров', 'Боец', 'Без чувств..', 'Хэнкок', 'Хранители сети',\n",
       "       'Миссия невыполнима - ..', 'Фанфан-Тюльпан', 'Поцелуй навылет',\n",
       "       'Мышьяк и старые кружева', 'Завтрак для чемпионов..',\n",
       "       'Плохой Санта', 'Робин Гуд', 'Роллербол', 'Во власти наваждения',\n",
       "       'Астерикс и Обеликс против Цезаря', 'Обратный отсчет',\n",
       "       'Солянка по-кентуккийски', 'ДМБ-..', 'Экстази..',\n",
       "       'Интервью с вампиром: вампирские хроники', 'Радиоволна..',\n",
       "       'Оправданная жестокость', 'Крестные отцы', 'Куда приводят мечты..',\n",
       "       'Эффект бабочки', 'Воображариум доктора Парнаса', 'Лунный папа..',\n",
       "       'Человек у окна', 'Больше, чем жизнь', 'Счастливое число Слевина',\n",
       "       'ДМБ..', 'Мальчишник', 'Трансформеры', 'Отель Парадизо',\n",
       "       'Обитель зла', 'Молодость, больница, любовь', 'Счастливый конец',\n",
       "       'Сержант Билко..', 'Большой Куш', 'Настройщик', 'Сладкий и гадкий',\n",
       "       'Большие гонки', 'После прочтения сжечь', 'Девушка из кафе',\n",
       "       'Бессонница', 'Домино', 'Бабло', 'Бедные родственники',\n",
       "       'Мистер Бейсбол', 'Легенды осени', 'Благодетель',\n",
       "       'Ночь в Роксбери..', 'Боги, наверное, сошли с ума',\n",
       "       'Ларго Винч: начало', 'Мушкетер', 'Короли шутки', 'Выбор судьбы',\n",
       "       'Шулеры', 'Шоу начинается', 'Мадагаскар', '', 'Голый король',\n",
       "       'Телепорт', 'Гнев', 'Ничего личного',\n",
       "       'Ленинградские ковбои едут в Америку', 'Пекло',\n",
       "       'Принц Персии: пески времени', 'За спичками..', 'Даже не думай..',\n",
       "       'День Д', 'Трасса ', 'Пристрели их', 'Бей в кость..', 'Гонщик',\n",
       "       'Александр', 'Рататуй', 'Безумные похороны', 'Американцы',\n",
       "       'Госфорд Парк', 'Авиатор', 'Убийцы на замену',\n",
       "       'О чем еще говорят мужчины', 'Карты, деньги & два ствола..',\n",
       "       ' сигарет..', 'Ранго', 'Почему я?..',\n",
       "       'Константин: повелитель тьмы', 'Механик', 'Военный ныряльщик..',\n",
       "       'Адреналин ', 'Брат-..', 'Криминальное чтиво', 'Ангел-А',\n",
       "       'Бобро Поржаловать', 'Дом Большой Мамы..',\n",
       "       'Терминатор : Восстание машин', 'Жмурки',\n",
       "       'Еще одна из рода Болейн', 'Идальго: погоня в пустыне',\n",
       "       'Миссия на Марс..', 'Шпионы как мы', 'Эквилибриум',\n",
       "       'Изображая жертву', 'Дом из песка и тумана',\n",
       "       'Чокнутый профессор-..', 'Чего хотят женщины', 'Хоттабыч', 'Солт',\n",
       "       'Уоллес и Громит: Проклятие кролика-оборотня', 'Дублер', 'Травка',\n",
       "       'Неудержимые', 'Пришельцы в Америке', 'Запределье', 'Тайна Ордена',\n",
       "       'Звонок', 'Оскар', 'Со мною вот что происходит',\n",
       "       'Однажды в Америке', 'Король вечеринок', 'Время бешеных псов',\n",
       "       'Друзья Питера', 'Люди в черном ', 'Откройте, полиция', 'Стелс',\n",
       "       'Области тьмы', 'Управление гневом', 'Скрытое', 'Железный человек',\n",
       "       'Люди Икс: Первый класс', 'Биоволк', 'Персонаж', 'Магнолия',\n",
       "       'Планета страха', 'Из Парижа с любовью', 'Без лица..',\n",
       "       'Убить Билла. Фильм ', 'Ты - труп', 'Мечта Кассандры', 'Драйв',\n",
       "       'Кикуджиро..', 'Волкодав', 'Ночи в стиле буги', 'Во власти Луны',\n",
       "       'Фаворит', 'Уимблдон', 'Во всем виноват посыльный', 'Ронал-варвар',\n",
       "       'Нечего терять', 'Отчаянный', 'Турецкий гамбит',\n",
       "       'Правдивая история Красной Шапки', 'День независимости',\n",
       "       'Делай ноги', 'Тетка Чарли', 'Такси..', 'Корабль-призрак',\n",
       "       'В последний момент', 'Двойной КОПец', 'Мажестик',\n",
       "       'Необычайные приключения Адель', 'Восток есть Восток..',\n",
       "       'Ледяной урожай', 'Амели', 'Небесный капитан и мир будущего',\n",
       "       'Компаньоны', ' лун', 'Престиж', 'Машина времени',\n",
       "       'Агент : миссия в Рио', 'Свои', 'Самозванцы', 'Сука любовь',\n",
       "       'Дура', 'Невероятный Халк', 'Охотники за сокровищами',\n",
       "       'Черная молния', 'Планета обезьян', 'Большие неприятности',\n",
       "       'Астерикс на олимпийских играх', 'Визит дамы..',\n",
       "       'Голубая бездна..', 'Все возможно, бэби',\n",
       "       'Разборки в стиле кунг-фу', 'Ключи от машины',\n",
       "       'Миллионер поневоле', 'Сириана', 'Рыцарь дня', 'Голливудские копы',\n",
       "       'Американский оборотень в Париже..', 'Трудности перевода',\n",
       "       'Очень дикие штучки', 'Платон', 'Эд Вуд', 'Бешеные псы',\n",
       "       'Артефакт', 'Ромовый дневник', 'БЕЙСкетбол..',\n",
       "       'Сокровище Амазонки', 'Школа негодяев', 'Артист',\n",
       "       'Анализируй это..', 'Баллистика: Экс против Сивер',\n",
       "       'Царство Небесное', 'Час пик ', 'Двое - это слишком..',\n",
       "       'Ночной дозор', 'Убийство в Вегасе', 'Антикиллер',\n",
       "       'Превосходство Борна', 'Аризонская мечта', 'Покровские ворота',\n",
       "       'Где моя тачка, чувак?', 'Просто кровь', '-й район: ультиматум',\n",
       "       'Стрелок', 'Вверх', 'Среди акул',\n",
       "       'Мальчишник : из Вегаса в Бангкок',\n",
       "       'Команда Америка: мировая полиция', 'Социальная сеть', 'Шрэк',\n",
       "       'Шпионские игры', 'Оружейный барон', 'Охотники за головами',\n",
       "       'Беги, Лола, беги..', 'Бандиты', 'Мошенники', 'Донни Дарко',\n",
       "       'Быстрые перемены', 'Я - легенда', 'Траффик..', 'Клерки',\n",
       "       'Интернэшнл', 'Гарри Браун', 'Казино', 'Инстинкт..',\n",
       "       'Миссис Даутфайр', 'Питер FM', 'Параграф ',\n",
       "       'Аферисты: Дик и Джейн развлекаются', 'Хороший, плохой, странный',\n",
       "       'Обмен телами', 'Звездная пыль', 'Угнать за  секунд..', 'Троя',\n",
       "       'Соучастник'], dtype=object)"
      ]
     },
     "execution_count": 11,
     "metadata": {},
     "output_type": "execute_result"
    }
   ],
   "source": [
    "# Избавимся от лишнего слова Комментарии в названии фильмов\n",
    "\n",
    "final_df['Title'] = final_df['Title'].apply(lambda x: x.replace('Комментарии', ''))\n",
    "final_df['Title'].unique()"
   ]
  },
  {
   "cell_type": "code",
   "execution_count": 13,
   "id": "35b4e629",
   "metadata": {},
   "outputs": [],
   "source": [
    "# Преобразуем колонку date_added в формат date\n",
    "\n",
    "final_df['date_added'] = pd.to_datetime(final_df['date_added'], format = '%d.%m.%Y')\n",
    "final_df['date_added'] = final_df['date_added'].dt.strftime('%Y-%m-%d')"
   ]
  },
  {
   "cell_type": "code",
   "execution_count": 16,
   "id": "17cf0175",
   "metadata": {},
   "outputs": [],
   "source": [
    "final_df['date_added'] = pd.to_datetime(final_df['date_added'], format = '%Y-%m-%d')"
   ]
  },
  {
   "cell_type": "code",
   "execution_count": 19,
   "id": "7e0f9936",
   "metadata": {},
   "outputs": [],
   "source": [
    "# Сохраним датасет\n",
    "\n",
    "final_df.to_csv('Film_parsing.csv')"
   ]
  }
 ],
 "metadata": {
  "kernelspec": {
   "display_name": "Python 3 (ipykernel)",
   "language": "python",
   "name": "python3"
  },
  "language_info": {
   "codemirror_mode": {
    "name": "ipython",
    "version": 3
   },
   "file_extension": ".py",
   "mimetype": "text/x-python",
   "name": "python",
   "nbconvert_exporter": "python",
   "pygments_lexer": "ipython3",
   "version": "3.10.9"
  }
 },
 "nbformat": 4,
 "nbformat_minor": 5
}
